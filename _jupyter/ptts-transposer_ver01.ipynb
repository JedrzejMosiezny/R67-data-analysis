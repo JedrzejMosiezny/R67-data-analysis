{
 "cells": [
  {
   "cell_type": "code",
   "execution_count": null,
   "metadata": {
    "collapsed": true
   },
   "outputs": [],
   "source": [
    "# point timestep transposition"
   ]
  },
  {
   "cell_type": "code",
   "execution_count": 1,
   "metadata": {},
   "outputs": [
    {
     "name": "stdout",
     "output_type": "stream",
     "text": [
      "Loading Libraries...\n",
      "Loaded Libraries...\n"
     ]
    }
   ],
   "source": [
    "print(\"Loading Libraries...\")\n",
    "import os\n",
    "import csv\n",
    "import platform\n",
    "import numpy as np\n",
    "import pandas as pd\n",
    "import dask.dataframe as dd\n",
    "import math\n",
    "import matplotlib.pyplot as plt\n",
    "print(\"Loaded Libraries...\")"
   ]
  },
  {
   "cell_type": "code",
   "execution_count": 2,
   "metadata": {},
   "outputs": [
    {
     "name": "stdout",
     "output_type": "stream",
     "text": [
      "Loading directories..\n",
      "Loaded directories...\n"
     ]
    }
   ],
   "source": [
    "#Local\n",
    "print(\"Loading directories..\")\n",
    "#path_post = 'C:/Users/JMosiezny/Documents/01_PUT/01_DOKTORAT/13_PLGRID/noise-data/int-01-post'\n",
    "path_acu = 'C:/Users/JMosiezny/Documents/01_PUT/01_DOKTORAT/13_PLGRID/noise-data/int-01-post/acu'\n",
    "#path_plots = 'C:/Users/JMosiezny/Documents/01_PUT/01_DOKTORAT/13_PLGRID/noise-data/int-01-post/plots'\n",
    "path_signal = 'C:/Users/JMosiezny/Documents/01_PUT/01_DOKTORAT/13_PLGRID/noise-data/int-01-post/signal'\n",
    "path_rms = 'C:/Users/JMosiezny/Documents/01_PUT/01_DOKTORAT/13_PLGRID/noise-data/int-01-post/rms'\n",
    "print(\"Loaded directories...\")"
   ]
  },
  {
   "cell_type": "code",
   "execution_count": null,
   "metadata": {
    "collapsed": true
   },
   "outputs": [],
   "source": [
    "#wczytaj listę węzłów i zapisz jako listę do pętli zewnętrznej\n",
    "#wczytaj listę plików i zapisz jako listę pętli wewnętrznej"
   ]
  },
  {
   "cell_type": "code",
   "execution_count": null,
   "metadata": {
    "collapsed": true
   },
   "outputs": [],
   "source": [
    "#start pętli zewnętrznej po liście węzłów\n",
    "#zapisz numer węzła jako indeks wiersza z pliku"
   ]
  },
  {
   "cell_type": "code",
   "execution_count": null,
   "metadata": {
    "collapsed": true
   },
   "outputs": [],
   "source": [
    "#start pętli wewnętrznej (for file in filelist)\n",
    "#wyciągnij z nazwy pliku nr timestep\n",
    "#wczytaj pierwszy wiersz pierwszego pliku bez współrzędnych\n",
    "#dodaj kolumnę timestep\n",
    "#zapisz jako DF\n",
    "#zapisz do dataframe pierwszego węzła (append)\n",
    "#koniec pętli wewnętrznej"
   ]
  },
  {
   "cell_type": "code",
   "execution_count": null,
   "metadata": {
    "collapsed": true
   },
   "outputs": [],
   "source": [
    "#zapisz dataframe do pliku\n",
    "#usuń dataframe z pamięci\n",
    "#koniec pętli zewnętrznej"
   ]
  },
  {
   "cell_type": "code",
   "execution_count": 3,
   "metadata": {},
   "outputs": [
    {
     "name": "stdout",
     "output_type": "stream",
     "text": [
      "Creating outer loop node list\n",
      "Done\n",
      "Creating inner loop file list\n",
      "Done\n"
     ]
    }
   ],
   "source": [
    "print(\"Creating outer loop node list\")\n",
    "nodelist = list(range(1, 100+1))\n",
    "#nodelist = list(range(1, 38138+1))\n",
    "print(\"Done\")\n",
    "print(\"Creating inner loop file list\")\n",
    "filelist = sorted(os.listdir(path_acu))\n",
    "print(\"Done\")"
   ]
  },
  {
   "cell_type": "code",
   "execution_count": 9,
   "metadata": {},
   "outputs": [],
   "source": [
    "for i in nodelist:\n",
    "    os.chdir(path_acu)\n",
    "    node_ts = []\n",
    "    for file in filelist:\n",
    "        node = pd.read_csv(file, delimiter=\",\", usecols = [\"sound-pressure\", \"sound-intensity\"], skiprows=(range(1, i)), nrows=1, decimal='.')\n",
    "        node_ts.append(node)\n",
    "    node_ts = pd.concat(node_ts, axis=0, ignore_index=True)\n",
    "    os.chdir(path_signal)\n",
    "    node_ts.to_csv(str('int-01_acu_node_' + str(i) +'.dat'), sep=\",\")"
   ]
  },
  {
   "cell_type": "code",
   "execution_count": null,
   "metadata": {
    "collapsed": true
   },
   "outputs": [],
   "source": []
  },
  {
   "cell_type": "code",
   "execution_count": null,
   "metadata": {},
   "outputs": [],
   "source": [
    "T = 10  # Duration in seconds\n",
    "f0 = 100  # Fundamental frequency\n",
    "Fs = 1000  # Sampling frequency\n",
    "\n",
    "# Time domain signal\n",
    "t = np.arange(0, T*Fs)/Fs\n",
    "x = np.sin(2*np.pi*f0*t)\n",
    "N = x.size\n",
    "\n",
    "# DFT\n",
    "X = np.fft.fft(x)\n",
    "X_db = 20*np.log10(2*np.abs(X)/N)\n",
    "#f = np.fft.fftfreq(N, 1/Fs)\n",
    "f = np.arange(0, N)*Fs/N\n",
    "\n",
    "plt.plot(f, X_db)\n",
    "plt.grid()\n",
    "plt.show()"
   ]
  },
  {
   "cell_type": "code",
   "execution_count": null,
   "metadata": {},
   "outputs": [],
   "source": [
    "x"
   ]
  }
 ],
 "metadata": {
  "kernelspec": {
   "display_name": "Python 3",
   "language": "python",
   "name": "python3"
  },
  "language_info": {
   "codemirror_mode": {
    "name": "ipython",
    "version": 3
   },
   "file_extension": ".py",
   "mimetype": "text/x-python",
   "name": "python",
   "nbconvert_exporter": "python",
   "pygments_lexer": "ipython3",
   "version": "3.6.3"
  }
 },
 "nbformat": 4,
 "nbformat_minor": 2
}
