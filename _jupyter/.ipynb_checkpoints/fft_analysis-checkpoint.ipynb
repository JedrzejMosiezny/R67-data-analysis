{
 "cells": [
  {
   "cell_type": "code",
   "execution_count": 1,
   "metadata": {
    "collapsed": true
   },
   "outputs": [],
   "source": [
    "#trial for fft analysis"
   ]
  },
  {
   "cell_type": "code",
   "execution_count": 7,
   "metadata": {},
   "outputs": [
    {
     "name": "stdout",
     "output_type": "stream",
     "text": [
      "Loading Libraries...\n",
      "Loaded Libraries...\n"
     ]
    }
   ],
   "source": [
    "print(\"Loading Libraries...\")\n",
    "import os\n",
    "import csv\n",
    "import platform\n",
    "import numpy as np\n",
    "import pandas as pd\n",
    "import dask.dataframe as dd\n",
    "import math\n",
    "import matplotlib.pyplot as plt\n",
    "print(\"Loaded Libraries...\")"
   ]
  },
  {
   "cell_type": "code",
   "execution_count": 3,
   "metadata": {},
   "outputs": [
    {
     "name": "stdout",
     "output_type": "stream",
     "text": [
      "Loading directories..\n",
      "Loaded directories...\n"
     ]
    }
   ],
   "source": [
    "#Local\n",
    "print(\"Loading directories..\")\n",
    "#path_data = 'D:/01_DOKTORAT/13_PLGRID/noise-data/int-01'\n",
    "#path_post = 'C:/Users/JMosiezny/Documents/01_PUT/01_DOKTORAT/13_PLGRID/noise-data/int-01-post'\n",
    "path_acu = 'C:/Users/JMosiezny/Documents/01_PUT/01_DOKTORAT/13_PLGRID/noise-data/int-01-post/acu'\n",
    "#path_plots = 'C:/Users/JMosiezny/Documents/01_PUT/01_DOKTORAT/13_PLGRID/noise-data/int-01-post/plots'\n",
    "path_rms = 'C:/Users/JMosiezny/Documents/01_PUT/01_DOKTORAT/13_PLGRID/noise-data/int-01-post/rms'\n",
    "print(\"Loaded directories...\")"
   ]
  },
  {
   "cell_type": "code",
   "execution_count": 4,
   "metadata": {},
   "outputs": [
    {
     "name": "stdout",
     "output_type": "stream",
     "text": [
      "Loading batch acoustic data...\n",
      "Batch data done...\n"
     ]
    }
   ],
   "source": [
    "print(\"Loading batch acoustic data...\")\n",
    "os.chdir(path_acu)\n",
    "batch_data = dd.read_csv('*.dat', sep=',', decimal='.')\n",
    "print(\"Batch data done...\")"
   ]
  },
  {
   "cell_type": "code",
   "execution_count": null,
   "metadata": {
    "collapsed": true
   },
   "outputs": [],
   "source": [
    "std_devs = pd.DataFrame(batch_data.groupby('nodenumber').std().compute())\n",
    "os.chdir(path_rms)\n",
    "std_devs.to_csv(str('int-01_RMS.dat'), sep=',')"
   ]
  },
  {
   "cell_type": "code",
   "execution_count": null,
   "metadata": {
    "collapsed": true
   },
   "outputs": [],
   "source": [
    "std_devs"
   ]
  },
  {
   "cell_type": "code",
   "execution_count": 5,
   "metadata": {
    "collapsed": true
   },
   "outputs": [],
   "source": [
    "batch_fft = np.fft.fft(batch_data, n=None, axis=-1, norm=None) #chyba nie ruszy # ruszyło ale chgw co się stało"
   ]
  },
  {
   "cell_type": "code",
   "execution_count": 6,
   "metadata": {},
   "outputs": [
    {
     "data": {
      "text/plain": [
       "array([[  2.38646451e+02   +0.j        ,  -2.56360672e+01 +109.88035676j,\n",
       "          1.14202032e+02  +46.48662151j, ...,\n",
       "         -1.17839013e+02 -189.62014909j,   1.14202032e+02  -46.48662151j,\n",
       "         -2.56360672e+01 -109.88035676j],\n",
       "       [  2.41171601e+02   +0.j        ,  -2.54028669e+01 +110.13282376j,\n",
       "          1.16099823e+02  +46.88740106j, ...,\n",
       "         -1.17600341e+02 -189.87993313j,   1.16099823e+02  -46.88740106j,\n",
       "         -2.54028669e+01 -110.13282376j],\n",
       "       [  2.42133697e+02   +0.j        ,  -2.42084545e+01 +110.19865282j,\n",
       "          1.17004777e+02  +46.97002438j, ...,\n",
       "         -1.16579873e+02 -189.9551388j ,   1.17004777e+02  -46.97002438j,\n",
       "         -2.42084545e+01 -110.19865282j],\n",
       "       ..., \n",
       "       [  3.64576462e+04   +0.j        ,   3.78777539e+04-1668.80040297j,\n",
       "          3.99590422e+04 -659.86946066j, ...,\n",
       "          3.90054969e+04-1966.99614185j,   3.99590422e+04 +659.86946066j,\n",
       "          3.78777539e+04+1668.80040297j],\n",
       "       [  3.59546011e+04   +0.j        ,   3.77881920e+04-2166.18526404j,\n",
       "          4.04372267e+04 -838.13994119j, ...,\n",
       "          3.92666464e+04-2410.00212127j,   4.04372267e+04 +838.13994119j,\n",
       "          3.77881920e+04+2166.18526404j],\n",
       "       [  3.26952440e+04   +0.j        ,   3.73364905e+04-5239.68264168j,\n",
       "          4.33342947e+04-1992.35053189j, ...,\n",
       "          4.09009187e+04-5253.14168908j,   4.33342947e+04+1992.35053189j,\n",
       "          3.73364905e+04+5239.68264168j]])"
      ]
     },
     "execution_count": 6,
     "metadata": {},
     "output_type": "execute_result"
    }
   ],
   "source": [
    "batch_fft"
   ]
  },
  {
   "cell_type": "code",
   "execution_count": 9,
   "metadata": {},
   "outputs": [
    {
     "name": "stderr",
     "output_type": "stream",
     "text": [
      "C:\\Users\\JMosiezny\\Anaconda3\\lib\\site-packages\\numpy\\core\\numeric.py:531: ComplexWarning: Casting complex values to real discards the imaginary part\n",
      "  return array(a, dtype, copy=False, order=order)\n"
     ]
    },
    {
     "data": {
      "text/plain": [
       "[<matplotlib.lines.Line2D at 0x2d716b93ef0>,\n",
       " <matplotlib.lines.Line2D at 0x2d716bb90f0>,\n",
       " <matplotlib.lines.Line2D at 0x2d716bb9240>,\n",
       " <matplotlib.lines.Line2D at 0x2d716bb9390>,\n",
       " <matplotlib.lines.Line2D at 0x2d716bb94e0>,\n",
       " <matplotlib.lines.Line2D at 0x2d716bb9630>,\n",
       " <matplotlib.lines.Line2D at 0x2d716bb9780>,\n",
       " <matplotlib.lines.Line2D at 0x2d716bb98d0>,\n",
       " <matplotlib.lines.Line2D at 0x2d716bb9a20>]"
      ]
     },
     "execution_count": 9,
     "metadata": {},
     "output_type": "execute_result"
    }
   ],
   "source": [
    "plt.plot(batch_fft)"
   ]
  },
  {
   "cell_type": "code",
   "execution_count": 8,
   "metadata": {},
   "outputs": [
    {
     "data": {
      "image/png": "[encoded data removed]",
      "text/plain": [
       "<matplotlib.figure.Figure at 0x2d738414208>"
      ]
     },
     "metadata": {},
     "output_type": "display_data"
    }
   ],
   "source": [
    "T = 10  # Duration in seconds\n",
    "f0 = 100  # Fundamental frequency\n",
    "Fs = 1000  # Sampling frequency\n",
    "\n",
    "# Time domain signal\n",
    "t = np.arange(0, T*Fs)/Fs\n",
    "x = np.sin(2*np.pi*f0*t)\n",
    "N = x.size\n",
    "\n",
    "# DFT\n",
    "X = np.fft.fft(x)\n",
    "X_db = 20*np.log10(2*np.abs(X)/N)\n",
    "#f = np.fft.fftfreq(N, 1/Fs)\n",
    "f = np.arange(0, N)*Fs/N\n",
    "\n",
    "plt.plot(f, X_db)\n",
    "plt.grid()\n",
    "plt.show()"
   ]
  }
 ],
 "metadata": {
  "kernelspec": {
   "display_name": "Python 3",
   "language": "python",
   "name": "python3"
  },
  "language_info": {
   "codemirror_mode": {
    "name": "ipython",
    "version": 3
   },
   "file_extension": ".py",
   "mimetype": "text/x-python",
   "name": "python",
   "nbconvert_exporter": "python",
   "pygments_lexer": "ipython3",
   "version": "3.6.3"
  }
 },
 "nbformat": 4,
 "nbformat_minor": 2
}
