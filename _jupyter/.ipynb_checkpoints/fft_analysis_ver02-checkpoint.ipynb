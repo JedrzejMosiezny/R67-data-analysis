{
 "cells": [
  {
   "cell_type": "code",
   "execution_count": null,
   "metadata": {},
   "outputs": [],
   "source": [
    "# trial for fft analysis"
   ]
  },
  {
   "cell_type": "code",
   "execution_count": 2,
   "metadata": {},
   "outputs": [
    {
     "name": "stdout",
     "output_type": "stream",
     "text": [
      "Loading Libraries...\n",
      "Loaded Libraries...\n"
     ]
    }
   ],
   "source": [
    "print(\"Loading Libraries...\")\n",
    "import os\n",
    "import csv\n",
    "import platform\n",
    "import numpy as np\n",
    "from scipy.fftpack import fft\n",
    "from scipy.fftpack import fftfreq\n",
    "import pandas as pd\n",
    "import dask.dataframe as dd\n",
    "import math\n",
    "import matplotlib.pyplot as plt\n",
    "print(\"Loaded Libraries...\")"
   ]
  },
  {
   "cell_type": "code",
   "execution_count": 3,
   "metadata": {},
   "outputs": [
    {
     "name": "stdout",
     "output_type": "stream",
     "text": [
      "Loading directories..\n",
      "Loaded directories...\n"
     ]
    }
   ],
   "source": [
    "#Local\n",
    "print(\"Loading directories..\")\n",
    "#path_data = 'D:/01_DOKTORAT/13_PLGRID/noise-data/int-01'\n",
    "#path_post = 'C:/Users/JMosiezny/Documents/01_PUT/01_DOKTORAT/13_PLGRID/noise-data/int-01-post'\n",
    "path_acu = 'C:/Users/JMosiezny/Documents/01_PUT/01_DOKTORAT/13_PLGRID/noise-data/int-tip-post/acu'\n",
    "#path_plots = 'C:/Users/JMosiezny/Documents/01_PUT/01_DOKTORAT/13_PLGRID/noise-data/int-01-post/plots'\n",
    "path_signal = 'C:/Users/JMosiezny/Documents/01_PUT/01_DOKTORAT/13_PLGRID/noise-data/int-tip-post/signal'\n",
    "path_rms = 'C:/Users/JMosiezny/Documents/01_PUT/01_DOKTORAT/13_PLGRID/noise-data/int-tip-post/rms'\n",
    "valid = 'C:/Users/JMosiezny/Documents/01_PUT/01_DOKTORAT/13_PLGRID/noise-data/int-tip-post/valid'\n",
    "print(\"Loaded directories...\")"
   ]
  },
  {
   "cell_type": "code",
   "execution_count": null,
   "metadata": {},
   "outputs": [],
   "source": [
    "#PUT Workstation\n",
    "print(\"Loading directories..\") \n",
    "#path_data = 'D:/01_DOKTORAT/13_PLGRID/noise-data/int-01'\n",
    "#path_post = 'D:/01_DOKTORAT/13_PLGRID/noise-data/int-01-post'\n",
    "path_acu = 'D:/01_DOKTORAT/13_PLGRID/noise-data/int-01-post/acu'\n",
    "#path_plots = 'D:/01_DOKTORAT/13_PLGRID/noise-data/int-01-post/plots'\n",
    "path_signal = 'D:/01_DOKTORAT/13_PLGRID/noise-data/int-01-post/signal'\n",
    "#path_rms = 'D:/01_DOKTORAT/13_PLGRID/noise-data/int-01-post/rms'\n",
    "print(\"Loaded directories...\")"
   ]
  },
  {
   "cell_type": "code",
   "execution_count": 3,
   "metadata": {},
   "outputs": [],
   "source": [
    "def FFT_values(x):\n",
    "    #T = 0.050150  # Duration in seconds\n",
    "    T = 0.000114  # Duration in seconds\n",
    "    #f0 = 100  # Fundamental frequency\n",
    "    Fs = 25000  # Sampling frequency\n",
    "\n",
    "    # Time domain signal\n",
    "    #t = np.arange(0, T*Fs)/Fs\n",
    "    x = np.asarray(x)\n",
    "    N = x.size\n",
    "\n",
    "    # DFT\n",
    "    X = np.fft.fft(x)\n",
    "    #X_db = 20*np.log10(2*np.abs(X)/N)\n",
    "    #f = np.fft.fftfreq(N, 1/Fs)\n",
    "    #f = np.arange(0, N)*Fs/N\n",
    "    #return np.concatenate([X, X_db])\n",
    "    return np.concatenate([X])"
   ]
  },
  {
   "cell_type": "code",
   "execution_count": 4,
   "metadata": {},
   "outputs": [],
   "source": [
    "def FFT_db(x):\n",
    "    #T = 0.050150  # Duration in seconds\n",
    "    T = 0.000114  # Duration in seconds\n",
    "    #f0 = 100  # Fundamental frequency\n",
    "    Fs = 25000  # Sampling frequency\n",
    "\n",
    "    # Time domain signal\n",
    "    t = np.arange(0, T*Fs)/Fs\n",
    "    x = np.asarray(x, np.float)\n",
    "    N = x.size\n",
    "\n",
    "    # DFT\n",
    "    X = np.fft.fft(x)\n",
    "    X_db = 20*np.log10(2*np.abs(X)/N)\n",
    "    #f = np.fft.fftfreq(N, 1/Fs)\n",
    "    #f = np.arange(0, N)*Fs/N\n",
    "    #return np.concatenate([X, X_db])\n",
    "    return np.concatenate([X_db])"
   ]
  },
  {
   "cell_type": "code",
   "execution_count": 5,
   "metadata": {},
   "outputs": [],
   "source": [
    "def FFT_freq(x):\n",
    "    #T = 0.050150  # Duration in seconds\n",
    "    T = 0.000114  # Duration in seconds\n",
    "    #f0 = 100  # Fundamental frequency\n",
    "    Fs = 25000  # Sampling frequency\n",
    "    \n",
    "    # Time domain signal\n",
    "    t = np.arange(0, T*Fs)/Fs\n",
    "    x = np.asarray(x, np.float)\n",
    "    N = x.size\n",
    "    \n",
    "    f = np.arange(0, N)*Fs/N\n",
    "    return np.concatenate([f])"
   ]
  },
  {
   "cell_type": "code",
   "execution_count": null,
   "metadata": {},
   "outputs": [],
   "source": [
    "def scipy_fft(y):\n",
    "    y = np.asarray(y)\n",
    "    N = len(y)\n",
    "    T = 1.0 / 100000\n",
    "    x = np.linspace(0.0, N*T, N)\n",
    "    yf = fft(y)\n",
    "    xf = np.linspace(0.0, 1.0/(2.0*T), N)\n",
    "    return [xf, yf]"
   ]
  },
  {
   "cell_type": "code",
   "execution_count": null,
   "metadata": {
    "scrolled": true
   },
   "outputs": [],
   "source": [
    "print(\"Loading batch data...\")\n",
    "os.chdir(path_acu)\n",
    "batch_pressure = dd.read_csv('int-*', delimiter=\",\", decimal='.',usecols=[\"nodenumber\", \"sound-pressure\"])\n",
    "batch_pressure = batch_pressure.set_index(\"nodenumber\")\n",
    "print(\"Batch data done...\")"
   ]
  },
  {
   "cell_type": "code",
   "execution_count": null,
   "metadata": {},
   "outputs": [],
   "source": [
    "fft_scipy = pd.DataFrame(batch_pressure.groupby('nodenumber').apply(lambda y: scipy_fft(y), meta=('sound-pressure-fft', 'f8')).compute()).sort_index(axis=0, level=None, ascending=True, inplace=False, kind='quicksort', na_position='last', sort_remaining=True)"
   ]
  },
  {
   "cell_type": "code",
   "execution_count": null,
   "metadata": {},
   "outputs": [],
   "source": [
    "fft_freq = fft_scipy.iloc[0].values[0][0]\n",
    "fft_freq"
   ]
  },
  {
   "cell_type": "code",
   "execution_count": null,
   "metadata": {
    "scrolled": true
   },
   "outputs": [],
   "source": [
    "fft_db = fft_scipy.iloc[0].values[0][1]\n",
    "fft_db.real"
   ]
  },
  {
   "cell_type": "code",
   "execution_count": null,
   "metadata": {},
   "outputs": [],
   "source": [
    "plt.plot(fft_freq, 2.0/N * np.abs(fft_db[0:N//2]))\n",
    "plt.grid()\n",
    "plt.show()"
   ]
  },
  {
   "cell_type": "code",
   "execution_count": null,
   "metadata": {},
   "outputs": [],
   "source": []
  },
  {
   "cell_type": "code",
   "execution_count": null,
   "metadata": {
    "scrolled": true
   },
   "outputs": [],
   "source": [
    "#fft_values = pd.DataFrame(batch_pressure.groupby('nodenumber').apply(lambda x: FFT_values(x), meta=('sound-pressure', 'f8')).compute()).sort_index(axis=0, level=None, ascending=True, inplace=False, kind='quicksort', na_position='last', sort_remaining=True)\n",
    "fft_db = pd.DataFrame(batch_pressure.groupby('nodenumber').apply(lambda x: FFT_db(x), meta=('sound-pressure', 'f8')).compute()).sort_index(axis=0, level=None, ascending=True, inplace=False, kind='quicksort', na_position='last', sort_remaining=True)\n",
    "fft_freq = pd.DataFrame(batch_pressure.groupby('nodenumber').apply(lambda x: FFT_freq(x), meta=('sound-pressure', 'f8')).compute()).sort_index(axis=0, level=None, ascending=True, inplace=False, kind='quicksort', na_position='last', sort_remaining=True)"
   ]
  },
  {
   "cell_type": "code",
   "execution_count": null,
   "metadata": {},
   "outputs": [],
   "source": []
  },
  {
   "cell_type": "code",
   "execution_count": null,
   "metadata": {},
   "outputs": [],
   "source": []
  },
  {
   "cell_type": "code",
   "execution_count": null,
   "metadata": {
    "scrolled": true
   },
   "outputs": [],
   "source": [
    "os.chdir(valid)\n",
    "fft_db.to_csv(str('int-01_fft_db.dat'), sep=\",\")\n",
    "fft_db"
   ]
  },
  {
   "cell_type": "code",
   "execution_count": null,
   "metadata": {
    "scrolled": true
   },
   "outputs": [],
   "source": [
    "os.chdir(valid)\n",
    "fft_freq.to_csv(str('int-01_fft_freq.dat'), sep=\",\")\n",
    "fft_freq"
   ]
  },
  {
   "cell_type": "code",
   "execution_count": null,
   "metadata": {},
   "outputs": [],
   "source": [
    "j = 1\n",
    "node_DB = fft_db.loc[j].values[0]\n",
    "node_FREQ = fft_freq.loc[j].values[0]\n",
    "node_DB_max = np.max(node_DB)\n",
    "node_DB_deviation = np.divide((np.abs(np.mean(node_DB))) - np.abs(node_DB_max), np.std(node_DB))\n",
    "node_FREQ_max = node_FREQ[np.flatnonzero(node_DB == np.max(node_DB))][0]\n",
    "node_fft_max = {'nodenumber': [j], 'node_DB_max': [node_DB_max], 'node_DB_deviation': [node_DB_deviation], 'node_FREQ_max': [node_FREQ_max]}\n",
    "node_fft_max = pd.DataFrame(data = node_fft_max)\n",
    "#node_fft_max.columns = ['nodenumber', 'node_DB_max', 'node_DB_deviation', 'node_FREQ_max']\n",
    "#node_fft_max_i.append(node_fft_max)\n",
    "\n",
    "nodelist = list(range(2, 38138+1))\n",
    "for i in nodelist:\n",
    "    node_DB = fft_db.loc[i].values[0]\n",
    "    node_FREQ = fft_freq.loc[i].values[0]\n",
    "    node_DB_max = np.max(node_DB)\n",
    "    node_DB_deviation = np.divide((np.abs(np.mean(node_DB)) - np.abs(node_DB_max)), np.std(node_DB))\n",
    "    node_FREQ_max = node_FREQ[np.flatnonzero(node_DB == np.max(node_DB))][0]\n",
    "    node_fft_max_i = {'nodenumber': [i], 'node_DB_max': [node_DB_max], 'node_DB_deviation': [node_DB_deviation], 'node_FREQ_max': [node_FREQ_max]}\n",
    "    node_fft_max_i = pd.DataFrame(data = node_fft_max_i)\n",
    "    #node_fft_max_i.columns = ['nodenumber', 'node_DB_max', 'node_DB_deviation', 'node_FREQ_max']\n",
    "    node_fft_max = node_fft_max.append(node_fft_max_i, ignore_index=True)\n",
    "    print(str('Node ' + str(i) + ' done...'))"
   ]
  },
  {
   "cell_type": "code",
   "execution_count": null,
   "metadata": {
    "scrolled": true
   },
   "outputs": [],
   "source": [
    "node_fft_max = node_fft_max.set_index('nodenumber')\n",
    "node_fft_max"
   ]
  },
  {
   "cell_type": "code",
   "execution_count": null,
   "metadata": {
    "scrolled": true
   },
   "outputs": [],
   "source": [
    "i = 3\n",
    "node_DB = fft_db.loc[i].values[0]\n",
    "node_DB"
   ]
  },
  {
   "cell_type": "code",
   "execution_count": null,
   "metadata": {},
   "outputs": [],
   "source": [
    "DB = fft_db.loc[2].values[0]\n",
    "#DB.to_csv(str('int-01_DB.dat'), sep=\",\")\n",
    "DB\n",
    "#FREQ = np.asarray(fft_freq.loc[2])[0]\n",
    "#FREQ\n",
    "#VAL = fft_values.loc[2]"
   ]
  },
  {
   "cell_type": "code",
   "execution_count": null,
   "metadata": {},
   "outputs": [],
   "source": [
    "np.std(DB)"
   ]
  },
  {
   "cell_type": "code",
   "execution_count": null,
   "metadata": {},
   "outputs": [],
   "source": [
    "np.abs(np.mean(DB))"
   ]
  },
  {
   "cell_type": "code",
   "execution_count": null,
   "metadata": {},
   "outputs": [],
   "source": [
    "np.max(DB)"
   ]
  },
  {
   "cell_type": "code",
   "execution_count": null,
   "metadata": {},
   "outputs": [],
   "source": [
    "dupa = np.flatnonzero(DB == np.max(DB))[0]"
   ]
  },
  {
   "cell_type": "code",
   "execution_count": null,
   "metadata": {},
   "outputs": [],
   "source": [
    "FREQ = fft_freq.loc[2].values[0]\n",
    "#FREQ.to_csv(str('int-01_FREQ.dat'), sep=\",\")\n",
    "FREQ[dupa]"
   ]
  },
  {
   "cell_type": "code",
   "execution_count": null,
   "metadata": {},
   "outputs": [],
   "source": [
    "FREQ = np.asarray(FREQ)\n",
    "FREQ = FREQ[0]\n",
    "FREQ"
   ]
  },
  {
   "cell_type": "code",
   "execution_count": null,
   "metadata": {},
   "outputs": [],
   "source": [
    "DB.to_csv(str('int-01_DB.dat'), sep=\",\")\n",
    "DB"
   ]
  },
  {
   "cell_type": "code",
   "execution_count": null,
   "metadata": {},
   "outputs": [],
   "source": [
    "VAL"
   ]
  },
  {
   "cell_type": "code",
   "execution_count": null,
   "metadata": {},
   "outputs": [],
   "source": [
    "DBRA = DB.values[0]\n",
    "DBRA.size"
   ]
  },
  {
   "cell_type": "code",
   "execution_count": null,
   "metadata": {
    "scrolled": true
   },
   "outputs": [],
   "source": [
    "plt.plot(FREQ, DB)\n",
    "plt.grid()\n",
    "plt.show()"
   ]
  },
  {
   "cell_type": "code",
   "execution_count": null,
   "metadata": {},
   "outputs": [],
   "source": [
    "# code validation"
   ]
  },
  {
   "cell_type": "code",
   "execution_count": null,
   "metadata": {},
   "outputs": [],
   "source": [
    "def FFT(x):\n",
    "    \"\"\"A recursive implementation of the 1D Cooley-Tukey FFT\"\"\"\n",
    "    x = np.asarray(x, dtype=float)\n",
    "    N = x.shape[0]\n",
    "    \n",
    "    if N % 2 > 0:\n",
    "        raise ValueError(\"size of x must be a power of 2\")\n",
    "    elif N <= 32:  # this cutoff should be optimized\n",
    "        return DFT_slow(x)\n",
    "    else:\n",
    "        X_even = FFT(x[::2])\n",
    "        X_odd = FFT(x[1::2])\n",
    "        factor = np.exp(-2j * np.pi * np.arange(N) / N)\n",
    "        return np.concatenate([X_even + factor[:N / 2] * X_odd,\n",
    "                               X_even + factor[N / 2:] * X_odd])"
   ]
  },
  {
   "cell_type": "code",
   "execution_count": 4,
   "metadata": {},
   "outputs": [
    {
     "data": {
      "image/png": "[encoded data removed]",
      "text/plain": [
       "<Figure size 432x288 with 1 Axes>"
      ]
     },
     "metadata": {},
     "output_type": "display_data"
    }
   ],
   "source": [
    "#NUMPY\n",
    "#signal props\n",
    "T_test = 0.05015  # Duration in seconds\n",
    "N = 50150 # Number of sample points\n",
    "f0_test = 1000  # Fundamental frequency\n",
    "Fs = 50000  # Sampling frequency\n",
    "T = 1.0 / Fs # sample spacing\n",
    "\n",
    "# Time domain signal\n",
    "t_test = np.arange(0, N)/Fs\n",
    "N_test = t_test.size\n",
    "\n",
    "\n",
    "'''signal = np.sin(2*np.pi*f0_test*t_test)\n",
    "i=2\n",
    "while i<=10:\n",
    "    f = (1/i)*np.sin(2*np.pi*i*f0_test*t_test)\n",
    "    signal = signal + f\n",
    "    i = i+1'''\n",
    "\n",
    "\n",
    "signal = np.sin(2*np.pi*f0_test*t_test) + 0.5*np.sin(2*np.pi*2*f0_test*t_test) + 0.25*np.sin(2*np.pi*4*f0_test*t_test)\n",
    "\n",
    "# DFT\n",
    "X_np = np.fft.fft(signal)\n",
    "X_db_np = 20*np.log10(2*np.abs(X_np)/N_test)\n",
    "f_np = np.fft.fftfreq(N, 1/Fs)\n",
    "f_np2 = np.arange(0, N_test)*Fs/N_test\n",
    "\n",
    "\n",
    "#Scipy\n",
    "#x = np.linspace(0.0, N*T, N)\n",
    "#y = np.sin(f0_test * 2.0*np.pi*x)\n",
    "\n",
    "# DFT\n",
    "X_sp = fft(signal)\n",
    "X_db_sp = 20*np.log10(2*np.abs(X_sp)/N)\n",
    "#xf = np.linspace(0.0, 1.0/(2.0*T), N)\n",
    "f_sp = fftfreq(N, T)\n",
    "\n",
    "\n",
    "plt.plot(absf_np.real, X_np.real)\n",
    "plt.plot(f_sp.real, X_sp.real)\n",
    "plt.grid()\n",
    "plt.show()"
   ]
  },
  {
   "cell_type": "code",
   "execution_count": null,
   "metadata": {},
   "outputs": [],
   "source": []
  },
  {
   "cell_type": "code",
   "execution_count": 52,
   "metadata": {},
   "outputs": [
    {
     "data": {
      "image/png": "[encoded data removed]",
      "text/plain": [
       "<Figure size 432x288 with 1 Axes>"
      ]
     },
     "metadata": {},
     "output_type": "display_data"
    }
   ],
   "source": [
    "plt.plot(signal[:101])\n",
    "#plt.plot(abs(f_sp), X_db_sp)\n",
    "plt.grid()\n",
    "plt.show()"
   ]
  },
  {
   "cell_type": "code",
   "execution_count": 56,
   "metadata": {},
   "outputs": [
    {
     "data": {
      "text/plain": [
       "50150"
      ]
     },
     "execution_count": 56,
     "metadata": {},
     "output_type": "execute_result"
    }
   ],
   "source": [
    "len(X_np)"
   ]
  },
  {
   "cell_type": "code",
   "execution_count": null,
   "metadata": {},
   "outputs": [],
   "source": [
    "plt.plot(t_test, x_test)\n",
    "#plt.plot(abs(xf), 20*np.log10(2*np.abs(yf)/N))\n",
    "plt.grid()\n",
    "plt.show()"
   ]
  },
  {
   "cell_type": "code",
   "execution_count": null,
   "metadata": {},
   "outputs": [],
   "source": [
    "# Number of sample points\n",
    "N = 50150\n",
    "# sample spacing\n",
    "T = 1.0 / 100000.0\n",
    "x = np.linspace(0.0, N*T, N)\n",
    "y = np.sin(1000.0 * 2.0*np.pi*x)\n",
    "yf = fft(y)\n",
    "#xf = np.linspace(0.0, 1.0/(2.0*T), N)\n",
    "xf = fftfreq(N, T)\n",
    "#plt.plot(xf, 2.0/N * np.abs(yf[0:N//2]))\n",
    "plt.plot(xf, 20*np.log10(2*np.abs(yf)/N))\n",
    "plt.grid()\n",
    "plt.show()"
   ]
  },
  {
   "cell_type": "code",
   "execution_count": null,
   "metadata": {},
   "outputs": [],
   "source": [
    "x"
   ]
  },
  {
   "cell_type": "code",
   "execution_count": null,
   "metadata": {},
   "outputs": [],
   "source": [
    "t_test"
   ]
  },
  {
   "cell_type": "code",
   "execution_count": null,
   "metadata": {},
   "outputs": [],
   "source": [
    "x_test"
   ]
  },
  {
   "cell_type": "code",
   "execution_count": null,
   "metadata": {},
   "outputs": [],
   "source": [
    "X_test"
   ]
  }
 ],
 "metadata": {
  "kernelspec": {
   "display_name": "Python 3",
   "language": "python",
   "name": "python3"
  },
  "language_info": {
   "codemirror_mode": {
    "name": "ipython",
    "version": 3
   },
   "file_extension": ".py",
   "mimetype": "text/x-python",
   "name": "python",
   "nbconvert_exporter": "python",
   "pygments_lexer": "ipython3",
   "version": "3.6.6"
  }
 },
 "nbformat": 4,
 "nbformat_minor": 2
}
