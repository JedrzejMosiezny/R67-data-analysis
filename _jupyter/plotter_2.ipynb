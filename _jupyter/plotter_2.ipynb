{
 "cells": [
  {
   "cell_type": "code",
   "execution_count": 1,
   "metadata": {},
   "outputs": [
    {
     "name": "stdout",
     "output_type": "stream",
     "text": [
      "Loading Libraries...\n",
      "Loaded Libraries...\n"
     ]
    }
   ],
   "source": [
    "print(\"Loading Libraries...\")\n",
    "import os, sys\n",
    "import platform\n",
    "import pandas as pd\n",
    "import numpy as np\n",
    "import matplotlib.pyplot as plt\n",
    "import scipy.interpolate as scin\n",
    "import matplotlib.colors as colors\n",
    "from matplotlib import cm\n",
    "from matplotlib.ticker import LinearLocator\n",
    "from matplotlib.ticker import MaxNLocator\n",
    "from matplotlib.colors import ListedColormap\n",
    "from matplotlib.colors import BoundaryNorm\n",
    "from matplotlib.colors import LogNorm\n",
    "from mpl_toolkits.mplot3d import Axes3D\n",
    "from scipy.interpolate import griddata\n",
    "from sklearn import neighbors, datasets\n",
    "print(\"Loaded Libraries...\")"
   ]
  },
  {
   "cell_type": "code",
   "execution_count": 2,
   "metadata": {
    "scrolled": true
   },
   "outputs": [
    {
     "name": "stdout",
     "output_type": "stream",
     "text": [
      "Loading directories..\n",
      "Loaded directories...\n"
     ]
    }
   ],
   "source": [
    "#Local\n",
    "print(\"Loading directories..\")\n",
    "path_coords = 'C:/Users/JMosiezny/Documents/01_PUT/01_DOKTORAT/15_results/coords'\n",
    "path_rms = 'C:/Users/JMosiezny/Documents/01_PUT/01_DOKTORAT/15_results/rms'\n",
    "path_plots = 'C:/Users/JMosiezny/Documents/01_PUT/01_DOKTORAT/15_results/plots'\n",
    "print(\"Loaded directories...\")"
   ]
  },
  {
   "cell_type": "code",
   "execution_count": 3,
   "metadata": {},
   "outputs": [],
   "source": [
    "os.chdir(path_coords)\n",
    "coordlist = os.listdir(path_coords)\n",
    "os.chdir(path_rms)\n",
    "rmslist = os.listdir(path_rms)"
   ]
  },
  {
   "cell_type": "code",
   "execution_count": 4,
   "metadata": {},
   "outputs": [
    {
     "data": {
      "text/plain": [
       "['int-01_coords.dat',\n",
       " 'int-02_coords.dat',\n",
       " 'int-03_coords.dat',\n",
       " 'int-04_coords.dat',\n",
       " 'int-05_coords.dat',\n",
       " 'int-06_coords.dat',\n",
       " 'int-07_coords.dat',\n",
       " 'int-08_coords.dat',\n",
       " 'int-09_coords.dat',\n",
       " 'int-10_coords.dat',\n",
       " 'int-11_coords.dat',\n",
       " 'int-12_coords.dat',\n",
       " 'int-tip_coords.dat',\n",
       " 'lead_coords.dat',\n",
       " 'pside_coords.dat',\n",
       " 'sside_coords.dat',\n",
       " 'tip_coords.dat',\n",
       " 'trail_coords.dat']"
      ]
     },
     "execution_count": 4,
     "metadata": {},
     "output_type": "execute_result"
    }
   ],
   "source": [
    "coordlist"
   ]
  },
  {
   "cell_type": "code",
   "execution_count": 5,
   "metadata": {},
   "outputs": [
    {
     "data": {
      "text/plain": [
       "['int-01-rms.dat',\n",
       " 'int-02-rms.dat',\n",
       " 'int-03-rms.dat',\n",
       " 'int-04-rms.dat',\n",
       " 'int-05-rms.dat',\n",
       " 'int-06-rms.dat',\n",
       " 'int-07-rms.dat',\n",
       " 'int-08-rms.dat',\n",
       " 'int-09-rms.dat',\n",
       " 'int-10-rms.dat',\n",
       " 'int-11-rms.dat',\n",
       " 'int-12-rms.dat',\n",
       " 'int-tip-rms.dat',\n",
       " 'lead-rms.dat',\n",
       " 'pside-rms.dat',\n",
       " 'sside-rms.dat',\n",
       " 'tip-rms.dat',\n",
       " 'trail-rms.dat']"
      ]
     },
     "execution_count": 5,
     "metadata": {},
     "output_type": "execute_result"
    }
   ],
   "source": [
    "rmslist"
   ]
  },
  {
   "cell_type": "code",
   "execution_count": 6,
   "metadata": {},
   "outputs": [
    {
     "name": "stdout",
     "output_type": "stream",
     "text": [
      "int-01-rms.dat done...\n",
      "int-02-rms.dat done...\n",
      "int-03-rms.dat done...\n",
      "int-04-rms.dat done...\n",
      "int-05-rms.dat done...\n",
      "int-06-rms.dat done...\n",
      "int-07-rms.dat done...\n",
      "int-08-rms.dat done...\n",
      "int-09-rms.dat done...\n",
      "int-10-rms.dat done...\n",
      "int-11-rms.dat done...\n",
      "int-12-rms.dat done...\n",
      "int-tip-rms.dat done...\n",
      "lead-rms.dat done...\n",
      "pside-rms.dat done...\n",
      "sside-rms.dat done...\n",
      "tip-rms.dat done...\n",
      "trail-rms.dat done...\n"
     ]
    }
   ],
   "source": [
    "batch_spl = pd.DataFrame()\n",
    "os.chdir(path_rms)\n",
    "for file in rmslist:\n",
    "    batch_spl[file] = pd.read_csv(file).set_index('nodenumber')['sound-pressure']\n",
    "    print(str(file) + \" done...\")"
   ]
  },
  {
   "cell_type": "code",
   "execution_count": 7,
   "metadata": {
    "scrolled": true
   },
   "outputs": [
    {
     "name": "stdout",
     "output_type": "stream",
     "text": [
      "int-01-rms.dat done...\n",
      "int-02-rms.dat done...\n",
      "int-03-rms.dat done...\n",
      "int-04-rms.dat done...\n",
      "int-05-rms.dat done...\n",
      "int-06-rms.dat done...\n",
      "int-07-rms.dat done...\n",
      "int-08-rms.dat done...\n",
      "int-09-rms.dat done...\n",
      "int-10-rms.dat done...\n",
      "int-11-rms.dat done...\n",
      "int-12-rms.dat done...\n",
      "int-tip-rms.dat done...\n",
      "lead-rms.dat done...\n",
      "pside-rms.dat done...\n",
      "sside-rms.dat done...\n",
      "tip-rms.dat done...\n",
      "trail-rms.dat done...\n"
     ]
    }
   ],
   "source": [
    "batch_spldb = pd.DataFrame()\n",
    "os.chdir(path_rms)\n",
    "for file in rmslist:\n",
    "    batch_spldb[file] = pd.read_csv(file).set_index('nodenumber')['rms_spldb']\n",
    "    print(str(file) + \" done...\")"
   ]
  },
  {
   "cell_type": "code",
   "execution_count": 8,
   "metadata": {},
   "outputs": [
    {
     "data": {
      "text/plain": [
       "int-01-rms.dat      3831.326038\n",
       "int-02-rms.dat      4859.869523\n",
       "int-03-rms.dat      4409.602860\n",
       "int-04-rms.dat      3959.007068\n",
       "int-05-rms.dat      5926.393529\n",
       "int-06-rms.dat      7101.687874\n",
       "int-07-rms.dat      7310.786972\n",
       "int-08-rms.dat      7153.365277\n",
       "int-09-rms.dat      4265.520832\n",
       "int-10-rms.dat      4250.232876\n",
       "int-11-rms.dat      9351.939282\n",
       "int-12-rms.dat     11564.934928\n",
       "int-tip-rms.dat    13370.032466\n",
       "lead-rms.dat        3944.894484\n",
       "pside-rms.dat       5053.924580\n",
       "sside-rms.dat       4889.496220\n",
       "tip-rms.dat        13917.394819\n",
       "trail-rms.dat       9857.909976\n",
       "dtype: float64"
      ]
     },
     "execution_count": 8,
     "metadata": {},
     "output_type": "execute_result"
    }
   ],
   "source": [
    "batch_spl.max()\n",
    "#nk_max = df_by_year['n_killed'].max()"
   ]
  },
  {
   "cell_type": "code",
   "execution_count": 9,
   "metadata": {},
   "outputs": [
    {
     "data": {
      "text/plain": [
       "int-01-rms.dat     32885\n",
       "int-02-rms.dat     32056\n",
       "int-03-rms.dat     31439\n",
       "int-04-rms.dat     31064\n",
       "int-05-rms.dat     31138\n",
       "int-06-rms.dat     31406\n",
       "int-07-rms.dat     30573\n",
       "int-08-rms.dat     31360\n",
       "int-09-rms.dat     31467\n",
       "int-10-rms.dat     19434\n",
       "int-11-rms.dat     13408\n",
       "int-12-rms.dat     14150\n",
       "int-tip-rms.dat    28105\n",
       "lead-rms.dat        8678\n",
       "pside-rms.dat      23132\n",
       "sside-rms.dat       1512\n",
       "tip-rms.dat        13190\n",
       "trail-rms.dat        109\n",
       "dtype: int64"
      ]
     },
     "execution_count": 9,
     "metadata": {},
     "output_type": "execute_result"
    }
   ],
   "source": [
    "batch_spl.idxmax()"
   ]
  },
  {
   "cell_type": "code",
   "execution_count": 10,
   "metadata": {
    "scrolled": false
   },
   "outputs": [
    {
     "data": {
      "text/plain": [
       "int-01-rms.dat      19.803784\n",
       "int-02-rms.dat      20.704178\n",
       "int-03-rms.dat      15.225364\n",
       "int-04-rms.dat      14.813403\n",
       "int-05-rms.dat      14.898829\n",
       "int-06-rms.dat      15.123534\n",
       "int-07-rms.dat      14.991045\n",
       "int-08-rms.dat      12.728111\n",
       "int-09-rms.dat      11.604789\n",
       "int-10-rms.dat       9.563179\n",
       "int-11-rms.dat       7.256905\n",
       "int-12-rms.dat       7.734093\n",
       "int-tip-rms.dat      8.457578\n",
       "lead-rms.dat        16.456402\n",
       "pside-rms.dat       16.456402\n",
       "sside-rms.dat       13.626743\n",
       "tip-rms.dat         54.065804\n",
       "trail-rms.dat      537.706440\n",
       "dtype: float64"
      ]
     },
     "execution_count": 10,
     "metadata": {},
     "output_type": "execute_result"
    }
   ],
   "source": [
    "batch_spl.min()"
   ]
  },
  {
   "cell_type": "code",
   "execution_count": 11,
   "metadata": {},
   "outputs": [
    {
     "data": {
      "text/plain": [
       "int-01-rms.dat        18\n",
       "int-02-rms.dat        12\n",
       "int-03-rms.dat      2888\n",
       "int-04-rms.dat      3713\n",
       "int-05-rms.dat      3302\n",
       "int-06-rms.dat        31\n",
       "int-07-rms.dat      3414\n",
       "int-08-rms.dat      4033\n",
       "int-09-rms.dat        45\n",
       "int-10-rms.dat        13\n",
       "int-11-rms.dat         7\n",
       "int-12-rms.dat        15\n",
       "int-tip-rms.dat       11\n",
       "lead-rms.dat        6074\n",
       "pside-rms.dat       9494\n",
       "sside-rms.dat      32232\n",
       "tip-rms.dat         1749\n",
       "trail-rms.dat       1677\n",
       "dtype: int64"
      ]
     },
     "execution_count": 11,
     "metadata": {},
     "output_type": "execute_result"
    }
   ],
   "source": [
    "batch_spl.idxmin()"
   ]
  },
  {
   "cell_type": "code",
   "execution_count": 12,
   "metadata": {},
   "outputs": [
    {
     "data": {
      "text/plain": [
       "int-01-rms.dat     165.646382\n",
       "int-02-rms.dat     167.711892\n",
       "int-03-rms.dat     166.867390\n",
       "int-04-rms.dat     165.931126\n",
       "int-05-rms.dat     169.435210\n",
       "int-06-rms.dat     171.006632\n",
       "int-07-rms.dat     171.258683\n",
       "int-08-rms.dat     171.069608\n",
       "int-09-rms.dat     166.578841\n",
       "int-10-rms.dat     166.547655\n",
       "int-11-rms.dat     173.397434\n",
       "int-12-rms.dat     175.242264\n",
       "int-tip-rms.dat    176.502049\n",
       "lead-rms.dat       165.900108\n",
       "pside-rms.dat      168.051975\n",
       "sside-rms.dat      167.764682\n",
       "tip-rms.dat        176.850559\n",
       "trail-rms.dat      173.855097\n",
       "dtype: float64"
      ]
     },
     "execution_count": 12,
     "metadata": {},
     "output_type": "execute_result"
    }
   ],
   "source": [
    "batch_spldb.max()"
   ]
  },
  {
   "cell_type": "code",
   "execution_count": 13,
   "metadata": {
    "scrolled": true
   },
   "outputs": [
    {
     "data": {
      "text/plain": [
       "int-01-rms.dat     119.914364\n",
       "int-02-rms.dat     120.300560\n",
       "int-03-rms.dat     117.630754\n",
       "int-04-rms.dat     117.392497\n",
       "int-05-rms.dat     117.442443\n",
       "int-06-rms.dat     117.572466\n",
       "int-07-rms.dat     117.496038\n",
       "int-08-rms.dat     116.074679\n",
       "int-09-rms.dat     115.272145\n",
       "int-10-rms.dat     113.591445\n",
       "int-11-rms.dat     111.194429\n",
       "int-12-rms.dat     111.747588\n",
       "int-tip-rms.dat    112.524320\n",
       "lead-rms.dat       118.306098\n",
       "pside-rms.dat      118.306098\n",
       "sside-rms.dat      116.667241\n",
       "tip-rms.dat        128.637853\n",
       "trail-rms.dat      148.590305\n",
       "dtype: float64"
      ]
     },
     "execution_count": 13,
     "metadata": {},
     "output_type": "execute_result"
    }
   ],
   "source": [
    "batch_spldb.min()"
   ]
  },
  {
   "cell_type": "code",
   "execution_count": 14,
   "metadata": {},
   "outputs": [
    {
     "name": "stdout",
     "output_type": "stream",
     "text": [
      "int-01-rms.dat done...\n",
      "int-02-rms.dat done...\n",
      "int-03-rms.dat done...\n",
      "int-04-rms.dat done...\n",
      "int-05-rms.dat done...\n",
      "int-06-rms.dat done...\n",
      "int-07-rms.dat done...\n",
      "int-08-rms.dat done...\n",
      "int-09-rms.dat done...\n",
      "int-10-rms.dat done...\n",
      "int-11-rms.dat done...\n",
      "int-12-rms.dat done...\n",
      "int-tip-rms.dat done...\n"
     ]
    }
   ],
   "source": [
    "batch_sil = pd.DataFrame()\n",
    "os.chdir(path_rms)\n",
    "i = 0\n",
    "while i < 13:\n",
    "    batch_sil[rmslist[i]] = pd.read_csv(rmslist[i]).set_index('nodenumber')['sound-intensity']\n",
    "    print(str(rmslist[i]) + \" done...\")\n",
    "    i = i + 1"
   ]
  },
  {
   "cell_type": "code",
   "execution_count": 15,
   "metadata": {
    "scrolled": true
   },
   "outputs": [
    {
     "name": "stdout",
     "output_type": "stream",
     "text": [
      "int-01-rms.dat done...\n",
      "int-02-rms.dat done...\n",
      "int-03-rms.dat done...\n",
      "int-04-rms.dat done...\n",
      "int-05-rms.dat done...\n",
      "int-06-rms.dat done...\n",
      "int-07-rms.dat done...\n",
      "int-08-rms.dat done...\n",
      "int-09-rms.dat done...\n",
      "int-10-rms.dat done...\n",
      "int-11-rms.dat done...\n",
      "int-12-rms.dat done...\n",
      "int-tip-rms.dat done...\n"
     ]
    }
   ],
   "source": [
    "batch_sildb = pd.DataFrame()\n",
    "os.chdir(path_rms)\n",
    "i = 0\n",
    "while i < 13:\n",
    "    batch_sildb[rmslist[i]] = pd.read_csv(rmslist[i]).set_index('nodenumber')['rms_sildb']\n",
    "    print(str(rmslist[i]) + \" done...\")\n",
    "    i = i + 1"
   ]
  },
  {
   "cell_type": "code",
   "execution_count": 16,
   "metadata": {
    "scrolled": true
   },
   "outputs": [],
   "source": [
    "pd.options.mode.use_inf_as_na = True\n",
    "batch_sildb.fillna(0, inplace=True)"
   ]
  },
  {
   "cell_type": "code",
   "execution_count": 17,
   "metadata": {},
   "outputs": [
    {
     "data": {
      "text/plain": [
       "int-01-rms.dat     1.493232e+05\n",
       "int-02-rms.dat     2.400160e+05\n",
       "int-03-rms.dat     1.814159e+05\n",
       "int-04-rms.dat     1.357694e+05\n",
       "int-05-rms.dat     2.814335e+05\n",
       "int-06-rms.dat     4.075928e+05\n",
       "int-07-rms.dat     3.549267e+05\n",
       "int-08-rms.dat     3.162401e+05\n",
       "int-09-rms.dat     1.272426e+05\n",
       "int-10-rms.dat     9.136533e+04\n",
       "int-11-rms.dat     3.699099e+05\n",
       "int-12-rms.dat     6.214451e+05\n",
       "int-tip-rms.dat    1.145618e+06\n",
       "dtype: float64"
      ]
     },
     "execution_count": 17,
     "metadata": {},
     "output_type": "execute_result"
    }
   ],
   "source": [
    "batch_sil.max()"
   ]
  },
  {
   "cell_type": "code",
   "execution_count": 18,
   "metadata": {},
   "outputs": [
    {
     "data": {
      "text/plain": [
       "int-01-rms.dat     0.0\n",
       "int-02-rms.dat     0.0\n",
       "int-03-rms.dat     0.0\n",
       "int-04-rms.dat     0.0\n",
       "int-05-rms.dat     0.0\n",
       "int-06-rms.dat     0.0\n",
       "int-07-rms.dat     0.0\n",
       "int-08-rms.dat     0.0\n",
       "int-09-rms.dat     0.0\n",
       "int-10-rms.dat     0.0\n",
       "int-11-rms.dat     0.0\n",
       "int-12-rms.dat     0.0\n",
       "int-tip-rms.dat    0.0\n",
       "dtype: float64"
      ]
     },
     "execution_count": 18,
     "metadata": {},
     "output_type": "execute_result"
    }
   ],
   "source": [
    "batch_sil.min()"
   ]
  },
  {
   "cell_type": "code",
   "execution_count": 19,
   "metadata": {},
   "outputs": [
    {
     "data": {
      "text/plain": [
       "int-01-rms.dat     171.741274\n",
       "int-02-rms.dat     173.802402\n",
       "int-03-rms.dat     172.586754\n",
       "int-04-rms.dat     171.328019\n",
       "int-05-rms.dat     174.493759\n",
       "int-06-rms.dat     176.102265\n",
       "int-07-rms.dat     175.501387\n",
       "int-08-rms.dat     175.000169\n",
       "int-09-rms.dat     171.046325\n",
       "int-10-rms.dat     169.607814\n",
       "int-11-rms.dat     175.680959\n",
       "int-12-rms.dat     177.934028\n",
       "int-tip-rms.dat    180.590396\n",
       "dtype: float64"
      ]
     },
     "execution_count": 19,
     "metadata": {},
     "output_type": "execute_result"
    }
   ],
   "source": [
    "batch_sildb.max()"
   ]
  },
  {
   "cell_type": "code",
   "execution_count": 20,
   "metadata": {},
   "outputs": [
    {
     "data": {
      "text/plain": [
       "int-01-rms.dat     0.0\n",
       "int-02-rms.dat     0.0\n",
       "int-03-rms.dat     0.0\n",
       "int-04-rms.dat     0.0\n",
       "int-05-rms.dat     0.0\n",
       "int-06-rms.dat     0.0\n",
       "int-07-rms.dat     0.0\n",
       "int-08-rms.dat     0.0\n",
       "int-09-rms.dat     0.0\n",
       "int-10-rms.dat     0.0\n",
       "int-11-rms.dat     0.0\n",
       "int-12-rms.dat     0.0\n",
       "int-tip-rms.dat    0.0\n",
       "dtype: float64"
      ]
     },
     "execution_count": 20,
     "metadata": {},
     "output_type": "execute_result"
    }
   ],
   "source": [
    "batch_sildb.min()"
   ]
  },
  {
   "cell_type": "code",
   "execution_count": 21,
   "metadata": {
    "scrolled": false
   },
   "outputs": [
    {
     "name": "stdout",
     "output_type": "stream",
     "text": [
      "Exiting plotting loop...\n"
     ]
    }
   ],
   "source": [
    "#sound pressure at internals\n",
    "i = 0\n",
    "while i < 13:\n",
    "    os.chdir(path_coords)\n",
    "    location = str(os.path.basename(str(coordlist[i])))[:-11]\n",
    "        \n",
    "    coords = pd.DataFrame(pd.read_csv(coordlist[i], delimiter=\",\", header=0, skiprows=0, decimal='.')).set_index('nodenumber')\n",
    "    x = coords['x-coordinate']\n",
    "    y = coords['y-coordinate']\n",
    "    z = coords['z-coordinate']\n",
    "    \n",
    "    os.chdir(path_rms)\n",
    "    data = pd.DataFrame(pd.read_csv(rmslist[i], delimiter=\",\", header=0, skiprows=0, decimal='.')).set_index('nodenumber')\n",
    "    spl = data['sound-pressure'] #data['rms_spldb']\n",
    "    spl_max = spl.max()\n",
    "    spl_idxmax = spl.idxmax()\n",
    "    spl_min = spl.min()\n",
    "    spl_idxmin = spl.idxmin()\n",
    "    coords_spl_max = coords.loc[spl.idxmax()]\n",
    "    coords_spl_min = coords.loc[spl.idxmin()]\n",
    "    \n",
    "    text_1 = str('Max RMS SPL ' + str(round(spl_max, 2)) + ' at node: ')\n",
    "    text_x1 = str('x = ' + str(round(coords_spl_max[0], 4)))\n",
    "    text_y1 = str('y = ' + str(round(coords_spl_max[1], 4)))\n",
    "    text_z1 = str('z = ' + str(round(coords_spl_max[2], 4)))\n",
    "    text_2 = str('Min RMS SPL ' + str(round(spl_min, 2)) + ' at node: ')\n",
    "    text_x2 = str('x = ' + str(round(coords_spl_min[0], 4)))\n",
    "    text_y2 = str('y = ' + str(round(coords_spl_min[1], 4)))\n",
    "    text_z2 = str('z = ' + str(round(coords_spl_min[2], 4))) \n",
    "    \n",
    "    sound_pressure_plot, ax0 = plt.subplots(1, 1, figsize=(6, 6), dpi=300)\n",
    "    spl_plot = ax0.scatter(z, x, c=spl, s=0.5, cmap=plt.cm.jet, norm=colors.LogNorm(vmin=1, vmax=1.5e04, clip=False))\n",
    "    sound_pressure_plot.colorbar(spl_plot, ax=ax0, orientation=\"vertical\", pad=0.1)\n",
    "    ax0.set_title(str('RMS sound pressure at ' + str(location) + ' [Pa]'))\n",
    "    ax0.set_aspect('equal', 'box')\n",
    "    ax0.set_xlim(-0.05, 0.150)\n",
    "    ax0.set_ylim(-0.08, 0.150)\n",
    "    ax0.set_xticks(np.arange(-0.05, 0.150, 0.025))\n",
    "    ax0.set_yticks(np.arange(-0.075, 0.150, 0.025))\n",
    "    ax0.set_xlabel('z - coordinate')\n",
    "    ax0.set_ylabel('x - coordinate')\n",
    "    ax0.text(-0.040, 0.136, text_1)\n",
    "    ax0.text(-0.040, 0.126, text_x1)\n",
    "    ax0.text(-0.040, 0.116, text_y1)\n",
    "    ax0.text(-0.040, 0.106, text_z1)\n",
    "    ax0.text(-0.040, 0.091, text_2)\n",
    "    ax0.text(-0.040, 0.081, text_x2)\n",
    "    ax0.text(-0.040, 0.071, text_y2)\n",
    "    ax0.text(-0.040, 0.061, text_z2)\n",
    "    plt.grid()\n",
    "    #plt.show()\n",
    "    os.chdir(path_plots)\n",
    "    plt.savefig(str(str(location) + '-rms-spl.png'), bbox_inches='tight')\n",
    "    plt.close()\n",
    "    \n",
    "    i = i+1\n",
    "print(\"Exiting plotting loop...\")"
   ]
  },
  {
   "cell_type": "code",
   "execution_count": 22,
   "metadata": {
    "scrolled": true
   },
   "outputs": [
    {
     "name": "stdout",
     "output_type": "stream",
     "text": [
      "Exiting plotting loop...\n"
     ]
    }
   ],
   "source": [
    "# SPLDB at internals\n",
    "i = 0\n",
    "while i < 13:\n",
    "    os.chdir(path_coords)\n",
    "    location = str(os.path.basename(str(coordlist[i])))[:-11]\n",
    "        \n",
    "    coords = pd.DataFrame(pd.read_csv(coordlist[i], delimiter=\",\", header=0, skiprows=0, decimal='.')).set_index('nodenumber')\n",
    "    x = coords['x-coordinate']\n",
    "    y = coords['y-coordinate']\n",
    "    z = coords['z-coordinate']\n",
    "    \n",
    "    os.chdir(path_rms)\n",
    "    data = pd.DataFrame(pd.read_csv(rmslist[i], delimiter=\",\", header=0, skiprows=0, decimal='.')).set_index('nodenumber')\n",
    "    spl = data['rms_spldb']\n",
    "    spl_max = spl.max()\n",
    "    spl_idxmax = spl.idxmax()\n",
    "    spl_min = spl.min()\n",
    "    spl_idxmin = spl.idxmin()\n",
    "    coords_spl_max = coords.loc[spl.idxmax()]\n",
    "    coords_spl_min = coords.loc[spl.idxmin()]\n",
    "    \n",
    "    text_1 = str('Max RMS SPLdB ' + str(round(spl_max, 2)) + ' at node: ')\n",
    "    text_x1 = str('x = ' + str(round(coords_spl_max[0], 4)))\n",
    "    text_y1 = str('y = ' + str(round(coords_spl_max[1], 4)))\n",
    "    text_z1 = str('z = ' + str(round(coords_spl_max[2], 4)))\n",
    "    text_2 = str('Min RMS SPLdB ' + str(round(spl_min, 2)) + ' at node: ')\n",
    "    text_x2 = str('x = ' + str(round(coords_spl_min[0], 4)))\n",
    "    text_y2 = str('y = ' + str(round(coords_spl_min[1], 4)))\n",
    "    text_z2 = str('z = ' + str(round(coords_spl_min[2], 4))) \n",
    "\n",
    "    sound_pressure_plot, ax0 = plt.subplots(1, 1, figsize=(6, 6), dpi=300)\n",
    "    spl_plot = ax0.scatter(z, x, c=spl, s=0.5, cmap=plt.cm.jet, vmin=110, vmax=180)\n",
    "    sound_pressure_plot.colorbar(spl_plot, ax=ax0, orientation=\"vertical\", pad=0.1)\n",
    "    ax0.set_title(str('RMS SPLdB at ' + str(location) + ' [dB]'))\n",
    "    ax0.set_aspect('equal', 'box')\n",
    "    ax0.set_xlim(-0.05, 0.150)\n",
    "    ax0.set_ylim(-0.08, 0.150)\n",
    "    ax0.set_xticks(np.arange(-0.05, 0.150, 0.025))\n",
    "    ax0.set_yticks(np.arange(-0.075, 0.150, 0.025))\n",
    "    ax0.set_xlabel('z - coordinate')\n",
    "    ax0.set_ylabel('x - coordinate')\n",
    "    ax0.text(-0.040, 0.136, text_1)\n",
    "    ax0.text(-0.040, 0.126, text_x1)\n",
    "    ax0.text(-0.040, 0.116, text_y1)\n",
    "    ax0.text(-0.040, 0.106, text_z1)\n",
    "    ax0.text(-0.040, 0.091, text_2)\n",
    "    ax0.text(-0.040, 0.081, text_x2)\n",
    "    ax0.text(-0.040, 0.071, text_y2)\n",
    "    ax0.text(-0.040, 0.061, text_z2)\n",
    "    plt.grid()\n",
    "    #plt.show()\n",
    "    os.chdir(path_plots)\n",
    "    plt.savefig(str(str(location) + '-rms-spldb.png'), bbox_inches='tight')\n",
    "    plt.close()\n",
    "    \n",
    "    i = i+1\n",
    "print(\"Exiting plotting loop...\")"
   ]
  },
  {
   "cell_type": "code",
   "execution_count": 23,
   "metadata": {
    "scrolled": true
   },
   "outputs": [
    {
     "name": "stdout",
     "output_type": "stream",
     "text": [
      "Exiting plotting loop...\n"
     ]
    }
   ],
   "source": [
    "#sound intensity at intenals\n",
    "i = 0\n",
    "while i < 13:\n",
    "    os.chdir(path_coords)\n",
    "    location = str(os.path.basename(str(coordlist[i])))[:-11]\n",
    "        \n",
    "    coords = pd.DataFrame(pd.read_csv(coordlist[i], delimiter=\",\", header=0, skiprows=0, decimal='.')).set_index('nodenumber')\n",
    "    x = coords['x-coordinate']\n",
    "    y = coords['y-coordinate']\n",
    "    z = coords['z-coordinate']\n",
    "    \n",
    "    os.chdir(path_rms)\n",
    "    data = pd.DataFrame(pd.read_csv(rmslist[i], delimiter=\",\", header=0, skiprows=0, decimal='.')).set_index('nodenumber')\n",
    "    sil = data['sound-intensity'] #data['rms_sildb']\n",
    "    sil_max = sil.max()\n",
    "    sil_idxmax = spl.idxmax()\n",
    "    sil_min = sil.min()\n",
    "    sil_idxmin = sil.idxmin()\n",
    "    coords_sil_max = coords.loc[sil.idxmax()]\n",
    "    coords_sil_min = coords.loc[sil.idxmin()]\n",
    "    \n",
    "    text_1 = str('Max RMS sound intensity ' + str(round(sil_max, 2)) + ' at node: ')\n",
    "    text_x1 = str('x = ' + str(round(coords_sil_max[0], 4)))\n",
    "    text_y1 = str('y = ' + str(round(coords_sil_max[1], 4)))\n",
    "    text_z1 = str('z = ' + str(round(coords_sil_max[2], 4)))\n",
    "    #text_2 = str('Min RMS sound intensity ' + str(round(sil_min, 2)) + ' at node: ')\n",
    "    #text_x2 = str('x = ' + str(round(coords_sil_min[0], 4)))\n",
    "    #text_y2 = str('y = ' + str(round(coords_sil_min[1], 4)))\n",
    "    #text_z2 = str('z = ' + str(round(coords_sil_min[2], 4))) \n",
    "\n",
    "    sound_pressure_plot, ax0 = plt.subplots(1, 1, figsize=(6, 6), dpi=300)\n",
    "    sil_plot = ax0.scatter(z, x, c=sil, s=0.5, cmap=plt.cm.jet, norm=colors.LogNorm(vmin=1, vmax=1.2e06, clip=False))\n",
    "    sound_pressure_plot.colorbar(sil_plot, ax=ax0, orientation=\"vertical\", pad=0.1)\n",
    "    ax0.set_title(str('RMS sound intensity at ' + str(location) + ' [W/m2]'))\n",
    "    ax0.set_aspect('equal', 'box')\n",
    "    ax0.set_xlim(-0.05, 0.150)\n",
    "    ax0.set_ylim(-0.08, 0.150)\n",
    "    ax0.set_xticks(np.arange(-0.05, 0.150, 0.025))\n",
    "    ax0.set_yticks(np.arange(-0.075, 0.150, 0.025))\n",
    "    ax0.set_xlabel('z - coordinate')\n",
    "    ax0.set_ylabel('x - coordinate')\n",
    "    ax0.text(-0.040, 0.136, text_1)\n",
    "    ax0.text(-0.040, 0.126, text_x1)\n",
    "    ax0.text(-0.040, 0.116, text_y1)\n",
    "    ax0.text(-0.040, 0.106, text_z1)\n",
    "    #ax0.text(-0.040, 0.091, text_2)\n",
    "    #ax0.text(-0.040, 0.081, text_x2)\n",
    "    #ax0.text(-0.040, 0.071, text_y2)\n",
    "    #ax0.text(-0.040, 0.061, text_z2)\n",
    "    plt.grid()\n",
    "    #plt.show()\n",
    "    os.chdir(path_plots)\n",
    "    plt.savefig(str(str(location) + '-rms-sil.png'), bbox_inches='tight')\n",
    "    plt.close()\n",
    "    \n",
    "    i = i+1\n",
    "print(\"Exiting plotting loop...\")"
   ]
  },
  {
   "cell_type": "code",
   "execution_count": 24,
   "metadata": {
    "scrolled": true
   },
   "outputs": [
    {
     "name": "stdout",
     "output_type": "stream",
     "text": [
      "Exiting plotting loop...\n"
     ]
    }
   ],
   "source": [
    "#SILdB at internals\n",
    "i = 0\n",
    "while i < 13:\n",
    "    os.chdir(path_coords)\n",
    "    location = str(os.path.basename(str(coordlist[i])))[:-11]\n",
    "        \n",
    "    coords = pd.DataFrame(pd.read_csv(coordlist[i], delimiter=\",\", header=0, skiprows=0, decimal='.')).set_index('nodenumber')\n",
    "    x = coords['x-coordinate']\n",
    "    y = coords['y-coordinate']\n",
    "    z = coords['z-coordinate']\n",
    "    \n",
    "    os.chdir(path_rms)\n",
    "    data = pd.DataFrame(pd.read_csv(rmslist[i], delimiter=\",\", header=0, skiprows=0, decimal='.')).set_index('nodenumber')\n",
    "    sil = data['rms_sildb']\n",
    "    sil_max = sil.max()\n",
    "    sil_idxmax = spl.idxmax()\n",
    "    sil_min = sil.min()\n",
    "    sil_idxmin = sil.idxmin()\n",
    "    coords_sil_max = coords.loc[sil.idxmax()]\n",
    "    coords_sil_min = coords.loc[sil.idxmin()]\n",
    "    \n",
    "    text_1 = str('Max RMS SILdB ' + str(round(sil_max, 2)) + ' at node: ')\n",
    "    text_x1 = str('x = ' + str(round(coords_sil_max[0], 4)))\n",
    "    text_y1 = str('y = ' + str(round(coords_sil_max[1], 4)))\n",
    "    text_z1 = str('z = ' + str(round(coords_sil_max[2], 4)))  \n",
    "    #text_2 = str('Min RMS sound intensity ' + str(round(sil_min, 2)) + ' at node: ')\n",
    "    #text_x2 = str('x = ' + str(round(coords_sil_min[0], 4)))\n",
    "    #text_y2 = str('y = ' + str(round(coords_sil_min[1], 4)))\n",
    "    #text_z2 = str('z = ' + str(round(coords_sil_min[2], 4)))\n",
    "    \n",
    "    sound_pressure_plot, ax0 = plt.subplots(1, 1, figsize=(6, 6), dpi=300)\n",
    "    sil_plot = ax0.scatter(z, x, c=sil, s=0.5, cmap=plt.cm.jet, vmin=1, vmax=185)\n",
    "    sound_pressure_plot.colorbar(sil_plot, ax=ax0, orientation=\"vertical\", pad=0.1)\n",
    "    ax0.set_title(str('RMS SILdB at ' + str(location) + ' [dB]'))\n",
    "    ax0.set_aspect('equal', 'box')\n",
    "    ax0.set_xlim(-0.05, 0.150)\n",
    "    ax0.set_ylim(-0.08, 0.150)\n",
    "    ax0.set_xticks(np.arange(-0.05, 0.150, 0.025))\n",
    "    ax0.set_yticks(np.arange(-0.075, 0.150, 0.025))\n",
    "    ax0.set_xlabel('z - coordinate')\n",
    "    ax0.set_ylabel('x - coordinate')\n",
    "    ax0.text(-0.040, 0.136, text_1)\n",
    "    ax0.text(-0.040, 0.126, text_x1)\n",
    "    ax0.text(-0.040, 0.116, text_y1)\n",
    "    ax0.text(-0.040, 0.106, text_z1)\n",
    "    #ax0.text(-0.040, 0.091, text_2)\n",
    "    #ax0.text(-0.040, 0.081, text_x2)\n",
    "    #ax0.text(-0.040, 0.071, text_y2)\n",
    "    #ax0.text(-0.040, 0.061, text_z2)\n",
    "    plt.grid()\n",
    "    #plt.show()\n",
    "    os.chdir(path_plots)\n",
    "    plt.savefig(str(str(location) + '-rms-sildb.png'), bbox_inches='tight')\n",
    "    plt.close()\n",
    "    \n",
    "    i = i+1\n",
    "print(\"Exiting plotting loop...\")"
   ]
  },
  {
   "cell_type": "code",
   "execution_count": 25,
   "metadata": {},
   "outputs": [],
   "source": [
    "os.chdir(path_coords)\n",
    "\n",
    "coords_pside = pd.DataFrame(pd.read_csv('pside_coords.dat', delimiter=\",\", header=0, skiprows=0, decimal='.')).set_index('nodenumber')\n",
    "x_pside = coords_pside['x-coordinate']\n",
    "y_pside = coords_pside['y-coordinate']\n",
    "z_pside = coords_pside['z-coordinate']\n",
    "\n",
    "coords_sside = pd.DataFrame(pd.read_csv('sside_coords.dat', delimiter=\",\", header=0, skiprows=0, decimal='.')).set_index('nodenumber')\n",
    "x_sside = coords_sside['x-coordinate']\n",
    "y_sside = coords_sside['y-coordinate']\n",
    "z_sside = coords_sside['z-coordinate']\n",
    "\n",
    "coords_lead = pd.DataFrame(pd.read_csv('lead_coords.dat', delimiter=\",\", header=0, skiprows=0, decimal='.')).set_index('nodenumber')\n",
    "x_lead = coords_lead['x-coordinate']\n",
    "y_lead = coords_lead['y-coordinate']\n",
    "z_lead = coords_lead['z-coordinate']\n",
    "\n",
    "coords_trail = pd.DataFrame(pd.read_csv('trail_coords.dat', delimiter=\",\", header=0, skiprows=0, decimal='.')).set_index('nodenumber')\n",
    "x_trail = coords_trail['x-coordinate']\n",
    "y_trail = coords_trail['y-coordinate']\n",
    "z_trail = coords_trail['z-coordinate']\n",
    "\n",
    "coords_tip = pd.DataFrame(pd.read_csv('tip_coords.dat', delimiter=\",\", header=0, skiprows=0, decimal='.')).set_index('nodenumber')\n",
    "x_tip = coords_tip['x-coordinate']\n",
    "y_tip = coords_tip['y-coordinate']\n",
    "z_tip = coords_tip['z-coordinate']\n",
    "\n",
    "os.chdir(path_rms)\n",
    "\n",
    "data_pside = pd.DataFrame(pd.read_csv('pside-rms.dat', delimiter=\",\", header=0, skiprows=0, decimal='.')).set_index('nodenumber')\n",
    "spl_pside = data_pside['sound-pressure'] #data['rms_spldb']\n",
    "\n",
    "data_sside = pd.DataFrame(pd.read_csv('sside-rms.dat', delimiter=\",\", header=0, skiprows=0, decimal='.')).set_index('nodenumber')\n",
    "spl_sside = data_sside['sound-pressure'] #data['rms_spldb']\n",
    "\n",
    "data_lead = pd.DataFrame(pd.read_csv('lead-rms.dat', delimiter=\",\", header=0, skiprows=0, decimal='.')).set_index('nodenumber')\n",
    "spl_lead = data_lead['sound-pressure'] #data['rms_spldb']\n",
    "\n",
    "data_trail = pd.DataFrame(pd.read_csv('trail-rms.dat', delimiter=\",\", header=0, skiprows=0, decimal='.')).set_index('nodenumber')\n",
    "spl_trail = data_trail['sound-pressure'] #data['rms_spldb']\n",
    "\n",
    "data_tip = pd.DataFrame(pd.read_csv('tip-rms.dat', delimiter=\",\", header=0, skiprows=0, decimal='.')).set_index('nodenumber')\n",
    "spl_tip = data_tip['sound-pressure'] #data['rms_spldb']"
   ]
  },
  {
   "cell_type": "code",
   "execution_count": 26,
   "metadata": {},
   "outputs": [
    {
     "name": "stdout",
     "output_type": "stream",
     "text": [
      "10968.252562289781\n",
      "9859.64447997377\n",
      "3944.894484076185\n",
      "9857.909976207162\n",
      "13917.394818546949\n",
      "13190\n",
      "x-coordinate    0.080901\n",
      "y-coordinate    0.233130\n",
      "z-coordinate    0.065970\n",
      "Name: 13190, dtype: float64\n"
     ]
    }
   ],
   "source": [
    "print(spl_pside.max())\n",
    "print(spl_sside.max())\n",
    "print(spl_lead.max())\n",
    "print(spl_trail.max())\n",
    "print(spl_tip.max())\n",
    "index_max = spl_tip.idxmax()\n",
    "print(index_max)\n",
    "coords_max = coords_tip.loc[index_max]\n",
    "print(coords_max)"
   ]
  },
  {
   "cell_type": "code",
   "execution_count": 27,
   "metadata": {},
   "outputs": [
    {
     "name": "stdout",
     "output_type": "stream",
     "text": [
      "16.456402051949233\n",
      "13.626742653623278\n",
      "16.45640205194925\n",
      "537.7064395009609\n",
      "54.065803740054186\n",
      "1749\n",
      "x-coordinate    0.005250\n",
      "y-coordinate    0.254227\n",
      "z-coordinate    0.026130\n",
      "Name: 1749, dtype: float64\n"
     ]
    }
   ],
   "source": [
    "print(spl_pside.min())\n",
    "print(spl_sside.min())\n",
    "print(spl_lead.min())\n",
    "print(spl_trail.min())\n",
    "print(spl_tip.min())\n",
    "index_min = spl_tip.idxmin()\n",
    "print(index_min)\n",
    "coords_min = coords_tip.loc[index_min]\n",
    "print(coords_min)"
   ]
  },
  {
   "cell_type": "code",
   "execution_count": 28,
   "metadata": {},
   "outputs": [],
   "source": [
    "text_1 = str('Max RMS SPL ' + str(round(spl_tip.max(), 2)) + ' at node: ')\n",
    "text_x1 = str('x = ' + str(round(coords_max[0], 4)))\n",
    "text_y1 = str('y = ' + str(round(coords_max[1], 4)))\n",
    "text_z1 = str('z = ' + str(round(coords_max[2], 4)))\n",
    "text_2 = str('Min RMS SPL ' + str(round(spl_sside.min(), 2)) + ' at node: ')\n",
    "text_x2 = str('x = ' + str(round(coords_min[0], 4)))\n",
    "text_y2 = str('y = ' + str(round(coords_min[1], 4)))\n",
    "text_z2 = str('z = ' + str(round(coords_min[2], 4)))"
   ]
  },
  {
   "cell_type": "code",
   "execution_count": 29,
   "metadata": {
    "scrolled": false
   },
   "outputs": [],
   "source": [
    "#Blade meridional zy view\n",
    "\n",
    "sound_pressure_plot, ax0 = plt.subplots(1, 1, figsize=(6, 6), dpi=300)\n",
    "spl_plot = ax0.scatter(z_sside, y_sside, c=spl_sside, s=2, cmap=plt.cm.jet, norm=colors.LogNorm(vmin=1, vmax=15.0e03, clip=False))\n",
    "ax0.scatter(z_tip, y_tip, c=spl_tip, s=2, cmap=plt.cm.jet, norm=colors.LogNorm(vmin=1, vmax=15.0e03, clip=False))\n",
    "ax0.scatter(z_trail, y_trail, c=spl_trail, s=2, cmap=plt.cm.jet, norm=colors.LogNorm(vmin=1, vmax=15.0e03, clip=False))\n",
    "ax0.scatter(z_pside, y_pside, c=spl_pside, s=2, cmap=plt.cm.jet, norm=colors.LogNorm(vmin=1, vmax=15.0e03, clip=False))\n",
    "ax0.scatter(z_lead, y_lead, c=spl_lead, s=2, cmap=plt.cm.jet, norm=colors.LogNorm(vmin=1, vmax=15.0e03, clip=False))\n",
    "\n",
    "sound_pressure_plot.colorbar(spl_plot, ax=ax0, orientation=\"vertical\", pad=0.1)\n",
    "ax0.set_title(str('RMS sound pressure at blade, meridional (Z)(Y) view [Pa]'))\n",
    "ax0.set_aspect('equal', 'box')\n",
    "ax0.set_xlim(-0.01, 0.1)\n",
    "ax0.set_ylim(0.08, 0.260)\n",
    "#ax0.set_xticks(np.arange(-0.05, 0.150, 0.025))\n",
    "#ax0.set_yticks(np.arange(-0.075, 0.150, 0.025))\n",
    "ax0.set_xlabel('z - coordinate')\n",
    "ax0.set_ylabel('y - coordinate')\n",
    "#ax0.text(0.140, 0.25, text_1, fontsize=12)\n",
    "#ax0.text(0.140, 0.24, text_x1, fontsize=12)\n",
    "#ax0.text(0.140, 0.23, text_y1, fontsize=12)\n",
    "#ax0.text(0.140, 0.22, text_z1, fontsize=12)\n",
    "#ax0.text(0.140, 0.205, text_2, fontsize=12)\n",
    "#ax0.text(0.140, 0.195, text_x2, fontsize=12)\n",
    "#ax0.text(0.140, 0.185, text_y2, fontsize=12)\n",
    "#ax0.text(0.140, 0.175, text_z2, fontsize=12)\n",
    "plt.grid()\n",
    "#plt.show()\n",
    "os.chdir(path_plots)\n",
    "plt.savefig('blade-zy-rms-spl.png', bbox_inches='tight')\n",
    "plt.close()"
   ]
  },
  {
   "cell_type": "code",
   "execution_count": 30,
   "metadata": {},
   "outputs": [],
   "source": [
    "#Blade meridional (-z)(y) view\n",
    "\n",
    "sound_pressure_plot, ax0 = plt.subplots(1, 1, figsize=(6, 6), dpi=300)\n",
    "spl_plot = ax0.scatter(z_lead, y_lead, c=spl_lead, s=2, cmap=plt.cm.jet, norm=colors.LogNorm(vmin=1, vmax=15.0e03, clip=False))\n",
    "ax0.scatter(z_pside, y_pside, c=spl_pside, s=2, cmap=plt.cm.jet, norm=colors.LogNorm(vmin=1, vmax=15.0e03, clip=False))\n",
    "ax0.scatter(z_trail, y_trail, c=spl_trail, s=2, cmap=plt.cm.jet, norm=colors.LogNorm(vmin=1, vmax=15.0e03, clip=False))\n",
    "ax0.scatter(z_tip, y_tip, c=spl_tip, s=2, cmap=plt.cm.jet, norm=colors.LogNorm(vmin=1, vmax=15.0e03, clip=False))\n",
    "ax0.scatter(z_sside, y_sside, c=spl_sside, s=2, cmap=plt.cm.jet, norm=colors.LogNorm(vmin=1, vmax=15.0e03, clip=False))\n",
    "\n",
    "sound_pressure_plot.colorbar(spl_plot, ax=ax0, orientation=\"vertical\", pad=0.1)\n",
    "ax0.set_title(str('RMS sound pressure at blade, meridional (-Z)(Y) view [Pa]'))\n",
    "ax0.set_aspect('equal', 'box')\n",
    "ax0.set_xlim(-0.01, 0.1)\n",
    "ax0.set_ylim(0.08, 0.260)\n",
    "ax0.invert_xaxis()\n",
    "#ax0.set_xticks(np.arange(-0.05, 0.150, 0.025))\n",
    "#ax0.set_yticks(np.arange(-0.075, 0.150, 0.025))\n",
    "ax0.set_xlabel('z - coordinate')\n",
    "ax0.set_ylabel('y - coordinate')\n",
    "#ax0.text(0.050, 0.25, text_1, fontsize=12)\n",
    "#ax0.text(0.050, 0.24, text_x1, fontsize=12)\n",
    "#ax0.text(0.050, 0.23, text_y1, fontsize=12)\n",
    "#ax0.text(0.050, 0.22, text_z1, fontsize=12)\n",
    "#ax0.text(0.050, 0.205, text_2, fontsize=12)\n",
    "#ax0.text(0.050, 0.195, text_x2, fontsize=12)\n",
    "#ax0.text(0.050, 0.185, text_y2, fontsize=12)\n",
    "#ax0.text(0.050, 0.175, text_z2, fontsize=12)\n",
    "plt.grid()\n",
    "#plt.show()\n",
    "os.chdir(path_plots)\n",
    "plt.savefig('blade-negzy-rms-spl.png', bbox_inches='tight')\n",
    "plt.close()"
   ]
  },
  {
   "cell_type": "code",
   "execution_count": 31,
   "metadata": {},
   "outputs": [],
   "source": [
    "#Blade frontal (-x)(y) view\n",
    "\n",
    "sound_pressure_plot, ax0 = plt.subplots(1, 1, figsize=(6, 6), dpi=300)\n",
    "spl_plot = ax0.scatter(x_trail, y_trail, c=spl_trail, s=2, cmap=plt.cm.jet, norm=colors.LogNorm(vmin=1, vmax=15.0e03, clip=False))\n",
    "ax0.scatter(x_pside, y_pside, c=spl_pside, s=2, cmap=plt.cm.jet, norm=colors.LogNorm(vmin=1, vmax=15.0e03, clip=False))\n",
    "ax0.scatter(x_sside, y_sside, c=spl_sside, s=2, cmap=plt.cm.jet, norm=colors.LogNorm(vmin=1, vmax=15.0e03, clip=False))\n",
    "ax0.scatter(x_tip, y_tip, c=spl_tip, s=2, cmap=plt.cm.jet, norm=colors.LogNorm(vmin=1, vmax=15.0e03, clip=False))\n",
    "ax0.scatter(x_lead, y_lead, c=spl_lead, s=2, cmap=plt.cm.jet, norm=colors.LogNorm(vmin=1, vmax=15.0e03, clip=False))\n",
    "\n",
    "sound_pressure_plot.colorbar(spl_plot, ax=ax0, orientation=\"vertical\", pad=0.1)\n",
    "ax0.set_title(str('RMS sound pressure at blade, frontal (-X)(Y) view [Pa]'))\n",
    "ax0.set_aspect('equal', 'box')\n",
    "ax0.set_xlim(-0.01, 0.1)\n",
    "ax0.set_ylim(0.08, 0.260)\n",
    "ax0.invert_xaxis()\n",
    "#ax0.set_xticks(np.arange(-0.05, 0.150, 0.025))\n",
    "#ax0.set_yticks(np.arange(-0.075, 0.150, 0.025))\n",
    "ax0.set_xlabel('-x - coordinate')\n",
    "ax0.set_ylabel('y - coordinate')\n",
    "#ax0.text(0.050, 0.25, text_1, fontsize=12)\n",
    "#ax0.text(0.050, 0.24, text_x1, fontsize=12)\n",
    "#ax0.text(0.050, 0.23, text_y1, fontsize=12)\n",
    "#ax0.text(0.050, 0.22, text_z1, fontsize=12)\n",
    "#ax0.text(0.050, 0.205, text_2, fontsize=12)\n",
    "#ax0.text(0.050, 0.195, text_x2, fontsize=12)\n",
    "#ax0.text(0.050, 0.185, text_y2, fontsize=12)\n",
    "#ax0.text(0.050, 0.175, text_z2, fontsize=12)\n",
    "plt.grid()\n",
    "#plt.show()\n",
    "os.chdir(path_plots)\n",
    "plt.savefig('blade-negxy-rms-spl.png', bbox_inches='tight')\n",
    "plt.close()"
   ]
  },
  {
   "cell_type": "code",
   "execution_count": 32,
   "metadata": {},
   "outputs": [],
   "source": [
    "#Blade backside (x)(y) view\n",
    "\n",
    "sound_pressure_plot, ax0 = plt.subplots(1, 1, figsize=(6, 6), dpi=300)\n",
    "spl_plot = ax0.scatter(x_lead, y_lead, c=spl_lead, s=2, cmap=plt.cm.jet, norm=colors.LogNorm(vmin=1, vmax=15.0e03, clip=False))\n",
    "ax0.scatter(x_tip, y_tip, c=spl_tip, s=2, cmap=plt.cm.jet, norm=colors.LogNorm(vmin=1, vmax=15.0e03, clip=False))\n",
    "ax0.scatter(x_sside, y_sside, c=spl_sside, s=2, cmap=plt.cm.jet, norm=colors.LogNorm(vmin=1, vmax=15.0e03, clip=False))\n",
    "ax0.scatter(x_pside, y_pside, c=spl_pside, s=2, cmap=plt.cm.jet, norm=colors.LogNorm(vmin=1, vmax=15.0e03, clip=False))\n",
    "ax0.scatter(x_trail, y_trail, c=spl_trail, s=2, cmap=plt.cm.jet, norm=colors.LogNorm(vmin=1, vmax=15.0e03, clip=False))\n",
    "\n",
    "sound_pressure_plot.colorbar(spl_plot, ax=ax0, orientation=\"vertical\", pad=0.1)\n",
    "ax0.set_title(str('RMS sound pressure at blade, backside (X)(Y) view [Pa]'))\n",
    "ax0.set_aspect('equal', 'box')\n",
    "ax0.set_xlim(-0.01, 0.1)\n",
    "ax0.set_ylim(0.08, 0.260)\n",
    "#ax0.set_xticks(np.arange(-0.05, 0.150, 0.025))\n",
    "#ax0.set_yticks(np.arange(-0.075, 0.150, 0.025))\n",
    "ax0.set_xlabel('x - coordinate')\n",
    "ax0.set_ylabel('y - coordinate')\n",
    "#ax0.text(0.050, 0.25, text_1, fontsize=12)\n",
    "#ax0.text(0.050, 0.24, text_x1, fontsize=12)\n",
    "#ax0.text(0.050, 0.23, text_y1, fontsize=12)\n",
    "#ax0.text(0.050, 0.22, text_z1, fontsize=12)\n",
    "#ax0.text(0.050, 0.205, text_2, fontsize=12)\n",
    "#ax0.text(0.050, 0.195, text_x2, fontsize=12)\n",
    "#ax0.text(0.050, 0.185, text_y2, fontsize=12)\n",
    "#ax0.text(0.050, 0.175, text_z2, fontsize=12)\n",
    "plt.grid()\n",
    "#plt.show()\n",
    "os.chdir(path_plots)\n",
    "plt.savefig('blade-xy-rms-spl.png', bbox_inches='tight')\n",
    "plt.close()"
   ]
  },
  {
   "cell_type": "code",
   "execution_count": 33,
   "metadata": {},
   "outputs": [],
   "source": [
    "#####"
   ]
  },
  {
   "cell_type": "code",
   "execution_count": 34,
   "metadata": {},
   "outputs": [],
   "source": [
    "os.chdir(path_rms)\n",
    "\n",
    "data_pside = pd.DataFrame(pd.read_csv('pside-rms.dat', delimiter=\",\", header=0, skiprows=0, decimal='.')).set_index('nodenumber')\n",
    "spl_pside = data_pside['rms_spldb']\n",
    "\n",
    "data_sside = pd.DataFrame(pd.read_csv('sside-rms.dat', delimiter=\",\", header=0, skiprows=0, decimal='.')).set_index('nodenumber')\n",
    "spl_sside = data_sside['rms_spldb']\n",
    "\n",
    "data_lead = pd.DataFrame(pd.read_csv('lead-rms.dat', delimiter=\",\", header=0, skiprows=0, decimal='.')).set_index('nodenumber')\n",
    "spl_lead = data_lead['rms_spldb']\n",
    "\n",
    "data_trail = pd.DataFrame(pd.read_csv('trail-rms.dat', delimiter=\",\", header=0, skiprows=0, decimal='.')).set_index('nodenumber')\n",
    "spl_trail = data_trail['rms_spldb']\n",
    "\n",
    "data_tip = pd.DataFrame(pd.read_csv('tip-rms.dat', delimiter=\",\", header=0, skiprows=0, decimal='.')).set_index('nodenumber')\n",
    "spl_tip = data_tip['rms_spldb']"
   ]
  },
  {
   "cell_type": "code",
   "execution_count": 35,
   "metadata": {},
   "outputs": [
    {
     "name": "stdout",
     "output_type": "stream",
     "text": [
      "174.78214893173302\n",
      "173.8566251945319\n",
      "165.9001079152144\n",
      "173.8550970427151\n",
      "176.8505590424741\n",
      "13190\n",
      "x-coordinate    0.080901\n",
      "y-coordinate    0.233130\n",
      "z-coordinate    0.065970\n",
      "Name: 13190, dtype: float64\n"
     ]
    }
   ],
   "source": [
    "print(spl_pside.max())\n",
    "print(spl_sside.max())\n",
    "print(spl_lead.max())\n",
    "print(spl_trail.max())\n",
    "print(spl_tip.max())\n",
    "index_max = spl_tip.idxmax()\n",
    "print(index_max)\n",
    "coords_max = coords_tip.loc[index_max]\n",
    "print(coords_max)"
   ]
  },
  {
   "cell_type": "code",
   "execution_count": 36,
   "metadata": {},
   "outputs": [
    {
     "name": "stdout",
     "output_type": "stream",
     "text": [
      "118.30609787096662\n",
      "116.66724117021828\n",
      "118.30609787096662\n",
      "148.59030483794726\n",
      "128.6378533582922\n",
      "1749\n",
      "x-coordinate    0.005250\n",
      "y-coordinate    0.254227\n",
      "z-coordinate    0.026130\n",
      "Name: 1749, dtype: float64\n"
     ]
    }
   ],
   "source": [
    "print(spl_pside.min())\n",
    "print(spl_sside.min())\n",
    "print(spl_lead.min())\n",
    "print(spl_trail.min())\n",
    "print(spl_tip.min())\n",
    "index_min = spl_tip.idxmin()\n",
    "print(index_min)\n",
    "coords_min = coords_tip.loc[index_min]\n",
    "print(coords_min)"
   ]
  },
  {
   "cell_type": "code",
   "execution_count": 37,
   "metadata": {},
   "outputs": [],
   "source": [
    "text_1 = str('Max RMS SPL ' + str(round(spl_tip.max(), 2)) + ' at node: ')\n",
    "text_x1 = str('x = ' + str(round(coords_max[0], 4)))\n",
    "text_y1 = str('y = ' + str(round(coords_max[1], 4)))\n",
    "text_z1 = str('z = ' + str(round(coords_max[2], 4)))\n",
    "text_2 = str('Min RMS SPL ' + str(round(spl_sside.min(), 2)) + ' at node: ')\n",
    "text_x2 = str('x = ' + str(round(coords_min[0], 4)))\n",
    "text_y2 = str('y = ' + str(round(coords_min[1], 4)))\n",
    "text_z2 = str('z = ' + str(round(coords_min[2], 4)))"
   ]
  },
  {
   "cell_type": "code",
   "execution_count": 38,
   "metadata": {},
   "outputs": [],
   "source": [
    "#Blade meridional zy view\n",
    "\n",
    "sound_pressure_plot, ax0 = plt.subplots(1, 1, figsize=(6, 6), dpi=300)\n",
    "spl_plot = ax0.scatter(z_sside, y_sside, c=spl_sside, s=2, cmap=plt.cm.jet, vmin=110, vmax=180)\n",
    "ax0.scatter(z_tip, y_tip, c=spl_tip, s=2, cmap=plt.cm.jet, vmin=110, vmax=180)\n",
    "ax0.scatter(z_trail, y_trail, c=spl_trail, s=2, cmap=plt.cm.jet, vmin=110, vmax=180)\n",
    "ax0.scatter(z_pside, y_pside, c=spl_pside, s=2, cmap=plt.cm.jet, vmin=110, vmax=180)\n",
    "ax0.scatter(z_lead, y_lead, c=spl_lead, s=2, cmap=plt.cm.jet, vmin=110, vmax=180)\n",
    "\n",
    "sound_pressure_plot.colorbar(spl_plot, ax=ax0, orientation=\"vertical\", pad=0.1)\n",
    "ax0.set_title(str('RMS SPLdB at blade, meridional (Z)(Y) view [dB]'))\n",
    "ax0.set_aspect('equal', 'box')\n",
    "ax0.set_xlim(-0.01, 0.1)\n",
    "ax0.set_ylim(0.08, 0.260)\n",
    "#ax0.set_xticks(np.arange(-0.05, 0.150, 0.025))\n",
    "#ax0.set_yticks(np.arange(-0.075, 0.150, 0.025))\n",
    "ax0.set_xlabel('z - coordinate')\n",
    "ax0.set_ylabel('y - coordinate')\n",
    "#ax0.text(0.140, 0.25, text_1, fontsize=12)\n",
    "#ax0.text(0.140, 0.24, text_x1, fontsize=12)\n",
    "#ax0.text(0.140, 0.23, text_y1, fontsize=12)\n",
    "#ax0.text(0.140, 0.22, text_z1, fontsize=12)\n",
    "#ax0.text(0.140, 0.205, text_2, fontsize=12)\n",
    "#ax0.text(0.140, 0.195, text_x2, fontsize=12)\n",
    "#ax0.text(0.140, 0.185, text_y2, fontsize=12)\n",
    "#ax0.text(0.140, 0.175, text_z2, fontsize=12)\n",
    "plt.grid()\n",
    "#plt.show()\n",
    "os.chdir(path_plots)\n",
    "plt.savefig('blade-zy-rms-spldb.png', bbox_inches='tight')\n",
    "plt.close()"
   ]
  },
  {
   "cell_type": "code",
   "execution_count": 39,
   "metadata": {},
   "outputs": [],
   "source": [
    "#Blade meridional (-z)(y) view\n",
    "\n",
    "sound_pressure_plot, ax0 = plt.subplots(1, 1, figsize=(6, 6), dpi=300)\n",
    "spl_plot = ax0.scatter(z_lead, y_lead, c=spl_lead, s=2, cmap=plt.cm.jet, vmin=110, vmax=180)\n",
    "ax0.scatter(z_pside, y_pside, c=spl_pside, s=2, cmap=plt.cm.jet, vmin=110, vmax=180)\n",
    "ax0.scatter(z_trail, y_trail, c=spl_trail, s=2, cmap=plt.cm.jet, vmin=110, vmax=180)\n",
    "ax0.scatter(z_tip, y_tip, c=spl_tip, s=2, cmap=plt.cm.jet, vmin=110, vmax=180)\n",
    "ax0.scatter(z_sside, y_sside, c=spl_sside, s=2, cmap=plt.cm.jet, vmin=110, vmax=180)\n",
    "\n",
    "sound_pressure_plot.colorbar(spl_plot, ax=ax0, orientation=\"vertical\", pad=0.1)\n",
    "ax0.set_title(str('RMS SPLdB at blade, meridional (-Z)(Y) view [dB]'))\n",
    "ax0.set_aspect('equal', 'box')\n",
    "ax0.set_xlim(-0.01, 0.1)\n",
    "ax0.set_ylim(0.08, 0.260)\n",
    "ax0.invert_xaxis()\n",
    "#ax0.set_xticks(np.arange(-0.05, 0.150, 0.025))\n",
    "#ax0.set_yticks(np.arange(-0.075, 0.150, 0.025))\n",
    "ax0.set_xlabel('z - coordinate')\n",
    "ax0.set_ylabel('y - coordinate')\n",
    "#ax0.text(0.050, 0.25, text_1, fontsize=12)\n",
    "#ax0.text(0.050, 0.24, text_x1, fontsize=12)\n",
    "#ax0.text(0.050, 0.23, text_y1, fontsize=12)\n",
    "#ax0.text(0.050, 0.22, text_z1, fontsize=12)\n",
    "#ax0.text(0.050, 0.205, text_2, fontsize=12)\n",
    "#ax0.text(0.050, 0.195, text_x2, fontsize=12)\n",
    "#ax0.text(0.050, 0.185, text_y2, fontsize=12)\n",
    "#ax0.text(0.050, 0.175, text_z2, fontsize=12)\n",
    "plt.grid()\n",
    "#plt.show()\n",
    "os.chdir(path_plots)\n",
    "plt.savefig('blade-negzy-rms-spldb.png', bbox_inches='tight')\n",
    "plt.close()"
   ]
  },
  {
   "cell_type": "code",
   "execution_count": 40,
   "metadata": {
    "scrolled": true
   },
   "outputs": [],
   "source": [
    "#Blade frontal (-x)(y) view\n",
    "\n",
    "sound_pressure_plot, ax0 = plt.subplots(1, 1, figsize=(6, 6), dpi=300)\n",
    "spl_plot = ax0.scatter(x_trail, y_trail, c=spl_trail, s=2, cmap=plt.cm.jet, vmin=110, vmax=180)\n",
    "ax0.scatter(x_pside, y_pside, c=spl_pside, s=2, cmap=plt.cm.jet, vmin=110, vmax=180)\n",
    "ax0.scatter(x_sside, y_sside, c=spl_sside, s=2, cmap=plt.cm.jet, vmin=110, vmax=180)\n",
    "ax0.scatter(x_tip, y_tip, c=spl_tip, s=2, cmap=plt.cm.jet, vmin=110, vmax=180)\n",
    "ax0.scatter(x_lead, y_lead, c=spl_lead, s=2, cmap=plt.cm.jet, vmin=110, vmax=180)\n",
    "\n",
    "sound_pressure_plot.colorbar(spl_plot, ax=ax0, orientation=\"vertical\", pad=0.1)\n",
    "ax0.set_title(str('RMS SPLdB at blade, frontal (-X)(Y) view [dB]'))\n",
    "ax0.set_aspect('equal', 'box')\n",
    "ax0.set_xlim(-0.01, 0.1)\n",
    "ax0.set_ylim(0.08, 0.260)\n",
    "ax0.invert_xaxis()\n",
    "#ax0.set_xticks(np.arange(-0.05, 0.150, 0.025))\n",
    "#ax0.set_yticks(np.arange(-0.075, 0.150, 0.025))\n",
    "ax0.set_xlabel('-x - coordinate')\n",
    "ax0.set_ylabel('y - coordinate')\n",
    "#ax0.text(0.050, 0.25, text_1, fontsize=12)\n",
    "#ax0.text(0.050, 0.24, text_x1, fontsize=12)\n",
    "#ax0.text(0.050, 0.23, text_y1, fontsize=12)\n",
    "#ax0.text(0.050, 0.22, text_z1, fontsize=12)\n",
    "#ax0.text(0.050, 0.205, text_2, fontsize=12)\n",
    "#ax0.text(0.050, 0.195, text_x2, fontsize=12)\n",
    "#ax0.text(0.050, 0.185, text_y2, fontsize=12)\n",
    "#ax0.text(0.050, 0.175, text_z2, fontsize=12)\n",
    "plt.grid()\n",
    "#plt.show()\n",
    "os.chdir(path_plots)\n",
    "plt.savefig('blade-negxy-rms-spldb.png', bbox_inches='tight')\n",
    "plt.close()"
   ]
  },
  {
   "cell_type": "code",
   "execution_count": 41,
   "metadata": {},
   "outputs": [],
   "source": [
    "#Blade backside (x)(y) view\n",
    "\n",
    "sound_pressure_plot, ax0 = plt.subplots(1, 1, figsize=(6, 6), dpi=300)\n",
    "spl_plot = ax0.scatter(x_lead, y_lead, c=spl_lead, s=2, cmap=plt.cm.jet, vmin=110, vmax=180)\n",
    "ax0.scatter(x_tip, y_tip, c=spl_tip, s=2, cmap=plt.cm.jet, vmin=110, vmax=180)\n",
    "ax0.scatter(x_sside, y_sside, c=spl_sside, s=2, cmap=plt.cm.jet, vmin=110, vmax=180)\n",
    "ax0.scatter(x_pside, y_pside, c=spl_pside, s=2, cmap=plt.cm.jet, vmin=110, vmax=180)\n",
    "ax0.scatter(x_trail, y_trail, c=spl_trail, s=2, cmap=plt.cm.jet, vmin=110, vmax=180)\n",
    "\n",
    "sound_pressure_plot.colorbar(spl_plot, ax=ax0, orientation=\"vertical\", pad=0.1)\n",
    "ax0.set_title(str('RMS SPL at blade, backside (X)(Y) view [dB]'))\n",
    "ax0.set_aspect('equal', 'box')\n",
    "ax0.set_xlim(-0.01, 0.1)\n",
    "ax0.set_ylim(0.08, 0.260)\n",
    "#ax0.set_xticks(np.arange(-0.05, 0.150, 0.025))\n",
    "#ax0.set_yticks(np.arange(-0.075, 0.150, 0.025))\n",
    "ax0.set_xlabel('x - coordinate')\n",
    "ax0.set_ylabel('y - coordinate')\n",
    "#ax0.text(0.050, 0.25, text_1 )\n",
    "#ax0.text(0.050, 0.24, text_x1 )\n",
    "#ax0.text(0.050, 0.23, text_y1 )\n",
    "#ax0.text(0.050, 0.22, text_z1 )\n",
    "#ax0.text(0.050, 0.205, text_2 )\n",
    "#ax0.text(0.050, 0.195, text_x2 )\n",
    "#ax0.text(0.050, 0.185, text_y2 )\n",
    "#ax0.text(0.050, 0.175, text_z2 )\n",
    "plt.grid()\n",
    "#plt.show()\n",
    "os.chdir(path_plots)\n",
    "plt.savefig('blade-xy-rms-spldb.png', bbox_inches='tight')\n",
    "plt.close()"
   ]
  }
 ],
 "metadata": {
  "kernelspec": {
   "display_name": "Python 3",
   "language": "python",
   "name": "python3"
  },
  "language_info": {
   "codemirror_mode": {
    "name": "ipython",
    "version": 3
   },
   "file_extension": ".py",
   "mimetype": "text/x-python",
   "name": "python",
   "nbconvert_exporter": "python",
   "pygments_lexer": "ipython3",
   "version": "3.6.5"
  }
 },
 "nbformat": 4,
 "nbformat_minor": 2
}
