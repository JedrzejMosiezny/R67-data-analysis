{
 "cells": [
  {
   "cell_type": "code",
   "execution_count": 1,
   "metadata": {},
   "outputs": [
    {
     "name": "stdout",
     "output_type": "stream",
     "text": [
      "Loading Libraries...\n",
      "Loaded Libraries...\n"
     ]
    }
   ],
   "source": [
    "print(\"Loading Libraries...\")\n",
    "import os, sys\n",
    "import csv\n",
    "import platform\n",
    "import numpy as np\n",
    "import pandas as pd\n",
    "import dask.dataframe as dd\n",
    "import scipy\n",
    "import sklearn\n",
    "import matplotlib.pyplot as plt\n",
    "import flask\n",
    "import math\n",
    "import scipy.interpolate as scin\n",
    "import matplotlib.colors as colors\n",
    "from matplotlib import cm\n",
    "from matplotlib.ticker import LinearLocator\n",
    "from matplotlib.ticker import MaxNLocator\n",
    "from matplotlib.colors import ListedColormap\n",
    "from matplotlib.colors import BoundaryNorm\n",
    "from matplotlib.colors import LogNorm\n",
    "from mpl_toolkits.mplot3d import Axes3D\n",
    "from scipy.interpolate import griddata\n",
    "from sklearn import neighbors, datasets\n",
    "print(\"Loaded Libraries...\")"
   ]
  },
  {
   "cell_type": "code",
   "execution_count": null,
   "metadata": {
    "collapsed": true
   },
   "outputs": [],
   "source": [
    "print(\"Starting code...\")"
   ]
  },
  {
   "cell_type": "code",
   "execution_count": 2,
   "metadata": {},
   "outputs": [
    {
     "name": "stdout",
     "output_type": "stream",
     "text": [
      "Loading directories..\n",
      "Loaded directories...\n"
     ]
    }
   ],
   "source": [
    "print(\"Loading directories..\")\n",
    "path_data = 'D:/01_Dokumenty/01_PUT/01_DOKTORAT/13_PLGRID/noise-data/int-12'\n",
    "path_post = 'D:/01_Dokumenty/01_PUT/01_DOKTORAT/13_PLGRID/noise-data/int-12/post'\n",
    "path_acu = 'D:/01_Dokumenty/01_PUT/01_DOKTORAT/13_PLGRID/noise-data/int-12/post/acu'\n",
    "path_plots = 'D:/01_Dokumenty/01_PUT/01_DOKTORAT/13_PLGRID/noise-data/int-12/post/plots' #ścieżka do katalogu z interesującymi nas plikami\n",
    "print(\"Loaded directories...\")"
   ]
  },
  {
   "cell_type": "code",
   "execution_count": null,
   "metadata": {
    "collapsed": true
   },
   "outputs": [],
   "source": [
    "print(\"Loading batch data...\")\n",
    "os.chdir(path_data)\n",
    "batch_data = dd.read_csv('int-01-*.dat', delimiter=r\"\\s+\", decimal='.')\n",
    "print(\"Batch data done...\")\n",
    "\n",
    "print(\"Calculating batch averages...\")\n",
    "averages = pd.DataFrame(batch_data.groupby('nodenumber').mean().compute())\n",
    "print(\"Batch averages done...\")\n",
    "\n",
    "print(\"Generating node coordinates...\")\n",
    "avg_static_p = pd.DataFrame({'pressure': averages['pressure']})\n",
    "node_coords = pd.DataFrame({\n",
    "    'x-coordinate': averages['x-coordinate'],\n",
    "    'y-coordinate': averages['y-coordinate'],\n",
    "    'z-coordinate': averages['z-coordinate']\n",
    "})\n",
    "print(\"Node coords done...\")\n",
    "\n",
    "del(batch_data)\n",
    "print(\"Batch data deleted...\")\n",
    "\n",
    "print(\"Listing files...\")\n",
    "filelist = os.listdir(path_data)\n",
    "\n",
    "print(\"Starting noise analysis loop...\")\n",
    "for file in filelist:\n",
    "    os.chdir(path_data)\n",
    "    timestep = str(os.path.basename(str(file)))[7:-4]\n",
    "    #time_static_p = pd.DataFrame(pd.read_csv(file, sep='/s+', header=0, usecols=[\"nodenumber\", \"pressure\"], skiprows=0, decimal='.')).set_index('nodenumber')\n",
    "    time_static_p = pd.DataFrame(pd.read_csv(file, delimiter=r\"\\s+\", header=0, usecols=[\"nodenumber\", \"pressure\"], skiprows=0, decimal='.')).set_index('nodenumber')\n",
    "    acoustic_p = time_static_p.subtract(avg_static_p, fill_value=None)\n",
    "    db = acoustic_p.apply(lambda x: 20 * np.log10(np.abs(x)/0.00002), axis=1)\n",
    "    acoustic_data = pd.concat([node_coords, acoustic_p, db], axis=1)\n",
    "    acoustic_data.columns = ['x-coordinate', 'y-coordinate', 'z-coordinate', 'sound-pressure', 'db-level']\n",
    "    os.chdir(path_acu)\n",
    "    acoustic_data.to_csv(str('int-01_acu_' + str(timestep) + '.dat'), sep=',')\n",
    "    print(str('int-01_acu_' + str(timestep) + '.dat done...'))\n",
    "print(\"Exiting noise analysis loop...\")"
   ]
  },
  {
   "cell_type": "code",
   "execution_count": 4,
   "metadata": {},
   "outputs": [
    {
     "name": "stdout",
     "output_type": "stream",
     "text": [
      "Loading batch acoustic data...\n",
      "Batch data done...\n",
      "Calculate min, max, std for plotting range...\n",
      "Min, max, std for plotting range done...\n",
      "Prepare to plot RMS values...\n",
      "RMS values prep done...\n"
     ]
    }
   ],
   "source": [
    "print(\"Loading batch acoustic data...\")\n",
    "os.chdir(path_acu)\n",
    "batch_data = dd.read_csv('int-12*.dat', sep=',', decimal='.')\n",
    "print(\"Batch data done...\")\n",
    "\n",
    "print(\"Calculate min, max, std for plotting range...\")\n",
    "minima = pd.DataFrame(batch_data.groupby('nodenumber').min().compute())\n",
    "maxima = pd.DataFrame(batch_data.groupby('nodenumber').max().compute())\n",
    "min_spl=np.amin(minima['sound-pressure'])\n",
    "min_dbl=np.amin(minima['db-level'])\n",
    "max_spl=np.amax(maxima['sound-pressure'])\n",
    "max_dbl=np.amax(maxima['db-level'])\n",
    "std_devs = pd.DataFrame(batch_data.groupby('nodenumber').max().compute())\n",
    "min_splrms=np.amin(std_devs['sound-pressure'])\n",
    "min_dblrms=np.amin(std_devs['db-level'])\n",
    "max_splrms=np.amax(std_devs['sound-pressure'])\n",
    "max_dblrms=np.amax(std_devs['db-level'])\n",
    "print(\"Min, max, std for plotting range done...\")\n",
    "\n",
    "print(\"Prepare to plot RMS values...\")\n",
    "x = std_devs['x-coordinate']\n",
    "y = std_devs['y-coordinate']\n",
    "z = std_devs['z-coordinate']\n",
    "spl = std_devs['sound-pressure']\n",
    "dbl = std_devs['db-level']\n",
    "print(\"RMS values prep done...\")"
   ]
  },
  {
   "cell_type": "code",
   "execution_count": 12,
   "metadata": {},
   "outputs": [
    {
     "name": "stdout",
     "output_type": "stream",
     "text": [
      "-69425.266702\n",
      "41775.389434\n",
      "131.692438645\n",
      "191.227876611\n"
     ]
    }
   ],
   "source": [
    "print(min_splrms)\n",
    "print(max_splrms)\n",
    "print(min_dblrms)\n",
    "print(max_dblrms)"
   ]
  },
  {
   "cell_type": "code",
   "execution_count": 11,
   "metadata": {},
   "outputs": [
    {
     "name": "stdout",
     "output_type": "stream",
     "text": [
      "Plotting RMS values...\n",
      "Plotting RMS done...\n"
     ]
    }
   ],
   "source": [
    "print(\"Plotting RMS values...\")\n",
    "fig, (ax0, ax1) = plt.subplots(nrows=2, figsize=(10, 10), dpi=300)\n",
    "spl_plot = ax0.scatter(z, x, c=spl, s=1, cmap=plt.cm.bone, norm=colors.SymLogNorm(linthresh=10000, linscale=10000, vmin=min_splrms, vmax=max_splrms))\n",
    "fig.colorbar(spl_plot, ax=ax0)\n",
    "ax0.set_title(\"Sound pressure@Int-12. RMS values [Pa]\")\n",
    "dbl_plot = ax1.scatter(z, x, c=dbl, s=1, vmin=min_dblrms, vmax=max_dblrms, cmap=plt.cm.bone)\n",
    "fig.colorbar(dbl_plot, ax=ax1)\n",
    "ax1.set_title(\"dB level@Int-12. RMS values [dB]\")\n",
    "#plt.show()\n",
    "os.chdir(path_plots)\n",
    "plt.savefig(str('int-12_acu_RMS.png'))\n",
    "print(\"Plotting RMS done...\")"
   ]
  },
  {
   "cell_type": "code",
   "execution_count": null,
   "metadata": {
    "collapsed": true
   },
   "outputs": [],
   "source": [
    "print(\"Starting plotting loop...\")\n",
    "os.chdir(path_acu)\n",
    "filelist = os.listdir(path_acu)\n",
    "for file in filelist:\n",
    "    timestep = str(os.path.basename(str(file)))[11:-4]\n",
    "    os.chdir(path_acu)\n",
    "    acu = pd.read_csv(file, sep=',', decimal='.', header=0)\n",
    "    x = acu['x-coordinate']\n",
    "    y = acu['y-coordinate']\n",
    "    z = acu['z-coordinate']\n",
    "    spl = acu['sound-pressure']\n",
    "    dbl = acu['db-level']\n",
    "    fig, (ax0, ax1) = plt.subplots(nrows=2, figsize=(10, 10), dpi=300)\n",
    "    spl_plot = ax0.scatter(z, x, c=spl, s=2, cmap=plt.cm.bone, norm=colors.SymLogNorm(linthresh=5000, linscale=5000, vmin=-15000, vmax=12000))\n",
    "    fig.colorbar(spl_plot, ax=ax0)\n",
    "    ax0.set_title(str('Sound pressure. Int-01. Time: ' + str(timestep)))\n",
    "    dbl_plot = ax1.scatter(z, x, c=dbl, s=2, vmin=min_dbl, vmax=max_dbl, cmap=plt.cm.bone)\n",
    "    fig.colorbar(dbl_plot, ax=ax1)\n",
    "    ax1.set_title(str('dB level. Int-01. Time: ' + str(timestep)))\n",
    "    os.chdir(path_plots)\n",
    "    plt.savefig(str('int-01_acu_t_' + str(timestep) + '.png'))\n",
    "    plt.close()\n",
    "    print(str('int-01_acu_t_' + str(timestep) + '.png done...'))\n",
    "print(\"Exiting plotting loop...\")"
   ]
  }
 ],
 "metadata": {
  "kernelspec": {
   "display_name": "Python 3",
   "language": "python",
   "name": "python3"
  },
  "language_info": {
   "codemirror_mode": {
    "name": "ipython",
    "version": 3
   },
   "file_extension": ".py",
   "mimetype": "text/x-python",
   "name": "python",
   "nbconvert_exporter": "python",
   "pygments_lexer": "ipython3",
   "version": "3.6.1"
  }
 },
 "nbformat": 4,
 "nbformat_minor": 2
}
