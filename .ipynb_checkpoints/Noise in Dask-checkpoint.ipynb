{
 "cells": [
  {
   "cell_type": "code",
   "execution_count": null,
   "metadata": {
    "collapsed": true
   },
   "outputs": [],
   "source": [
    "# dask-noise.py\n",
    "print(\"Loading Libraries...\")\n",
    "import os, sys\n",
    "import csv\n",
    "import platform\n",
    "import numpy as np\n",
    "import pandas as pd\n",
    "import dask.dataframe as dd\n",
    "import math\n",
    "print(\"Loaded Libraries...\")"
   ]
  },
  {
   "cell_type": "code",
   "execution_count": null,
   "metadata": {
    "collapsed": true
   },
   "outputs": [],
   "source": [
    "print(\"Starting code...\")"
   ]
  },
  {
   "cell_type": "code",
   "execution_count": null,
   "metadata": {
    "collapsed": true
   },
   "outputs": [],
   "source": [
    "print(\"Loading directories..\")\n",
    "path_data = 'D:/01_Dokumenty/01_PUT/01_DOKTORAT/13_PLGRID/noise-data/int-01'\n",
    "path_post = 'D:/01_Dokumenty/01_PUT/01_DOKTORAT/13_PLGRID/noise-data/int-01-post'\n",
    "path_acu = 'D:/01_Dokumenty/01_PUT/01_DOKTORAT/13_PLGRID/noise-data/int-01-post/acu'\n",
    "#path_plots = 'D:/01_Dokumenty/01_PUT/01_DOKTORAT/13_PLGRID/noise-data/int-01-post/plots'\n",
    "print(\"Loaded directories...\")"
   ]
  },
  {
   "cell_type": "code",
   "execution_count": null,
   "metadata": {
    "collapsed": true
   },
   "outputs": [],
   "source": [
    "print(\"Loading batch data...\")\n",
    "os.chdir(path_data)\n",
    "batch_data = dd.read_csv('int-01*.dat', delimiter=r\"\\s+\", decimal='.')\n",
    "print(\"Batch data done...\")"
   ]
  },
  {
   "cell_type": "code",
   "execution_count": null,
   "metadata": {
    "collapsed": true
   },
   "outputs": [],
   "source": [
    "print(\"Calculating batch averages...\")\n",
    "averages = pd.DataFrame(batch_data.groupby('nodenumber').mean().compute())\n",
    "print(\"Batch averages done...\")"
   ]
  },
  {
   "cell_type": "code",
   "execution_count": null,
   "metadata": {
    "collapsed": true
   },
   "outputs": [],
   "source": [
    "print(\"Generating average pressure dataframe\")\n",
    "avg_static_p = pd.DataFrame({'pressure': averages['pressure']})\n",
    "print(\"Pressure df done\")"
   ]
  },
  {
   "cell_type": "code",
   "execution_count": null,
   "metadata": {
    "collapsed": true
   },
   "outputs": [],
   "source": [
    "print(\"Generating average velocity dataframe\")\n",
    "avg_rel_v = pd.DataFrame({'rel-velocity-magnitude': averages['rel-velocity-magnitude']})\n",
    "print(\"Velocity df done\")"
   ]
  },
  {
   "cell_type": "code",
   "execution_count": null,
   "metadata": {
    "collapsed": true
   },
   "outputs": [],
   "source": [
    "print(\"Generating node coordinates...\")\n",
    "node_coords = pd.DataFrame({\n",
    "    'x-coordinate': averages['x-coordinate'],\n",
    "    'y-coordinate': averages['y-coordinate'],\n",
    "    'z-coordinate': averages['z-coordinate']\n",
    "})\n",
    "print(\"Node coords done...\")"
   ]
  },
  {
   "cell_type": "code",
   "execution_count": null,
   "metadata": {
    "collapsed": true
   },
   "outputs": [],
   "source": [
    "del(batch_data)\n",
    "print(\"Batch data deleted...\")"
   ]
  },
  {
   "cell_type": "code",
   "execution_count": null,
   "metadata": {
    "collapsed": true
   },
   "outputs": [],
   "source": [
    "print(\"Listing files...\")\n",
    "filelist = sorted(os.listdir(path_data))[len(os.listdir(path_acu)):]\n",
    "file = filelist[1]"
   ]
  },
  {
   "cell_type": "code",
   "execution_count": null,
   "metadata": {
    "collapsed": true
   },
   "outputs": [],
   "source": [
    "os.chdir(path_data)\n",
    "timestep = str(os.path.basename(str(file)))[7:-4]"
   ]
  },
  {
   "cell_type": "code",
   "execution_count": null,
   "metadata": {
    "collapsed": true,
    "scrolled": true
   },
   "outputs": [],
   "source": [
    "time_static_p = pd.DataFrame(pd.read_csv(file, delimiter=r\"\\s+\", header=0, usecols=[\"nodenumber\", \"pressure\"], skiprows=0, decimal='.')).set_index('nodenumber')\n",
    "time_static_p"
   ]
  },
  {
   "cell_type": "code",
   "execution_count": null,
   "metadata": {
    "collapsed": true,
    "scrolled": true
   },
   "outputs": [],
   "source": [
    "acoustic_p = time_static_p.subtract(avg_static_p, fill_value=None)\n",
    "acoustic_p"
   ]
  },
  {
   "cell_type": "code",
   "execution_count": null,
   "metadata": {
    "collapsed": true,
    "scrolled": true
   },
   "outputs": [],
   "source": [
    "pressure_db = acoustic_p.apply(lambda x: 20 * np.log10(np.abs(x)/0.00002), axis=1)\n",
    "pressure_db"
   ]
  },
  {
   "cell_type": "code",
   "execution_count": null,
   "metadata": {
    "collapsed": true,
    "scrolled": true
   },
   "outputs": [],
   "source": [
    "time_rel_vel = pd.DataFrame(pd.read_csv(file, delimiter=r\"\\s+\", header=0, usecols=[\"nodenumber\", \"rel-velocity-magnitude\"], skiprows=0, decimal='.')).set_index('nodenumber')\n",
    "time_rel_vel"
   ]
  },
  {
   "cell_type": "code",
   "execution_count": null,
   "metadata": {
    "collapsed": true,
    "scrolled": true
   },
   "outputs": [],
   "source": [
    "particle_v = time_rel_vel.subtract(avg_rel_v, fill_value=None)\n",
    "#particle_v.columns = ['particle-v']\n",
    "particle_v"
   ]
  },
  {
   "cell_type": "code",
   "execution_count": null,
   "metadata": {
    "collapsed": true,
    "scrolled": true
   },
   "outputs": [],
   "source": [
    "sound_intensity = pd.DataFrame(acoustic_p.values*particle_v.values, index=acoustic_p.index).abs()\n",
    "#sound_intensity.columns = ['intensity']\n",
    "sound_intensity"
   ]
  },
  {
   "cell_type": "code",
   "execution_count": null,
   "metadata": {
    "collapsed": true,
    "scrolled": true
   },
   "outputs": [],
   "source": [
    "sil_db = sound_intensity.apply(lambda x: 10 * np.log10(np.abs(x)/1e-12), axis=1)\n",
    "#sil_db.columns = ['sil-db']\n",
    "sil_db"
   ]
  },
  {
   "cell_type": "code",
   "execution_count": null,
   "metadata": {
    "collapsed": true,
    "scrolled": true
   },
   "outputs": [],
   "source": [
    "acoustic_data = pd.concat([node_coords, acoustic_p, pressure_db, particle_v, sound_intensity, sil_db], axis=1)\n",
    "acoustic_data.columns = ['x-coordinate', 'y-coordinate', 'z-coordinate', 'sound-pressure', 'spl-db', 'particle-velocity', 'sound-intensity', 'sil-db']\n",
    "acoustic_data"
   ]
  },
  {
   "cell_type": "code",
   "execution_count": null,
   "metadata": {
    "collapsed": true
   },
   "outputs": [],
   "source": [
    "os.chdir(path_acu)\n",
    "acoustic_data.to_csv(str('int-01_acu_' + str(timestep) + '.dat'), sep=',')\n",
    "print(str('int-01_acu_' + str(timestep) + '.dat done...'))"
   ]
  },
  {
   "cell_type": "code",
   "execution_count": null,
   "metadata": {
    "collapsed": true
   },
   "outputs": [],
   "source": []
  },
  {
   "cell_type": "code",
   "execution_count": null,
   "metadata": {
    "collapsed": true
   },
   "outputs": [],
   "source": [
    "print(\"Starting noise analysis loop...\")\n",
    "for file in filelist:\n",
    "    os.chdir(path_data)\n",
    "    timestep = str(os.path.basename(str(file)))[11:-4]\n",
    "    time_static_p = pd.DataFrame(pd.read_csv(file, delimiter=r\"\\s+\", header=0, usecols=[\"nodenumber\", \"pressure\"], skiprows=0, decimal='.')).set_index('nodenumber')\n",
    "    acoustic_p = time_static_p.subtract(avg_static_p, fill_value=None)\n",
    "    db = acoustic_p.apply(lambda x: 20 * np.log10(np.abs(x)/0.00002), axis=1)\n",
    "    acoustic_data = pd.concat([node_coords, acoustic_p, db], axis=1)\n",
    "    acoustic_data.columns = ['x-coordinate', 'y-coordinate', 'z-coordinate', 'sound-pressure', 'db-level']\n",
    "    os.chdir(path_acu)\n",
    "    acoustic_data.to_csv(str('sside_acu_' + str(timestep) + '.dat'), sep=',')\n",
    "    print(str('sside_acu_' + str(timestep) + '.dat done...'))\n",
    "print(\"Exiting noise analysis loop...\")"
   ]
  },
  {
   "cell_type": "code",
   "execution_count": null,
   "metadata": {
    "collapsed": true
   },
   "outputs": [],
   "source": [
    "print(\"Script done, exiting.\")"
   ]
  }
 ],
 "metadata": {
  "kernelspec": {
   "display_name": "Python 3",
   "language": "python",
   "name": "python3"
  },
  "language_info": {
   "codemirror_mode": {
    "name": "ipython",
    "version": 3
   },
   "file_extension": ".py",
   "mimetype": "text/x-python",
   "name": "python",
   "nbconvert_exporter": "python",
   "pygments_lexer": "ipython3",
   "version": "3.6.3"
  }
 },
 "nbformat": 4,
 "nbformat_minor": 2
}
