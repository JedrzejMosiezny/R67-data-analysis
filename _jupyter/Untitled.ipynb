{
 "cells": [
  {
   "cell_type": "code",
   "execution_count": null,
   "metadata": {
    "collapsed": true
   },
   "outputs": [],
   "source": [
    "print(\"Loading Libraries...\")\n",
    "import os\n",
    "import csv\n",
    "import platform\n",
    "import numpy as np\n",
    "from scipy.fftpack import fft\n",
    "import pandas as pd\n",
    "import dask.dataframe as dd\n",
    "import math\n",
    "import matplotlib.pyplot as plt\n",
    "print(\"Loaded Libraries...\")"
   ]
  },
  {
   "cell_type": "code",
   "execution_count": null,
   "metadata": {
    "collapsed": true
   },
   "outputs": [],
   "source": []
  },
  {
   "cell_type": "code",
   "execution_count": null,
   "metadata": {
    "collapsed": true
   },
   "outputs": [],
   "source": []
  },
  {
   "cell_type": "code",
   "execution_count": null,
   "metadata": {
    "collapsed": true
   },
   "outputs": [],
   "source": [
    "T_test = 10  # Duration in seconds\n",
    "f0_test = 100  # Fundamental frequency\n",
    "Fs_test = 100000  # Sampling frequency\n",
    "\n",
    "# Time domain signal\n",
    "t_test = np.arange(0, T_test*Fs_test)/Fs_test\n",
    "x_test = np.sin(2*np.pi*f0_test*t_test)\n",
    "N_test = x_test.size\n",
    "\n",
    "# DFT\n",
    "X_test = np.fft.fft(x_test)\n",
    "X_db_test = 20*np.log10(2*np.abs(X_test)/N_test)\n",
    "#f = np.fft.fftfreq(N, 1/Fs)\n",
    "f_test = np.arange(0, N_test)*Fs_test/N_test\n",
    "\n",
    "plt.plot(f_test, X_db_test)\n",
    "plt.grid()\n",
    "plt.show()"
   ]
  },
  {
   "cell_type": "code",
   "execution_count": null,
   "metadata": {
    "collapsed": true
   },
   "outputs": [],
   "source": []
  }
 ],
 "metadata": {
  "kernelspec": {
   "display_name": "Python 3",
   "language": "python",
   "name": "python3"
  },
  "language_info": {
   "codemirror_mode": {
    "name": "ipython",
    "version": 3
   },
   "file_extension": ".py",
   "mimetype": "text/x-python",
   "name": "python",
   "nbconvert_exporter": "python",
   "pygments_lexer": "ipython3",
   "version": "3.6.3"
  }
 },
 "nbformat": 4,
 "nbformat_minor": 2
}
