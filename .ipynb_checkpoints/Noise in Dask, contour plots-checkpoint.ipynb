{
 "cells": [
  {
   "cell_type": "code",
   "execution_count": 13,
   "metadata": {},
   "outputs": [
    {
     "name": "stdout",
     "output_type": "stream",
     "text": [
      "Loading Libraries...\n",
      "Loaded Libraries...\n"
     ]
    }
   ],
   "source": [
    "print(\"Loading Libraries...\")\n",
    "import os, sys\n",
    "import csv\n",
    "import platform\n",
    "import numpy as np\n",
    "import pandas as pd\n",
    "import dask.dataframe as dd\n",
    "import scipy\n",
    "import sklearn\n",
    "import matplotlib.pyplot as plt\n",
    "import flask\n",
    "import math\n",
    "import scipy.interpolate as scin\n",
    "from matplotlib import cm\n",
    "from matplotlib.ticker import LinearLocator\n",
    "from matplotlib.ticker import MaxNLocator\n",
    "from matplotlib.colors import ListedColormap\n",
    "from matplotlib.colors import BoundaryNorm\n",
    "from matplotlib.colors import LogNorm\n",
    "from mpl_toolkits.mplot3d import Axes3D\n",
    "from scipy.interpolate import griddata\n",
    "from sklearn import neighbors, datasets\n",
    "print(\"Loaded Libraries...\")"
   ]
  },
  {
   "cell_type": "code",
   "execution_count": 2,
   "metadata": {},
   "outputs": [
    {
     "name": "stdout",
     "output_type": "stream",
     "text": [
      "Starting code...\n"
     ]
    }
   ],
   "source": [
    "print(\"Starting code...\")"
   ]
  },
  {
   "cell_type": "code",
   "execution_count": 3,
   "metadata": {},
   "outputs": [
    {
     "name": "stdout",
     "output_type": "stream",
     "text": [
      "Loading directories..\n",
      "Loaded directories...\n"
     ]
    }
   ],
   "source": [
    "print(\"Loading directories..\")\n",
    "path_data = 'D:/01_Dokumenty/01_PUT/01_DOKTORAT/13_PLGRID/noise-data/int-01'\n",
    "path_post = 'D:/01_Dokumenty/01_PUT/01_DOKTORAT/13_PLGRID/noise-data/int-01/post'\n",
    "path_acu = 'D:/01_Dokumenty/01_PUT/01_DOKTORAT/13_PLGRID/noise-data/int-01/post/acu'\n",
    "path_plots = 'D:/01_Dokumenty/01_PUT/01_DOKTORAT/13_PLGRID/noise-data/int-01/post/plots' #ścieżka do katalogu z interesującymi nas plikami\n",
    "print(\"Loaded directories...\")"
   ]
  },
  {
   "cell_type": "code",
   "execution_count": 4,
   "metadata": {},
   "outputs": [
    {
     "name": "stdout",
     "output_type": "stream",
     "text": [
      "Loading batch data...\n",
      "Batch data done...\n"
     ]
    }
   ],
   "source": [
    "print(\"Loading batch data...\")\n",
    "os.chdir(path_data)\n",
    "batch_data = dd.read_csv('int-01-*.dat', delimiter=r\"\\s+\", decimal='.')\n",
    "print(\"Batch data done...\")"
   ]
  },
  {
   "cell_type": "code",
   "execution_count": 5,
   "metadata": {},
   "outputs": [
    {
     "name": "stdout",
     "output_type": "stream",
     "text": [
      "Calculating batch averages...\n",
      "Batch averages done...\n"
     ]
    }
   ],
   "source": [
    "print(\"Calculating batch averages...\")\n",
    "averages = pd.DataFrame(batch_data.groupby('nodenumber').mean().compute())\n",
    "print(\"Batch averages done...\")"
   ]
  },
  {
   "cell_type": "code",
   "execution_count": 6,
   "metadata": {},
   "outputs": [
    {
     "name": "stdout",
     "output_type": "stream",
     "text": [
      "Generating node coordinates...\n",
      "Node coordinates done...\n"
     ]
    }
   ],
   "source": [
    "print(\"Generating node coordinates...\")\n",
    "avg_static_p = pd.DataFrame({'pressure': averages['pressure']})\n",
    "node_coords = pd.DataFrame({\n",
    "    'x-coordinate': averages['x-coordinate'],\n",
    "    'y-coordinate': averages['y-coordinate'],\n",
    "    'z-coordinate': averages['z-coordinate']\n",
    "})\n",
    "print(\"Node coordinates done...\")"
   ]
  },
  {
   "cell_type": "code",
   "execution_count": null,
   "metadata": {
    "collapsed": true
   },
   "outputs": [],
   "source": [
    "del(batch_data)\n",
    "print(\"Batch data deleted...\")"
   ]
  },
  {
   "cell_type": "code",
   "execution_count": 7,
   "metadata": {},
   "outputs": [
    {
     "name": "stdout",
     "output_type": "stream",
     "text": [
      "Listing files...\n"
     ]
    }
   ],
   "source": [
    "print(\"Listing files...\")\n",
    "filelist = os.listdir(path_data)"
   ]
  },
  {
   "cell_type": "code",
   "execution_count": 8,
   "metadata": {},
   "outputs": [
    {
     "name": "stdout",
     "output_type": "stream",
     "text": [
      "Starting noise analysis loop...\n",
      "int-01_acu_0001.dat done...\n",
      "int-01_acu_0002.dat done...\n",
      "int-01_acu_0003.dat done...\n",
      "int-01_acu_0004.dat done...\n",
      "int-01_acu_0005.dat done...\n",
      "int-01_acu_0006.dat done...\n",
      "int-01_acu_0007.dat done...\n",
      "int-01_acu_0008.dat done...\n",
      "int-01_acu_0009.dat done...\n",
      "int-01_acu_0010.dat done...\n",
      "int-01_acu_0011.dat done...\n",
      "int-01_acu_0012.dat done...\n",
      "int-01_acu_0013.dat done...\n",
      "int-01_acu_0014.dat done...\n",
      "int-01_acu_0015.dat done...\n",
      "int-01_acu_0016.dat done...\n",
      "int-01_acu_0017.dat done...\n",
      "int-01_acu_0018.dat done...\n",
      "int-01_acu_0019.dat done...\n",
      "int-01_acu_0020.dat done...\n",
      "int-01_acu_0021.dat done...\n",
      "int-01_acu_0022.dat done...\n",
      "int-01_acu_0023.dat done...\n",
      "int-01_acu_0024.dat done...\n",
      "int-01_acu_0025.dat done...\n",
      "int-01_acu_0026.dat done...\n",
      "int-01_acu_0027.dat done...\n",
      "int-01_acu_0028.dat done...\n",
      "int-01_acu_0029.dat done...\n",
      "int-01_acu_0030.dat done...\n",
      "int-01_acu_0031.dat done...\n",
      "int-01_acu_0032.dat done...\n",
      "int-01_acu_0033.dat done...\n",
      "int-01_acu_0034.dat done...\n",
      "int-01_acu_0035.dat done...\n",
      "int-01_acu_0036.dat done...\n",
      "int-01_acu_0037.dat done...\n",
      "int-01_acu_0038.dat done...\n",
      "int-01_acu_0039.dat done...\n",
      "int-01_acu_0040.dat done...\n",
      "int-01_acu_0041.dat done...\n",
      "int-01_acu_0042.dat done...\n",
      "int-01_acu_0043.dat done...\n",
      "int-01_acu_0044.dat done...\n",
      "int-01_acu_0045.dat done...\n",
      "int-01_acu_0046.dat done...\n",
      "int-01_acu_0047.dat done...\n",
      "int-01_acu_0048.dat done...\n",
      "int-01_acu_0049.dat done...\n",
      "int-01_acu_0050.dat done...\n",
      "int-01_acu_0051.dat done...\n",
      "int-01_acu_0052.dat done...\n",
      "int-01_acu_0053.dat done...\n"
     ]
    },
    {
     "ename": "KeyboardInterrupt",
     "evalue": "",
     "output_type": "error",
     "traceback": [
      "\u001b[1;31m---------------------------------------------------------------------------\u001b[0m",
      "\u001b[1;31mKeyboardInterrupt\u001b[0m                         Traceback (most recent call last)",
      "\u001b[1;32m<ipython-input-8-efbe430ee0c1>\u001b[0m in \u001b[0;36m<module>\u001b[1;34m()\u001b[0m\n\u001b[0;32m      6\u001b[0m     \u001b[0mtime_static_p\u001b[0m \u001b[1;33m=\u001b[0m \u001b[0mpd\u001b[0m\u001b[1;33m.\u001b[0m\u001b[0mDataFrame\u001b[0m\u001b[1;33m(\u001b[0m\u001b[0mpd\u001b[0m\u001b[1;33m.\u001b[0m\u001b[0mread_csv\u001b[0m\u001b[1;33m(\u001b[0m\u001b[0mfile\u001b[0m\u001b[1;33m,\u001b[0m \u001b[0mdelimiter\u001b[0m\u001b[1;33m=\u001b[0m\u001b[1;34mr\"\\s+\"\u001b[0m\u001b[1;33m,\u001b[0m \u001b[0mheader\u001b[0m\u001b[1;33m=\u001b[0m\u001b[1;36m0\u001b[0m\u001b[1;33m,\u001b[0m \u001b[0musecols\u001b[0m\u001b[1;33m=\u001b[0m\u001b[1;33m[\u001b[0m\u001b[1;34m\"nodenumber\"\u001b[0m\u001b[1;33m,\u001b[0m \u001b[1;34m\"pressure\"\u001b[0m\u001b[1;33m]\u001b[0m\u001b[1;33m,\u001b[0m \u001b[0mskiprows\u001b[0m\u001b[1;33m=\u001b[0m\u001b[1;36m0\u001b[0m\u001b[1;33m,\u001b[0m \u001b[0mdecimal\u001b[0m\u001b[1;33m=\u001b[0m\u001b[1;34m'.'\u001b[0m\u001b[1;33m)\u001b[0m\u001b[1;33m)\u001b[0m\u001b[1;33m.\u001b[0m\u001b[0mset_index\u001b[0m\u001b[1;33m(\u001b[0m\u001b[1;34m'nodenumber'\u001b[0m\u001b[1;33m)\u001b[0m\u001b[1;33m\u001b[0m\u001b[0m\n\u001b[0;32m      7\u001b[0m     \u001b[0macoustic_p\u001b[0m \u001b[1;33m=\u001b[0m \u001b[0mtime_static_p\u001b[0m\u001b[1;33m.\u001b[0m\u001b[0msubtract\u001b[0m\u001b[1;33m(\u001b[0m\u001b[0mavg_static_p\u001b[0m\u001b[1;33m,\u001b[0m \u001b[0mfill_value\u001b[0m\u001b[1;33m=\u001b[0m\u001b[1;32mNone\u001b[0m\u001b[1;33m)\u001b[0m\u001b[1;33m\u001b[0m\u001b[0m\n\u001b[1;32m----> 8\u001b[1;33m     \u001b[0mdb\u001b[0m \u001b[1;33m=\u001b[0m \u001b[0macoustic_p\u001b[0m\u001b[1;33m.\u001b[0m\u001b[0mapply\u001b[0m\u001b[1;33m(\u001b[0m\u001b[1;32mlambda\u001b[0m \u001b[0mx\u001b[0m\u001b[1;33m:\u001b[0m \u001b[1;36m20\u001b[0m \u001b[1;33m*\u001b[0m \u001b[0mnp\u001b[0m\u001b[1;33m.\u001b[0m\u001b[0mlog10\u001b[0m\u001b[1;33m(\u001b[0m\u001b[0mnp\u001b[0m\u001b[1;33m.\u001b[0m\u001b[0mabs\u001b[0m\u001b[1;33m(\u001b[0m\u001b[0mx\u001b[0m\u001b[1;33m)\u001b[0m\u001b[1;33m/\u001b[0m\u001b[1;36m0.00002\u001b[0m\u001b[1;33m)\u001b[0m\u001b[1;33m,\u001b[0m \u001b[0maxis\u001b[0m\u001b[1;33m=\u001b[0m\u001b[1;36m1\u001b[0m\u001b[1;33m)\u001b[0m\u001b[1;33m\u001b[0m\u001b[0m\n\u001b[0m\u001b[0;32m      9\u001b[0m     \u001b[0macoustic_data\u001b[0m \u001b[1;33m=\u001b[0m \u001b[0mpd\u001b[0m\u001b[1;33m.\u001b[0m\u001b[0mconcat\u001b[0m\u001b[1;33m(\u001b[0m\u001b[1;33m[\u001b[0m\u001b[0mnode_coords\u001b[0m\u001b[1;33m,\u001b[0m \u001b[0macoustic_p\u001b[0m\u001b[1;33m,\u001b[0m \u001b[0mdb\u001b[0m\u001b[1;33m]\u001b[0m\u001b[1;33m,\u001b[0m \u001b[0maxis\u001b[0m\u001b[1;33m=\u001b[0m\u001b[1;36m1\u001b[0m\u001b[1;33m)\u001b[0m\u001b[1;33m\u001b[0m\u001b[0m\n\u001b[0;32m     10\u001b[0m     \u001b[0macoustic_data\u001b[0m\u001b[1;33m.\u001b[0m\u001b[0mcolumns\u001b[0m \u001b[1;33m=\u001b[0m \u001b[1;33m[\u001b[0m\u001b[1;34m'x-coordinate'\u001b[0m\u001b[1;33m,\u001b[0m \u001b[1;34m'y-coordinate'\u001b[0m\u001b[1;33m,\u001b[0m \u001b[1;34m'z-coordinate'\u001b[0m\u001b[1;33m,\u001b[0m \u001b[1;34m'sound-pressure'\u001b[0m\u001b[1;33m,\u001b[0m \u001b[1;34m'db-level'\u001b[0m\u001b[1;33m]\u001b[0m\u001b[1;33m\u001b[0m\u001b[0m\n",
      "\u001b[1;32mC:\\Users\\Jedrzej\\Anaconda3\\lib\\site-packages\\pandas\\core\\frame.py\u001b[0m in \u001b[0;36mapply\u001b[1;34m(self, func, axis, broadcast, raw, reduce, args, **kwds)\u001b[0m\n\u001b[0;32m   4260\u001b[0m                         \u001b[0mf\u001b[0m\u001b[1;33m,\u001b[0m \u001b[0maxis\u001b[0m\u001b[1;33m,\u001b[0m\u001b[1;33m\u001b[0m\u001b[0m\n\u001b[0;32m   4261\u001b[0m                         \u001b[0mreduce\u001b[0m\u001b[1;33m=\u001b[0m\u001b[0mreduce\u001b[0m\u001b[1;33m,\u001b[0m\u001b[1;33m\u001b[0m\u001b[0m\n\u001b[1;32m-> 4262\u001b[1;33m                         ignore_failures=ignore_failures)\n\u001b[0m\u001b[0;32m   4263\u001b[0m             \u001b[1;32melse\u001b[0m\u001b[1;33m:\u001b[0m\u001b[1;33m\u001b[0m\u001b[0m\n\u001b[0;32m   4264\u001b[0m                 \u001b[1;32mreturn\u001b[0m \u001b[0mself\u001b[0m\u001b[1;33m.\u001b[0m\u001b[0m_apply_broadcast\u001b[0m\u001b[1;33m(\u001b[0m\u001b[0mf\u001b[0m\u001b[1;33m,\u001b[0m \u001b[0maxis\u001b[0m\u001b[1;33m)\u001b[0m\u001b[1;33m\u001b[0m\u001b[0m\n",
      "\u001b[1;32mC:\\Users\\Jedrzej\\Anaconda3\\lib\\site-packages\\pandas\\core\\frame.py\u001b[0m in \u001b[0;36m_apply_standard\u001b[1;34m(self, func, axis, ignore_failures, reduce)\u001b[0m\n\u001b[0;32m   4356\u001b[0m             \u001b[1;32mtry\u001b[0m\u001b[1;33m:\u001b[0m\u001b[1;33m\u001b[0m\u001b[0m\n\u001b[0;32m   4357\u001b[0m                 \u001b[1;32mfor\u001b[0m \u001b[0mi\u001b[0m\u001b[1;33m,\u001b[0m \u001b[0mv\u001b[0m \u001b[1;32min\u001b[0m \u001b[0menumerate\u001b[0m\u001b[1;33m(\u001b[0m\u001b[0mseries_gen\u001b[0m\u001b[1;33m)\u001b[0m\u001b[1;33m:\u001b[0m\u001b[1;33m\u001b[0m\u001b[0m\n\u001b[1;32m-> 4358\u001b[1;33m                     \u001b[0mresults\u001b[0m\u001b[1;33m[\u001b[0m\u001b[0mi\u001b[0m\u001b[1;33m]\u001b[0m \u001b[1;33m=\u001b[0m \u001b[0mfunc\u001b[0m\u001b[1;33m(\u001b[0m\u001b[0mv\u001b[0m\u001b[1;33m)\u001b[0m\u001b[1;33m\u001b[0m\u001b[0m\n\u001b[0m\u001b[0;32m   4359\u001b[0m                     \u001b[0mkeys\u001b[0m\u001b[1;33m.\u001b[0m\u001b[0mappend\u001b[0m\u001b[1;33m(\u001b[0m\u001b[0mv\u001b[0m\u001b[1;33m.\u001b[0m\u001b[0mname\u001b[0m\u001b[1;33m)\u001b[0m\u001b[1;33m\u001b[0m\u001b[0m\n\u001b[0;32m   4360\u001b[0m             \u001b[1;32mexcept\u001b[0m \u001b[0mException\u001b[0m \u001b[1;32mas\u001b[0m \u001b[0me\u001b[0m\u001b[1;33m:\u001b[0m\u001b[1;33m\u001b[0m\u001b[0m\n",
      "\u001b[1;32m<ipython-input-8-efbe430ee0c1>\u001b[0m in \u001b[0;36m<lambda>\u001b[1;34m(x)\u001b[0m\n\u001b[0;32m      6\u001b[0m     \u001b[0mtime_static_p\u001b[0m \u001b[1;33m=\u001b[0m \u001b[0mpd\u001b[0m\u001b[1;33m.\u001b[0m\u001b[0mDataFrame\u001b[0m\u001b[1;33m(\u001b[0m\u001b[0mpd\u001b[0m\u001b[1;33m.\u001b[0m\u001b[0mread_csv\u001b[0m\u001b[1;33m(\u001b[0m\u001b[0mfile\u001b[0m\u001b[1;33m,\u001b[0m \u001b[0mdelimiter\u001b[0m\u001b[1;33m=\u001b[0m\u001b[1;34mr\"\\s+\"\u001b[0m\u001b[1;33m,\u001b[0m \u001b[0mheader\u001b[0m\u001b[1;33m=\u001b[0m\u001b[1;36m0\u001b[0m\u001b[1;33m,\u001b[0m \u001b[0musecols\u001b[0m\u001b[1;33m=\u001b[0m\u001b[1;33m[\u001b[0m\u001b[1;34m\"nodenumber\"\u001b[0m\u001b[1;33m,\u001b[0m \u001b[1;34m\"pressure\"\u001b[0m\u001b[1;33m]\u001b[0m\u001b[1;33m,\u001b[0m \u001b[0mskiprows\u001b[0m\u001b[1;33m=\u001b[0m\u001b[1;36m0\u001b[0m\u001b[1;33m,\u001b[0m \u001b[0mdecimal\u001b[0m\u001b[1;33m=\u001b[0m\u001b[1;34m'.'\u001b[0m\u001b[1;33m)\u001b[0m\u001b[1;33m)\u001b[0m\u001b[1;33m.\u001b[0m\u001b[0mset_index\u001b[0m\u001b[1;33m(\u001b[0m\u001b[1;34m'nodenumber'\u001b[0m\u001b[1;33m)\u001b[0m\u001b[1;33m\u001b[0m\u001b[0m\n\u001b[0;32m      7\u001b[0m     \u001b[0macoustic_p\u001b[0m \u001b[1;33m=\u001b[0m \u001b[0mtime_static_p\u001b[0m\u001b[1;33m.\u001b[0m\u001b[0msubtract\u001b[0m\u001b[1;33m(\u001b[0m\u001b[0mavg_static_p\u001b[0m\u001b[1;33m,\u001b[0m \u001b[0mfill_value\u001b[0m\u001b[1;33m=\u001b[0m\u001b[1;32mNone\u001b[0m\u001b[1;33m)\u001b[0m\u001b[1;33m\u001b[0m\u001b[0m\n\u001b[1;32m----> 8\u001b[1;33m     \u001b[0mdb\u001b[0m \u001b[1;33m=\u001b[0m \u001b[0macoustic_p\u001b[0m\u001b[1;33m.\u001b[0m\u001b[0mapply\u001b[0m\u001b[1;33m(\u001b[0m\u001b[1;32mlambda\u001b[0m \u001b[0mx\u001b[0m\u001b[1;33m:\u001b[0m \u001b[1;36m20\u001b[0m \u001b[1;33m*\u001b[0m \u001b[0mnp\u001b[0m\u001b[1;33m.\u001b[0m\u001b[0mlog10\u001b[0m\u001b[1;33m(\u001b[0m\u001b[0mnp\u001b[0m\u001b[1;33m.\u001b[0m\u001b[0mabs\u001b[0m\u001b[1;33m(\u001b[0m\u001b[0mx\u001b[0m\u001b[1;33m)\u001b[0m\u001b[1;33m/\u001b[0m\u001b[1;36m0.00002\u001b[0m\u001b[1;33m)\u001b[0m\u001b[1;33m,\u001b[0m \u001b[0maxis\u001b[0m\u001b[1;33m=\u001b[0m\u001b[1;36m1\u001b[0m\u001b[1;33m)\u001b[0m\u001b[1;33m\u001b[0m\u001b[0m\n\u001b[0m\u001b[0;32m      9\u001b[0m     \u001b[0macoustic_data\u001b[0m \u001b[1;33m=\u001b[0m \u001b[0mpd\u001b[0m\u001b[1;33m.\u001b[0m\u001b[0mconcat\u001b[0m\u001b[1;33m(\u001b[0m\u001b[1;33m[\u001b[0m\u001b[0mnode_coords\u001b[0m\u001b[1;33m,\u001b[0m \u001b[0macoustic_p\u001b[0m\u001b[1;33m,\u001b[0m \u001b[0mdb\u001b[0m\u001b[1;33m]\u001b[0m\u001b[1;33m,\u001b[0m \u001b[0maxis\u001b[0m\u001b[1;33m=\u001b[0m\u001b[1;36m1\u001b[0m\u001b[1;33m)\u001b[0m\u001b[1;33m\u001b[0m\u001b[0m\n\u001b[0;32m     10\u001b[0m     \u001b[0macoustic_data\u001b[0m\u001b[1;33m.\u001b[0m\u001b[0mcolumns\u001b[0m \u001b[1;33m=\u001b[0m \u001b[1;33m[\u001b[0m\u001b[1;34m'x-coordinate'\u001b[0m\u001b[1;33m,\u001b[0m \u001b[1;34m'y-coordinate'\u001b[0m\u001b[1;33m,\u001b[0m \u001b[1;34m'z-coordinate'\u001b[0m\u001b[1;33m,\u001b[0m \u001b[1;34m'sound-pressure'\u001b[0m\u001b[1;33m,\u001b[0m \u001b[1;34m'db-level'\u001b[0m\u001b[1;33m]\u001b[0m\u001b[1;33m\u001b[0m\u001b[0m\n",
      "\u001b[1;32mC:\\Users\\Jedrzej\\Anaconda3\\lib\\site-packages\\pandas\\core\\ops.py\u001b[0m in \u001b[0;36mwrapper\u001b[1;34m(left, right, name, na_op)\u001b[0m\n\u001b[0;32m    719\u001b[0m                 \u001b[0mlvalues\u001b[0m \u001b[1;33m=\u001b[0m \u001b[0mlvalues\u001b[0m\u001b[1;33m.\u001b[0m\u001b[0mvalues\u001b[0m\u001b[1;33m\u001b[0m\u001b[0m\n\u001b[0;32m    720\u001b[0m \u001b[1;33m\u001b[0m\u001b[0m\n\u001b[1;32m--> 721\u001b[1;33m         \u001b[0mresult\u001b[0m \u001b[1;33m=\u001b[0m \u001b[0mwrap_results\u001b[0m\u001b[1;33m(\u001b[0m\u001b[0msafe_na_op\u001b[0m\u001b[1;33m(\u001b[0m\u001b[0mlvalues\u001b[0m\u001b[1;33m,\u001b[0m \u001b[0mrvalues\u001b[0m\u001b[1;33m)\u001b[0m\u001b[1;33m)\u001b[0m\u001b[1;33m\u001b[0m\u001b[0m\n\u001b[0m\u001b[0;32m    722\u001b[0m         return construct_result(\n\u001b[0;32m    723\u001b[0m             \u001b[0mleft\u001b[0m\u001b[1;33m,\u001b[0m\u001b[1;33m\u001b[0m\u001b[0m\n",
      "\u001b[1;32mC:\\Users\\Jedrzej\\Anaconda3\\lib\\site-packages\\pandas\\core\\ops.py\u001b[0m in \u001b[0;36msafe_na_op\u001b[1;34m(lvalues, rvalues)\u001b[0m\n\u001b[0;32m    680\u001b[0m         \u001b[1;32mtry\u001b[0m\u001b[1;33m:\u001b[0m\u001b[1;33m\u001b[0m\u001b[0m\n\u001b[0;32m    681\u001b[0m             \u001b[1;32mwith\u001b[0m \u001b[0mnp\u001b[0m\u001b[1;33m.\u001b[0m\u001b[0merrstate\u001b[0m\u001b[1;33m(\u001b[0m\u001b[0mall\u001b[0m\u001b[1;33m=\u001b[0m\u001b[1;34m'ignore'\u001b[0m\u001b[1;33m)\u001b[0m\u001b[1;33m:\u001b[0m\u001b[1;33m\u001b[0m\u001b[0m\n\u001b[1;32m--> 682\u001b[1;33m                 \u001b[1;32mreturn\u001b[0m \u001b[0mna_op\u001b[0m\u001b[1;33m(\u001b[0m\u001b[0mlvalues\u001b[0m\u001b[1;33m,\u001b[0m \u001b[0mrvalues\u001b[0m\u001b[1;33m)\u001b[0m\u001b[1;33m\u001b[0m\u001b[0m\n\u001b[0m\u001b[0;32m    683\u001b[0m         \u001b[1;32mexcept\u001b[0m \u001b[0mException\u001b[0m\u001b[1;33m:\u001b[0m\u001b[1;33m\u001b[0m\u001b[0m\n\u001b[0;32m    684\u001b[0m             \u001b[1;32mif\u001b[0m \u001b[0misinstance\u001b[0m\u001b[1;33m(\u001b[0m\u001b[0mrvalues\u001b[0m\u001b[1;33m,\u001b[0m \u001b[0mABCSeries\u001b[0m\u001b[1;33m)\u001b[0m\u001b[1;33m:\u001b[0m\u001b[1;33m\u001b[0m\u001b[0m\n",
      "\u001b[1;32mC:\\Users\\Jedrzej\\Anaconda3\\lib\\site-packages\\pandas\\core\\ops.py\u001b[0m in \u001b[0;36mna_op\u001b[1;34m(x, y)\u001b[0m\n\u001b[0;32m    656\u001b[0m         \u001b[1;32mtry\u001b[0m\u001b[1;33m:\u001b[0m\u001b[1;33m\u001b[0m\u001b[0m\n\u001b[0;32m    657\u001b[0m             result = expressions.evaluate(op, str_rep, x, y,\n\u001b[1;32m--> 658\u001b[1;33m                                           raise_on_error=True, **eval_kwargs)\n\u001b[0m\u001b[0;32m    659\u001b[0m         \u001b[1;32mexcept\u001b[0m \u001b[0mTypeError\u001b[0m\u001b[1;33m:\u001b[0m\u001b[1;33m\u001b[0m\u001b[0m\n\u001b[0;32m    660\u001b[0m             \u001b[1;32mif\u001b[0m \u001b[0misinstance\u001b[0m\u001b[1;33m(\u001b[0m\u001b[0my\u001b[0m\u001b[1;33m,\u001b[0m \u001b[1;33m(\u001b[0m\u001b[0mnp\u001b[0m\u001b[1;33m.\u001b[0m\u001b[0mndarray\u001b[0m\u001b[1;33m,\u001b[0m \u001b[0mABCSeries\u001b[0m\u001b[1;33m,\u001b[0m \u001b[0mpd\u001b[0m\u001b[1;33m.\u001b[0m\u001b[0mIndex\u001b[0m\u001b[1;33m)\u001b[0m\u001b[1;33m)\u001b[0m\u001b[1;33m:\u001b[0m\u001b[1;33m\u001b[0m\u001b[0m\n",
      "\u001b[1;32mC:\\Users\\Jedrzej\\Anaconda3\\lib\\site-packages\\pandas\\core\\computation\\expressions.py\u001b[0m in \u001b[0;36mevaluate\u001b[1;34m(op, op_str, a, b, raise_on_error, use_numexpr, **eval_kwargs)\u001b[0m\n\u001b[0;32m    206\u001b[0m         \u001b[0muse_numexpr\u001b[0m \u001b[1;33m:\u001b[0m \u001b[0mwhether\u001b[0m \u001b[0mto\u001b[0m \u001b[1;32mtry\u001b[0m \u001b[0mto\u001b[0m \u001b[0muse\u001b[0m \u001b[0mnumexpr\u001b[0m \u001b[1;33m(\u001b[0m\u001b[0mdefault\u001b[0m \u001b[1;32mTrue\u001b[0m\u001b[1;33m)\u001b[0m\u001b[1;33m\u001b[0m\u001b[0m\n\u001b[0;32m    207\u001b[0m         \"\"\"\n\u001b[1;32m--> 208\u001b[1;33m     \u001b[0muse_numexpr\u001b[0m \u001b[1;33m=\u001b[0m \u001b[0muse_numexpr\u001b[0m \u001b[1;32mand\u001b[0m \u001b[0m_bool_arith_check\u001b[0m\u001b[1;33m(\u001b[0m\u001b[0mop_str\u001b[0m\u001b[1;33m,\u001b[0m \u001b[0ma\u001b[0m\u001b[1;33m,\u001b[0m \u001b[0mb\u001b[0m\u001b[1;33m)\u001b[0m\u001b[1;33m\u001b[0m\u001b[0m\n\u001b[0m\u001b[0;32m    209\u001b[0m     \u001b[1;32mif\u001b[0m \u001b[0muse_numexpr\u001b[0m\u001b[1;33m:\u001b[0m\u001b[1;33m\u001b[0m\u001b[0m\n\u001b[0;32m    210\u001b[0m         return _evaluate(op, op_str, a, b, raise_on_error=raise_on_error,\n",
      "\u001b[1;31mKeyboardInterrupt\u001b[0m: "
     ]
    }
   ],
   "source": [
    "print(\"Starting noise analysis loop...\")\n",
    "for file in filelist:\n",
    "    os.chdir(path_data)\n",
    "    timestep = str(os.path.basename(str(file)))[7:-4]\n",
    "    #time_static_p = pd.DataFrame(pd.read_csv(file, sep='/s+', header=0, usecols=[\"nodenumber\", \"pressure\"], skiprows=0, decimal='.')).set_index('nodenumber')\n",
    "    time_static_p = pd.DataFrame(pd.read_csv(file, delimiter=r\"\\s+\", header=0, usecols=[\"nodenumber\", \"pressure\"], skiprows=0, decimal='.')).set_index('nodenumber')\n",
    "    acoustic_p = time_static_p.subtract(avg_static_p, fill_value=None)\n",
    "    db = acoustic_p.apply(lambda x: 20 * np.log10(np.abs(x)/0.00002), axis=1)\n",
    "    acoustic_data = pd.concat([node_coords, acoustic_p, db], axis=1)\n",
    "    acoustic_data.columns = ['x-coordinate', 'y-coordinate', 'z-coordinate', 'sound-pressure', 'db-level']\n",
    "    os.chdir(path_acu)\n",
    "    acoustic_data.to_csv(str('int-01_acu_' + str(timestep) + '.dat'), sep=',')\n",
    "    print(str('int-01_acu_' + str(timestep) + '.dat done...'))\n",
    "print(\"Exiting noise analysis loop...\")"
   ]
  },
  {
   "cell_type": "code",
   "execution_count": 15,
   "metadata": {},
   "outputs": [
    {
     "name": "stdout",
     "output_type": "stream",
     "text": [
      "Starting plotting loop...\n",
      "int-01_acu_t_0001.png done...\n",
      "int-01_acu_t_0002.png done...\n",
      "int-01_acu_t_0003.png done...\n",
      "int-01_acu_t_0004.png done...\n",
      "int-01_acu_t_0005.png done...\n",
      "int-01_acu_t_0006.png done...\n",
      "int-01_acu_t_0007.png done...\n",
      "int-01_acu_t_0008.png done...\n",
      "int-01_acu_t_0009.png done...\n",
      "int-01_acu_t_0010.png done...\n",
      "int-01_acu_t_0011.png done...\n",
      "int-01_acu_t_0012.png done...\n",
      "int-01_acu_t_0013.png done...\n",
      "int-01_acu_t_0014.png done...\n",
      "int-01_acu_t_0015.png done...\n",
      "int-01_acu_t_0016.png done...\n",
      "int-01_acu_t_0017.png done...\n",
      "int-01_acu_t_0018.png done...\n",
      "int-01_acu_t_0019.png done...\n",
      "int-01_acu_t_0020.png done...\n",
      "int-01_acu_t_0021.png done...\n",
      "int-01_acu_t_0022.png done...\n",
      "int-01_acu_t_0023.png done...\n",
      "int-01_acu_t_0024.png done...\n",
      "int-01_acu_t_0025.png done...\n",
      "int-01_acu_t_0026.png done...\n",
      "int-01_acu_t_0027.png done...\n",
      "int-01_acu_t_0028.png done...\n",
      "int-01_acu_t_0029.png done...\n",
      "int-01_acu_t_0030.png done...\n",
      "int-01_acu_t_0031.png done...\n",
      "int-01_acu_t_0032.png done...\n",
      "int-01_acu_t_0033.png done...\n",
      "int-01_acu_t_0034.png done...\n",
      "int-01_acu_t_0035.png done...\n",
      "int-01_acu_t_0036.png done...\n",
      "int-01_acu_t_0037.png done...\n",
      "int-01_acu_t_0038.png done...\n",
      "int-01_acu_t_0039.png done...\n",
      "int-01_acu_t_0040.png done...\n",
      "int-01_acu_t_0041.png done...\n",
      "int-01_acu_t_0042.png done...\n",
      "int-01_acu_t_0043.png done...\n",
      "int-01_acu_t_0044.png done...\n",
      "int-01_acu_t_0045.png done...\n",
      "int-01_acu_t_0046.png done...\n",
      "int-01_acu_t_0047.png done...\n",
      "int-01_acu_t_0048.png done...\n",
      "int-01_acu_t_0049.png done...\n",
      "int-01_acu_t_0050.png done...\n",
      "int-01_acu_t_0051.png done...\n",
      "int-01_acu_t_0052.png done...\n",
      "int-01_acu_t_0053.png done...\n",
      "Exiting plotting loop...\n"
     ]
    }
   ],
   "source": [
    "print(\"Starting plotting loop...\")\n",
    "os.chdir(path_acu)\n",
    "filelist = os.listdir(path_acu)\n",
    "for file in filelist:\n",
    "    timestep = str(os.path.basename(str(file)))[11:-4]\n",
    "    os.chdir(path_acu)\n",
    "    acu = pd.read_csv(file, sep=',', decimal='.', header=0)\n",
    "    x = acu['x-coordinate']\n",
    "    y = acu['y-coordinate']\n",
    "    z = acu['z-coordinate']\n",
    "    spl = acu['sound-pressure']\n",
    "    dbl = acu['db-level']\n",
    "    fig, (ax0, ax1) = plt.subplots(nrows=2, figsize=(20, 20), dpi=300)\n",
    "    spl_plot = ax0.tricontourf(z, x, spl, 100, cmap=plt.cm.bone, vmin=-10000, vmax=10000)\n",
    "    fig.colorbar(spl_plot, ax=ax0)\n",
    "    ax0.set_title(str('Sound pressure. Int-01. Time: ' + str(timestep)))\n",
    "    dbl_plot = ax1.tricontourf(z, x, dbl, 100, cmap=plt.cm.jet, vmin=0, vmax=194)\n",
    "    fig.colorbar(dbl_plot, ax=ax1)\n",
    "    ax1.set_title(str('dB level. Int-01. Time: ' + str(timestep)))\n",
    "    os.chdir(path_plots)\n",
    "    plt.savefig(str('int-01_acu_t_' + str(timestep) + '.png'))\n",
    "    plt.close()\n",
    "    print(str('int-01_acu_t_' + str(timestep) + '.png done...'))\n",
    "print(\"Exiting plotting loop...\")"
   ]
  },
  {
   "cell_type": "code",
   "execution_count": null,
   "metadata": {
    "collapsed": true
   },
   "outputs": [],
   "source": []
  },
  {
   "cell_type": "code",
   "execution_count": null,
   "metadata": {
    "collapsed": true
   },
   "outputs": [],
   "source": []
  },
  {
   "cell_type": "code",
   "execution_count": null,
   "metadata": {
    "collapsed": true
   },
   "outputs": [],
   "source": []
  },
  {
   "cell_type": "markdown",
   "metadata": {},
   "source": [
    "squares = batch_data**2"
   ]
  },
  {
   "cell_type": "markdown",
   "metadata": {
    "scrolled": true
   },
   "source": [
    "squares"
   ]
  },
  {
   "cell_type": "markdown",
   "metadata": {
    "collapsed": true
   },
   "source": [
    "means = squares.groupby('nodenumber').mean().compute()"
   ]
  },
  {
   "cell_type": "markdown",
   "metadata": {},
   "source": [
    "roots = np.sqrt(means)\n",
    "roots"
   ]
  }
 ],
 "metadata": {
  "kernelspec": {
   "display_name": "Python 3",
   "language": "python",
   "name": "python3"
  },
  "language_info": {
   "codemirror_mode": {
    "name": "ipython",
    "version": 3
   },
   "file_extension": ".py",
   "mimetype": "text/x-python",
   "name": "python",
   "nbconvert_exporter": "python",
   "pygments_lexer": "ipython3",
   "version": "3.6.1"
  }
 },
 "nbformat": 4,
 "nbformat_minor": 2
}
