{
 "cells": [
  {
   "cell_type": "code",
   "execution_count": null,
   "metadata": {},
   "outputs": [],
   "source": [
    "#rms.py\n",
    "print(\"Loading Libraries...\")\n",
    "import os\n",
    "import csv\n",
    "import platform\n",
    "import numpy as np\n",
    "from scipy.fftpack import fft\n",
    "import pandas as pd\n",
    "import dask.dataframe as dd\n",
    "import math\n",
    "import matplotlib.pyplot as plt\n",
    "print(\"Loaded Libraries...\")"
   ]
  },
  {
   "cell_type": "code",
   "execution_count": null,
   "metadata": {},
   "outputs": [],
   "source": [
    "#Local\n",
    "print(\"Loading directories..\")\n",
    "path_acu = 'C:/Users/JMosiezny/Documents/01_PUT/01_DOKTORAT/13_PLGRID/noise-data/int-01-post/acu'\n",
    "path_rms = 'C:/Users/JMosiezny/Documents/01_PUT/01_DOKTORAT/15_results/rms'\n",
    "path_coords = 'C:/Users/JMosiezny/Documents/01_PUT/01_DOKTORAT/15_results/coords'\n",
    "print(\"Loaded directories...\")"
   ]
  },
  {
   "cell_type": "code",
   "execution_count": null,
   "metadata": {
    "collapsed": true
   },
   "outputs": [],
   "source": []
  },
  {
   "cell_type": "code",
   "execution_count": null,
   "metadata": {
    "collapsed": true
   },
   "outputs": [],
   "source": []
  },
  {
   "cell_type": "code",
   "execution_count": null,
   "metadata": {
    "scrolled": true
   },
   "outputs": [],
   "source": [
    "os.chdir(path_rms)\n",
    "rms_01 = pd.DataFrame(pd.read_csv('int-01-rms.dat'))\n",
    "print(rms_01['sound-pressure'].max())\n",
    "max_node_01 = list(np.where(rms_01['sound-pressure'] == rms_01['sound-pressure'].max())[0])\n",
    "max_node_01 = max_node_01[0]\n",
    "max_node_01\n",
    "os.chdir(path_coords)\n",
    "coords_01 = pd.DataFrame(pd.read_csv('int-01_coords.dat'))\n",
    "coords_01.iloc[[max_node_01 - 1]]"
   ]
  },
  {
   "cell_type": "code",
   "execution_count": null,
   "metadata": {},
   "outputs": [],
   "source": [
    "x = rms_01['nodenumber']\n",
    "y = rms_01['sound-pressure']\n",
    "\n",
    "fig = plt.figure(figsize=(10, 20))\n",
    "plt.scatter(x, y)\n",
    "plt.grid()\n",
    "plt.show()"
   ]
  },
  {
   "cell_type": "code",
   "execution_count": null,
   "metadata": {
    "collapsed": true
   },
   "outputs": [],
   "source": []
  },
  {
   "cell_type": "code",
   "execution_count": null,
   "metadata": {},
   "outputs": [],
   "source": [
    "os.chdir(path_rms)\n",
    "rms_tip = pd.DataFrame(pd.read_csv('int-tip-rms.dat'))\n",
    "print(rms_tip['sound-pressure'].max())\n",
    "max_node_tip = list(np.where(rms_tip['sound-pressure'] == rms_tip['sound-pressure'].max())[0])\n",
    "max_node_tip = max_node_tip[0]\n",
    "max_node_tip\n",
    "os.chdir(path_coords)\n",
    "coords_tip = pd.DataFrame(pd.read_csv('int-tip_coords.dat'))\n",
    "coords_tip.iloc[[max_node_tip - 1]]"
   ]
  },
  {
   "cell_type": "code",
   "execution_count": null,
   "metadata": {},
   "outputs": [],
   "source": [
    "x = rms_tip['nodenumber']\n",
    "y = rms_tip['sound-pressure']\n",
    "\n",
    "fig = plt.figure(figsize=(20, 10))\n",
    "plt.scatter(x, y)\n",
    "plt.grid()\n",
    "plt.show()"
   ]
  },
  {
   "cell_type": "code",
   "execution_count": null,
   "metadata": {
    "collapsed": true
   },
   "outputs": [],
   "source": [
    "28169,14626.922718673799,177.28245942279685,0.0,0.0,-inf\n",
    "28170,9284.065626288342,173.33416412057582,26.248865344478787,243696.1884737468,173.86848736662097"
   ]
  },
  {
   "cell_type": "code",
   "execution_count": null,
   "metadata": {
    "collapsed": true
   },
   "outputs": [],
   "source": []
  },
  {
   "cell_type": "code",
   "execution_count": null,
   "metadata": {
    "collapsed": true
   },
   "outputs": [],
   "source": []
  },
  {
   "cell_type": "code",
   "execution_count": null,
   "metadata": {
    "collapsed": true
   },
   "outputs": [],
   "source": []
  },
  {
   "cell_type": "code",
   "execution_count": null,
   "metadata": {
    "collapsed": true
   },
   "outputs": [],
   "source": [
    "print(\"Loading batch data...\")\n",
    "os.chdir(path_acu)\n",
    "batch_data = dd.read_csv('*1.dat', delimiter=\",\", decimal='.',usecols=[\"nodenumber\", \"sound-pressure\", \"sound-intensity\"])\n",
    "batch_data = batch_data.set_index(\"nodenumber\")\n",
    "print(\"Batch data done...\")\n",
    "\n",
    "rms = pd.DataFrame(batch_data.groupby('nodenumber').apply(lambda x: np.sqrt(np.mean(np.square(x))), meta={'sound-pressure': 'f8', 'sound-intensity': 'f8'}).compute())\n",
    "rms['rms_spldb'] = rms['sound-pressure'].apply(lambda x: 20*np.log10(x/0.00002))\n",
    "rms['rms_sildb'] = rms['sound-intensity'].apply(lambda x: 10*np.log10(x/1e-12))\n",
    "\n",
    "os.chdir(path_rms)\n",
    "rms.to_csv(str('int-01-rms.dat'), sep=\",\")"
   ]
  }
 ],
 "metadata": {
  "kernelspec": {
   "display_name": "Python 3",
   "language": "python",
   "name": "python3"
  },
  "language_info": {
   "codemirror_mode": {
    "name": "ipython",
    "version": 3
   },
   "file_extension": ".py",
   "mimetype": "text/x-python",
   "name": "python",
   "nbconvert_exporter": "python",
   "pygments_lexer": "ipython3",
   "version": "3.6.3"
  }
 },
 "nbformat": 4,
 "nbformat_minor": 2
}
