{
 "cells": [
  {
   "cell_type": "code",
   "execution_count": 5,
   "metadata": {},
   "outputs": [
    {
     "name": "stdout",
     "output_type": "stream",
     "text": [
      "Loading Libraries...\n",
      "Loaded Libraries...\n",
      "Starting code...\n",
      "Loading directories..\n",
      "Loaded directories...\n",
      "Saving FFT to dataframe...\n",
      "Dataframe saved...\n",
      "Script completed...\n"
     ]
    }
   ],
   "source": [
    "#fft.py\n",
    "print(\"Loading Libraries...\")\n",
    "import os\n",
    "import numpy as np\n",
    "# from scipy.fftpack import fft\n",
    "import pandas as pd\n",
    "print(\"Loaded Libraries...\")\n",
    "\n",
    "print(\"Starting code...\")\n",
    "'''\n",
    "#PLGRID\n",
    "print(\"Loading directories..\")\n",
    "path_acu = '/net/scratch/people/plgmosieznyj/SRS_v02/noise-data/int-tip-post/acu'\n",
    "path_fft = '/net/scratch/people/plgmosieznyj/SRS_v02/fft'\n",
    "print(\"Loaded directories...\")\n",
    "'''\n",
    "print(\"Loading directories..\")\n",
    "path_acu = 'C:/Users/JMosiezny/Documents/01_PUT/01_DOKTORAT/13_PLGRID/noise-data/int-tip-post/acu'\n",
    "path_fft = 'C:/Users/JMosiezny/Documents/01_PUT/01_DOKTORAT/15_results/fft'\n",
    "print(\"Loaded directories...\")\n",
    "\n",
    "filelist = sorted(os.listdir(path_acu))#[0::10]\n",
    "\n",
    "batch_data = pd.DataFrame()\n",
    "for file in filelist:\n",
    "    batch_data[file] = pd.read_csv(file).set_index('nodenumber')['sound-pressure']\n",
    "\n",
    "fft_data = batch_data.apply(lambda x: np.fft.fft(x), axis=1)\n",
    "\n",
    "print(\"Saving FFT to dataframe...\")\n",
    "#fft_data.set_index('nodenumber')\n",
    "os.chdir(path_fft)\n",
    "fft_data.to_csv('test-fft.csv', sep=',')\n",
    "print(\"Dataframe saved...\")\n",
    "print(\"Script completed...\")"
   ]
  }
 ],
 "metadata": {
  "kernelspec": {
   "display_name": "Python 3",
   "language": "python",
   "name": "python3"
  },
  "language_info": {
   "codemirror_mode": {
    "name": "ipython",
    "version": 3
   },
   "file_extension": ".py",
   "mimetype": "text/x-python",
   "name": "python",
   "nbconvert_exporter": "python",
   "pygments_lexer": "ipython3",
   "version": "3.6.6"
  }
 },
 "nbformat": 4,
 "nbformat_minor": 2
}
