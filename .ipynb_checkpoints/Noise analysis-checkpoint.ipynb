{
 "cells": [
  {
   "cell_type": "markdown",
   "metadata": {},
   "source": [
    "Load necessary packages"
   ]
  },
  {
   "cell_type": "code",
   "execution_count": 1,
   "metadata": {},
   "outputs": [
    {
     "name": "stdout",
     "output_type": "stream",
     "text": [
      "Python: 3.6.1\n",
      "numpy: 1.13.0\n",
      "pandas: 0.20.2\n",
      "scipy: 0.19.0\n",
      "scikit-learn: 0.18.1\n",
      "matplotlib: 2.0.2\n",
      "flask: 0.12.2\n"
     ]
    }
   ],
   "source": [
    "import os, sys\n",
    "import csv\n",
    "\n",
    "import platform\n",
    "print('Python: ' + platform.python_version())\n",
    "\n",
    "import numpy as np\n",
    "print('numpy: ' + np.__version__)\n",
    "\n",
    "import pandas as pd\n",
    "print('pandas: ' + pd.__version__)\n",
    "\n",
    "import scipy\n",
    "print('scipy: ' + scipy.__version__)\n",
    "\n",
    "import sklearn\n",
    "print('scikit-learn: ' + sklearn.__version__)\n",
    "\n",
    "import matplotlib as plt\n",
    "print('matplotlib: ' + plt.__version__)\n",
    "\n",
    "import flask\n",
    "print('flask: ' + flask.__version__)\n",
    "\n",
    "import math"
   ]
  },
  {
   "cell_type": "markdown",
   "metadata": {},
   "source": [
    "Reset if needed"
   ]
  },
  {
   "cell_type": "code",
   "execution_count": 2,
   "metadata": {},
   "outputs": [
    {
     "name": "stdout",
     "output_type": "stream",
     "text": [
      "Flushing output cache (0 entries)\n"
     ]
    }
   ],
   "source": [
    "reset -f out"
   ]
  },
  {
   "cell_type": "markdown",
   "metadata": {},
   "source": [
    "Change directory for data analysis"
   ]
  },
  {
   "cell_type": "code",
   "execution_count": 3,
   "metadata": {
    "collapsed": true
   },
   "outputs": [],
   "source": [
    "#path_gen = 'D:/01_Dokumenty/01_PUT/01_DOKTORAT/11_CFX/05_PhD runs/R67_fluent/peak_R67_hgt_512k/trn_des_v01/' #ścieżka do katalogu z interesującymi nas plikami\n",
    "path_data = './data/' #ścieżka do katalogu z interesującymi nas plikami\n",
    "path_post = './post/' #ścieżka do katalogu z interesującymi nas plikami"
   ]
  },
  {
   "cell_type": "markdown",
   "metadata": {},
   "source": [
    "Load file list"
   ]
  },
  {
   "cell_type": "code",
   "execution_count": 4,
   "metadata": {
    "scrolled": true
   },
   "outputs": [
    {
     "ename": "FileNotFoundError",
     "evalue": "[WinError 3] System nie może odnaleźć określonej ścieżki: '/data/'",
     "output_type": "error",
     "traceback": [
      "\u001b[1;31m---------------------------------------------------------------------------\u001b[0m",
      "\u001b[1;31mFileNotFoundError\u001b[0m                         Traceback (most recent call last)",
      "\u001b[1;32m<ipython-input-4-feeca6986eec>\u001b[0m in \u001b[0;36m<module>\u001b[1;34m()\u001b[0m\n\u001b[1;32m----> 1\u001b[1;33m \u001b[0mfilelist\u001b[0m \u001b[1;33m=\u001b[0m \u001b[0mos\u001b[0m\u001b[1;33m.\u001b[0m\u001b[0mlistdir\u001b[0m\u001b[1;33m(\u001b[0m\u001b[0mpath_data\u001b[0m\u001b[1;33m)\u001b[0m            \u001b[1;31m#Tworzy listę z plików w danym katalogu\u001b[0m\u001b[1;33m\u001b[0m\u001b[0m\n\u001b[0m\u001b[0;32m      2\u001b[0m \u001b[0mfilelist\u001b[0m\u001b[1;33m\u001b[0m\u001b[0m\n",
      "\u001b[1;31mFileNotFoundError\u001b[0m: [WinError 3] System nie może odnaleźć określonej ścieżki: '/data/'"
     ]
    }
   ],
   "source": [
    "filelist = os.listdir(path_data)            #Tworzy listę z plików w danym katalogu\n",
    "filelist"
   ]
  },
  {
   "cell_type": "markdown",
   "metadata": {},
   "source": [
    "Define nodes location"
   ]
  },
  {
   "cell_type": "code",
   "execution_count": null,
   "metadata": {
    "scrolled": true
   },
   "outputs": [],
   "source": [
    "os.chdir(path_data)\n",
    "coordinates = pd.read_csv('asdp_data-0001.dat', sep='\\s+', header=0, usecols=[\"nodenumber\", \"x-coordinate\", \"y-coordinate\", \"z-coordinate\"], skiprows=0, decimal='.')\n",
    "#coordinates[['nodenumber']] = coordinates[['nodenumber']].astype(int)\n",
    "coordinates"
   ]
  },
  {
   "cell_type": "markdown",
   "metadata": {},
   "source": [
    "Add first timestep"
   ]
  },
  {
   "cell_type": "code",
   "execution_count": null,
   "metadata": {},
   "outputs": [],
   "source": [
    "tsnum = str(os.path.basename(str(path_data + filelist[0])))\n",
    "tsnum = tsnum[10:-4]\n",
    "tsnum"
   ]
  },
  {
   "cell_type": "markdown",
   "metadata": {},
   "source": [
    "Add first pressure"
   ]
  },
  {
   "cell_type": "code",
   "execution_count": null,
   "metadata": {
    "scrolled": true
   },
   "outputs": [],
   "source": [
    "pstatic = pd.read_csv('asdp_data-0001.dat', sep='\\s+', header=0, usecols=[\"pressure\"], skiprows=0, decimal='.')\n",
    "#pstatic[['nodenumber']] = pstatic[['nodenumber']].astype(int) use usecols=[\"nodenumber\", \"pressure] if uncommented\n",
    "acupress = pd.DataFrame(data = pstatic)\n",
    "acupress.columns = [tsnum]\n",
    "acupress"
   ]
  },
  {
   "cell_type": "markdown",
   "metadata": {},
   "source": [
    "In loop add static pressure for other timesteps"
   ]
  },
  {
   "cell_type": "code",
   "execution_count": null,
   "metadata": {
    "scrolled": true
   },
   "outputs": [],
   "source": [
    "for file in filelist:\n",
    "    tsnum = str(os.path.basename(str(path_data + file)))\n",
    "    tsnum = tsnum[10:-4]\n",
    "    pstatic = pd.read_csv(file, sep='\\s+', header=0, usecols=[\"pressure\"], skiprows=0, decimal='.')\n",
    "    pstatic = pd.DataFrame(data = pstatic)\n",
    "    pstatic.columns = [tsnum]\n",
    "    frames = [acupress, pstatic]\n",
    "    acupress = pd.concat(frames, axis=1)\n",
    "#acupress = acupress.set_index('nodenumber')\n",
    "acupress"
   ]
  },
  {
   "cell_type": "code",
   "execution_count": null,
   "metadata": {},
   "outputs": [],
   "source": [
    "acupress.memory_usage(index=True)"
   ]
  },
  {
   "cell_type": "markdown",
   "metadata": {},
   "source": [
    "Calculate average static pressure for each point"
   ]
  },
  {
   "cell_type": "code",
   "execution_count": null,
   "metadata": {
    "scrolled": true
   },
   "outputs": [],
   "source": [
    "mean_pressure = []\n",
    "for index, row in acupress.iterrows():\n",
    "    row = acupress.iloc[index]\n",
    "    mean = np.mean(row)\n",
    "    mean_pressure.append(mean)\n",
    "mean_pressure = pd.Series(mean_pressure)\n",
    "mean_pressure"
   ]
  },
  {
   "cell_type": "markdown",
   "metadata": {},
   "source": [
    "Calculate deviation from average"
   ]
  },
  {
   "cell_type": "code",
   "execution_count": null,
   "metadata": {
    "scrolled": true
   },
   "outputs": [],
   "source": [
    "deviation = acupress.sub(mean_pressure, axis=0)\n",
    "deviation"
   ]
  },
  {
   "cell_type": "markdown",
   "metadata": {},
   "source": [
    "Calculate RMS & DB level"
   ]
  },
  {
   "cell_type": "code",
   "execution_count": null,
   "metadata": {
    "scrolled": true
   },
   "outputs": [],
   "source": [
    "rms = []\n",
    "db =[]\n",
    "for index, row in deviation.iterrows():\n",
    "    row = deviation.iloc[index]\n",
    "    point_rms = np.sqrt(np.mean(np.square(row)))\n",
    "    point_db = 20 * math.log10(point_rms/0.00002)\n",
    "    rms.append(point_rms)\n",
    "    db.append(point_db)\n",
    "    \n",
    "rms = pd.Series(rms)\n",
    "db = pd.Series(db)\n",
    "\n",
    "noise_information = pd.DataFrame({\n",
    "    'rms': rms,\n",
    "    'db': db\n",
    "})\n",
    "noise_information"
   ]
  },
  {
   "cell_type": "markdown",
   "metadata": {},
   "source": [
    "Calculate DB level in point for time"
   ]
  },
  {
   "cell_type": "code",
   "execution_count": null,
   "metadata": {
    "scrolled": true
   },
   "outputs": [],
   "source": [
    "deviation_abs = deviation.abs()\n",
    "time_db = 20 * np.log10(deviation_abs/0.00002)\n",
    "time_db"
   ]
  },
  {
   "cell_type": "markdown",
   "metadata": {},
   "source": [
    "Add scripts for plotting\n",
    "+ pressure_deviation(time) - for a control point, rms as a horizontal line\n",
    "+ db(time) - for a control point, ang db as a horizontal line\n",
    "+ x,y,pressure animated in time\n",
    "+ x,y, vorticity animated in time"
   ]
  },
  {
   "cell_type": "markdown",
   "metadata": {},
   "source": [
    "Add scripts fro calculation\n",
    "+ FFT for control point\n",
    "+ plot FFT for control point"
   ]
  },
  {
   "cell_type": "code",
   "execution_count": null,
   "metadata": {
    "collapsed": true
   },
   "outputs": [],
   "source": []
  }
 ],
 "metadata": {
  "kernelspec": {
   "display_name": "Python 3",
   "language": "python",
   "name": "python3"
  },
  "language_info": {
   "codemirror_mode": {
    "name": "ipython",
    "version": 3
   },
   "file_extension": ".py",
   "mimetype": "text/x-python",
   "name": "python",
   "nbconvert_exporter": "python",
   "pygments_lexer": "ipython3",
   "version": "3.6.1"
  }
 },
 "nbformat": 4,
 "nbformat_minor": 2
}
