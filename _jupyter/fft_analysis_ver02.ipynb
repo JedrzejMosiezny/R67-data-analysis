{
 "cells": [
  {
   "cell_type": "code",
   "execution_count": null,
   "metadata": {
    "collapsed": true
   },
   "outputs": [],
   "source": [
    "# trial for fft analysis"
   ]
  },
  {
   "cell_type": "code",
   "execution_count": 1,
   "metadata": {},
   "outputs": [
    {
     "name": "stdout",
     "output_type": "stream",
     "text": [
      "Loading Libraries...\n",
      "Loaded Libraries...\n"
     ]
    }
   ],
   "source": [
    "print(\"Loading Libraries...\")\n",
    "import os\n",
    "import csv\n",
    "import platform\n",
    "import numpy as np\n",
    "from scipy.fftpack import fft\n",
    "import pandas as pd\n",
    "import dask.dataframe as dd\n",
    "import math\n",
    "import matplotlib.pyplot as plt\n",
    "print(\"Loaded Libraries...\")"
   ]
  },
  {
   "cell_type": "code",
   "execution_count": 2,
   "metadata": {},
   "outputs": [
    {
     "name": "stdout",
     "output_type": "stream",
     "text": [
      "Loading directories..\n",
      "Loaded directories...\n"
     ]
    }
   ],
   "source": [
    "#Local\n",
    "print(\"Loading directories..\")\n",
    "#path_data = 'D:/01_DOKTORAT/13_PLGRID/noise-data/int-01'\n",
    "#path_post = 'C:/Users/JMosiezny/Documents/01_PUT/01_DOKTORAT/13_PLGRID/noise-data/int-01-post'\n",
    "path_acu = 'C:/Users/JMosiezny/Documents/01_PUT/01_DOKTORAT/13_PLGRID/noise-data/int-01-post/acu'\n",
    "#path_plots = 'C:/Users/JMosiezny/Documents/01_PUT/01_DOKTORAT/13_PLGRID/noise-data/int-01-post/plots'\n",
    "path_signal = 'C:/Users/JMosiezny/Documents/01_PUT/01_DOKTORAT/13_PLGRID/noise-data/int-01-post/signal'\n",
    "path_rms = 'C:/Users/JMosiezny/Documents/01_PUT/01_DOKTORAT/13_PLGRID/noise-data/int-01-post/rms'\n",
    "valid = 'C:/Users/JMosiezny/Documents/01_PUT/01_DOKTORAT/13_PLGRID/noise-data/int-01-post/valid'\n",
    "print(\"Loaded directories...\")"
   ]
  },
  {
   "cell_type": "code",
   "execution_count": null,
   "metadata": {
    "collapsed": true
   },
   "outputs": [],
   "source": [
    "#PUT Workstation\n",
    "print(\"Loading directories..\") \n",
    "#path_data = 'D:/01_DOKTORAT/13_PLGRID/noise-data/int-01'\n",
    "#path_post = 'D:/01_DOKTORAT/13_PLGRID/noise-data/int-01-post'\n",
    "path_acu = 'D:/01_DOKTORAT/13_PLGRID/noise-data/int-01-post/acu'\n",
    "#path_plots = 'D:/01_DOKTORAT/13_PLGRID/noise-data/int-01-post/plots'\n",
    "path_signal = 'D:/01_DOKTORAT/13_PLGRID/noise-data/int-01-post/signal'\n",
    "#path_rms = 'D:/01_DOKTORAT/13_PLGRID/noise-data/int-01-post/rms'\n",
    "print(\"Loaded directories...\")"
   ]
  },
  {
   "cell_type": "code",
   "execution_count": 9,
   "metadata": {
    "collapsed": true
   },
   "outputs": [],
   "source": [
    "def FFT_values(x):\n",
    "    #T = 0.050150  # Duration in seconds\n",
    "    T = 0.000114  # Duration in seconds\n",
    "    #f0 = 100  # Fundamental frequency\n",
    "    Fs = 1000  # Sampling frequency\n",
    "\n",
    "    # Time domain signal\n",
    "    #t = np.arange(0, T*Fs)/Fs\n",
    "    x = np.asarray(x)\n",
    "    N = x.size\n",
    "\n",
    "    # DFT\n",
    "    X = np.fft.fft(x)\n",
    "    #X_db = 20*np.log10(2*np.abs(X)/N)\n",
    "    #f = np.fft.fftfreq(N, 1/Fs)\n",
    "    #f = np.arange(0, N)*Fs/N\n",
    "    #return np.concatenate([X, X_db])\n",
    "    return np.concatenate([X])"
   ]
  },
  {
   "cell_type": "code",
   "execution_count": 10,
   "metadata": {
    "collapsed": true
   },
   "outputs": [],
   "source": [
    "def FFT_db(x):\n",
    "    #T = 0.050150  # Duration in seconds\n",
    "    T = 0.000114  # Duration in seconds\n",
    "    #f0 = 100  # Fundamental frequency\n",
    "    Fs = 1000  # Sampling frequency\n",
    "\n",
    "    # Time domain signal\n",
    "    t = np.arange(0, T*Fs)/Fs\n",
    "    x = np.asarray(x, np.float)\n",
    "    N = x.size\n",
    "\n",
    "    # DFT\n",
    "    X = np.fft.fft(x)\n",
    "    X_db = 20*np.log10(2*np.abs(X)/N)\n",
    "    #f = np.fft.fftfreq(N, 1/Fs)\n",
    "    #f = np.arange(0, N)*Fs/N\n",
    "    #return np.concatenate([X, X_db])\n",
    "    return np.concatenate([X_db])"
   ]
  },
  {
   "cell_type": "code",
   "execution_count": 11,
   "metadata": {
    "collapsed": true
   },
   "outputs": [],
   "source": [
    "def FFT_freq(x):\n",
    "    #T = 0.050150  # Duration in seconds\n",
    "    T = 0.000114  # Duration in seconds\n",
    "    #f0 = 100  # Fundamental frequency\n",
    "    Fs = 1000  # Sampling frequency\n",
    "    \n",
    "    # Time domain signal\n",
    "    t = np.arange(0, T*Fs)/Fs\n",
    "    x = np.asarray(x, np.float)\n",
    "    N = x.size\n",
    "    \n",
    "    f = np.arange(0, N)*Fs/N\n",
    "    return np.concatenate([f])"
   ]
  },
  {
   "cell_type": "code",
   "execution_count": 12,
   "metadata": {
    "scrolled": true
   },
   "outputs": [
    {
     "name": "stdout",
     "output_type": "stream",
     "text": [
      "Loading batch data...\n",
      "Batch data done...\n"
     ]
    }
   ],
   "source": [
    "print(\"Loading batch data...\")\n",
    "os.chdir(path_acu)\n",
    "batch_pressure = dd.read_csv('int-01*', delimiter=\",\", decimal='.',usecols=[\"nodenumber\", \"sound-pressure\"])\n",
    "print(\"Batch data done...\")"
   ]
  },
  {
   "cell_type": "code",
   "execution_count": null,
   "metadata": {
    "collapsed": true
   },
   "outputs": [],
   "source": [
    "fft_values1 = pd.DataFrame(batch_pressure.groupby('nodenumber').apply(lambda x: fft(x), meta=('sound-pressure-fft', 'f8')).compute()).sort_index(axis=0, level=None, ascending=True, inplace=False, kind='quicksort', na_position='last', sort_remaining=True)"
   ]
  },
  {
   "cell_type": "code",
   "execution_count": null,
   "metadata": {
    "scrolled": true
   },
   "outputs": [],
   "source": [
    "fft_values1"
   ]
  },
  {
   "cell_type": "code",
   "execution_count": null,
   "metadata": {
    "collapsed": true
   },
   "outputs": [],
   "source": [
    "fft_values2 = pd.DataFrame(batch_pressure.groupby('nodenumber').apply(lambda x: FFT_values(x), meta=('sound-pressure', 'f8')).compute()).sort_index(axis=0, level=None, ascending=True, inplace=False, kind='quicksort', na_position='last', sort_remaining=True)"
   ]
  },
  {
   "cell_type": "code",
   "execution_count": null,
   "metadata": {
    "scrolled": true
   },
   "outputs": [],
   "source": [
    "fft_values2"
   ]
  },
  {
   "cell_type": "code",
   "execution_count": 13,
   "metadata": {
    "collapsed": true,
    "scrolled": true
   },
   "outputs": [],
   "source": [
    "fft_values = pd.DataFrame(batch_pressure.groupby('nodenumber').apply(lambda x: FFT_values(x), meta=('sound-pressure', 'f8')).compute()).sort_index(axis=0, level=None, ascending=True, inplace=False, kind='quicksort', na_position='last', sort_remaining=True)\n",
    "fft_db = pd.DataFrame(batch_pressure.groupby('nodenumber').apply(lambda x: FFT_db(x), meta=('sound-pressure', 'f8')).compute()).sort_index(axis=0, level=None, ascending=True, inplace=False, kind='quicksort', na_position='last', sort_remaining=True)\n",
    "fft_freq = pd.DataFrame(batch_pressure.groupby('nodenumber').apply(lambda x: FFT_freq(x), meta=('sound-pressure', 'f8')).compute()).sort_index(axis=0, level=None, ascending=True, inplace=False, kind='quicksort', na_position='last', sort_remaining=True)"
   ]
  },
  {
   "cell_type": "code",
   "execution_count": 14,
   "metadata": {
    "scrolled": true
   },
   "outputs": [
    {
     "data": {
      "text/html": [
       "<div>\n",
       "<style>\n",
       "    .dataframe thead tr:only-child th {\n",
       "        text-align: right;\n",
       "    }\n",
       "\n",
       "    .dataframe thead th {\n",
       "        text-align: left;\n",
       "    }\n",
       "\n",
       "    .dataframe tbody tr th {\n",
       "        vertical-align: top;\n",
       "    }\n",
       "</style>\n",
       "<table border=\"1\" class=\"dataframe\">\n",
       "  <thead>\n",
       "    <tr style=\"text-align: right;\">\n",
       "      <th></th>\n",
       "      <th>sound-pressure</th>\n",
       "    </tr>\n",
       "    <tr>\n",
       "      <th>nodenumber</th>\n",
       "      <th></th>\n",
       "    </tr>\n",
       "  </thead>\n",
       "  <tbody>\n",
       "    <tr>\n",
       "      <th>1</th>\n",
       "      <td>[[(9.32169744367+0j), (-7.32169744367+0j)], [(...</td>\n",
       "    </tr>\n",
       "    <tr>\n",
       "      <th>2</th>\n",
       "      <td>[[(10.9592880764+0j), (-6.95928807638+0j)], [(...</td>\n",
       "    </tr>\n",
       "    <tr>\n",
       "      <th>3</th>\n",
       "      <td>[[(12.0215177994+0j), (-6.0215177994+0j)], [(1...</td>\n",
       "    </tr>\n",
       "    <tr>\n",
       "      <th>4</th>\n",
       "      <td>[[(13.0608694116+0j), (-5.06086941155+0j)], [(...</td>\n",
       "    </tr>\n",
       "    <tr>\n",
       "      <th>5</th>\n",
       "      <td>[[(14.0292851109+0j), (-4.02928511087+0j)], [(...</td>\n",
       "    </tr>\n",
       "    <tr>\n",
       "      <th>6</th>\n",
       "      <td>[[(14.8794960495+0j), (-2.87949604946+0j)], [(...</td>\n",
       "    </tr>\n",
       "    <tr>\n",
       "      <th>7</th>\n",
       "      <td>[[(15.6024209942+0j), (-1.60242099423+0j)], [(...</td>\n",
       "    </tr>\n",
       "    <tr>\n",
       "      <th>8</th>\n",
       "      <td>[[(16.2418485037+0j), (-0.241848503691+0j)], [...</td>\n",
       "    </tr>\n",
       "    <tr>\n",
       "      <th>9</th>\n",
       "      <td>[[(16.923314739+0j), (1.07668526102+0j)], [(20...</td>\n",
       "    </tr>\n",
       "    <tr>\n",
       "      <th>10</th>\n",
       "      <td>[[(17.5631309236+0j), (2.43686907635+0j)], [(2...</td>\n",
       "    </tr>\n",
       "    <tr>\n",
       "      <th>11</th>\n",
       "      <td>[[(18.2288196323+0j), (3.77118036769+0j)], [(2...</td>\n",
       "    </tr>\n",
       "    <tr>\n",
       "      <th>12</th>\n",
       "      <td>[[(18.9531711172+0j), (5.04682888275+0j)], [(2...</td>\n",
       "    </tr>\n",
       "    <tr>\n",
       "      <th>13</th>\n",
       "      <td>[[(19.8200923811+0j), (6.17990761895+0j)], [(2...</td>\n",
       "    </tr>\n",
       "    <tr>\n",
       "      <th>14</th>\n",
       "      <td>[[(20.9045099025+0j), (7.0954900975+0j)], [(25...</td>\n",
       "    </tr>\n",
       "    <tr>\n",
       "      <th>15</th>\n",
       "      <td>[[(21.9354500451+0j), (8.06454995493+0j)], [(2...</td>\n",
       "    </tr>\n",
       "    <tr>\n",
       "      <th>16</th>\n",
       "      <td>[[(23.0432730086+0j), (8.95672699141+0j)], [(2...</td>\n",
       "    </tr>\n",
       "    <tr>\n",
       "      <th>17</th>\n",
       "      <td>[[(24.3600710796+0j), (9.63992892044+0j)], [(2...</td>\n",
       "    </tr>\n",
       "    <tr>\n",
       "      <th>18</th>\n",
       "      <td>[[(25.8004994221+0j), (10.1995005779+0j)], [(2...</td>\n",
       "    </tr>\n",
       "    <tr>\n",
       "      <th>19</th>\n",
       "      <td>[[(27.3485189749+0j), (10.6514810251+0j)], [(2...</td>\n",
       "    </tr>\n",
       "    <tr>\n",
       "      <th>20</th>\n",
       "      <td>[[(29.0717090838+0j), (10.9282909162+0j)], [(3...</td>\n",
       "    </tr>\n",
       "    <tr>\n",
       "      <th>21</th>\n",
       "      <td>[[(30.5341385326+0j), (11.4658614674+0j)], [(3...</td>\n",
       "    </tr>\n",
       "    <tr>\n",
       "      <th>22</th>\n",
       "      <td>[[(31.4546367216+0j), (12.5453632784+0j)], [(3...</td>\n",
       "    </tr>\n",
       "    <tr>\n",
       "      <th>23</th>\n",
       "      <td>[[(32.1335832987+0j), (13.8664167013+0j)], [(3...</td>\n",
       "    </tr>\n",
       "    <tr>\n",
       "      <th>24</th>\n",
       "      <td>[[(32.7467075557+0j), (15.2532924443+0j)], [(3...</td>\n",
       "    </tr>\n",
       "    <tr>\n",
       "      <th>25</th>\n",
       "      <td>[[(33.4114352582+0j), (16.5885647418+0j)], [(3...</td>\n",
       "    </tr>\n",
       "    <tr>\n",
       "      <th>26</th>\n",
       "      <td>[[(34.3230637805+0j), (17.6769362195+0j)], [(3...</td>\n",
       "    </tr>\n",
       "    <tr>\n",
       "      <th>27</th>\n",
       "      <td>[[(35.4658589809+0j), (18.5341410191+0j)], [(3...</td>\n",
       "    </tr>\n",
       "    <tr>\n",
       "      <th>28</th>\n",
       "      <td>[[(36.963174394+0j), (19.036825606+0j)], [(34....</td>\n",
       "    </tr>\n",
       "    <tr>\n",
       "      <th>29</th>\n",
       "      <td>[[(38.7213858622+0j), (19.2786141378+0j)], [(3...</td>\n",
       "    </tr>\n",
       "    <tr>\n",
       "      <th>30</th>\n",
       "      <td>[[(40.3836269252+0j), (19.6163730748+0j)], [(3...</td>\n",
       "    </tr>\n",
       "    <tr>\n",
       "      <th>...</th>\n",
       "      <td>...</td>\n",
       "    </tr>\n",
       "    <tr>\n",
       "      <th>38109</th>\n",
       "      <td>[[(38161.6676075+0j), (38056.3323925+0j)], [(3...</td>\n",
       "    </tr>\n",
       "    <tr>\n",
       "      <th>38110</th>\n",
       "      <td>[[(38162.6676075+0j), (38057.3323925+0j)], [(3...</td>\n",
       "    </tr>\n",
       "    <tr>\n",
       "      <th>38111</th>\n",
       "      <td>[[(38163.6676075+0j), (38058.3323925+0j)], [(3...</td>\n",
       "    </tr>\n",
       "    <tr>\n",
       "      <th>38112</th>\n",
       "      <td>[[(38164.6676075+0j), (38059.3323925+0j)], [(3...</td>\n",
       "    </tr>\n",
       "    <tr>\n",
       "      <th>38113</th>\n",
       "      <td>[[(38165.6676075+0j), (38060.3323925+0j)], [(3...</td>\n",
       "    </tr>\n",
       "    <tr>\n",
       "      <th>38114</th>\n",
       "      <td>[[(38166.6676075+0j), (38061.3323925+0j)], [(3...</td>\n",
       "    </tr>\n",
       "    <tr>\n",
       "      <th>38115</th>\n",
       "      <td>[[(38167.6676075+0j), (38062.3323925+0j)], [(3...</td>\n",
       "    </tr>\n",
       "    <tr>\n",
       "      <th>38116</th>\n",
       "      <td>[[(38168.6676075+0j), (38063.3323925+0j)], [(3...</td>\n",
       "    </tr>\n",
       "    <tr>\n",
       "      <th>38117</th>\n",
       "      <td>[[(38169.6676075+0j), (38064.3323925+0j)], [(3...</td>\n",
       "    </tr>\n",
       "    <tr>\n",
       "      <th>38118</th>\n",
       "      <td>[[(38170.6676075+0j), (38065.3323925+0j)], [(3...</td>\n",
       "    </tr>\n",
       "    <tr>\n",
       "      <th>38119</th>\n",
       "      <td>[[(38171.6676075+0j), (38066.3323925+0j)], [(3...</td>\n",
       "    </tr>\n",
       "    <tr>\n",
       "      <th>38120</th>\n",
       "      <td>[[(38172.6676075+0j), (38067.3323925+0j)], [(3...</td>\n",
       "    </tr>\n",
       "    <tr>\n",
       "      <th>38121</th>\n",
       "      <td>[[(38173.6676075+0j), (38068.3323925+0j)], [(3...</td>\n",
       "    </tr>\n",
       "    <tr>\n",
       "      <th>38122</th>\n",
       "      <td>[[(38174.6676075+0j), (38069.3323925+0j)], [(3...</td>\n",
       "    </tr>\n",
       "    <tr>\n",
       "      <th>38123</th>\n",
       "      <td>[[(38175.6676075+0j), (38070.3323925+0j)], [(3...</td>\n",
       "    </tr>\n",
       "    <tr>\n",
       "      <th>38124</th>\n",
       "      <td>[[(38176.6676075+0j), (38071.3323925+0j)], [(3...</td>\n",
       "    </tr>\n",
       "    <tr>\n",
       "      <th>38125</th>\n",
       "      <td>[[(38177.6676075+0j), (38072.3323925+0j)], [(3...</td>\n",
       "    </tr>\n",
       "    <tr>\n",
       "      <th>38126</th>\n",
       "      <td>[[(38178.6676075+0j), (38073.3323925+0j)], [(3...</td>\n",
       "    </tr>\n",
       "    <tr>\n",
       "      <th>38127</th>\n",
       "      <td>[[(38179.6676075+0j), (38074.3323925+0j)], [(3...</td>\n",
       "    </tr>\n",
       "    <tr>\n",
       "      <th>38128</th>\n",
       "      <td>[[(38180.6676075+0j), (38075.3323925+0j)], [(3...</td>\n",
       "    </tr>\n",
       "    <tr>\n",
       "      <th>38129</th>\n",
       "      <td>[[(38181.6676075+0j), (38076.3323925+0j)], [(3...</td>\n",
       "    </tr>\n",
       "    <tr>\n",
       "      <th>38130</th>\n",
       "      <td>[[(38182.6676075+0j), (38077.3323925+0j)], [(3...</td>\n",
       "    </tr>\n",
       "    <tr>\n",
       "      <th>38131</th>\n",
       "      <td>[[(38183.6676075+0j), (38078.3323925+0j)], [(3...</td>\n",
       "    </tr>\n",
       "    <tr>\n",
       "      <th>38132</th>\n",
       "      <td>[[(38184.6676075+0j), (38079.3323925+0j)], [(3...</td>\n",
       "    </tr>\n",
       "    <tr>\n",
       "      <th>38133</th>\n",
       "      <td>[[(38185.6676075+0j), (38080.3323925+0j)], [(3...</td>\n",
       "    </tr>\n",
       "    <tr>\n",
       "      <th>38134</th>\n",
       "      <td>[[(38186.6676075+0j), (38081.3323925+0j)], [(3...</td>\n",
       "    </tr>\n",
       "    <tr>\n",
       "      <th>38135</th>\n",
       "      <td>[[(38187.6676075+0j), (38082.3323925+0j)], [(3...</td>\n",
       "    </tr>\n",
       "    <tr>\n",
       "      <th>38136</th>\n",
       "      <td>[[(38188.6676075+0j), (38083.3323925+0j)], [(3...</td>\n",
       "    </tr>\n",
       "    <tr>\n",
       "      <th>38137</th>\n",
       "      <td>[[(38189.6676075+0j), (38084.3323925+0j)], [(3...</td>\n",
       "    </tr>\n",
       "    <tr>\n",
       "      <th>38138</th>\n",
       "      <td>[[(38198.3084829+0j), (38077.6915171+0j)], [(3...</td>\n",
       "    </tr>\n",
       "  </tbody>\n",
       "</table>\n",
       "<p>38138 rows × 1 columns</p>\n",
       "</div>"
      ],
      "text/plain": [
       "                                               sound-pressure\n",
       "nodenumber                                                   \n",
       "1           [[(9.32169744367+0j), (-7.32169744367+0j)], [(...\n",
       "2           [[(10.9592880764+0j), (-6.95928807638+0j)], [(...\n",
       "3           [[(12.0215177994+0j), (-6.0215177994+0j)], [(1...\n",
       "4           [[(13.0608694116+0j), (-5.06086941155+0j)], [(...\n",
       "5           [[(14.0292851109+0j), (-4.02928511087+0j)], [(...\n",
       "6           [[(14.8794960495+0j), (-2.87949604946+0j)], [(...\n",
       "7           [[(15.6024209942+0j), (-1.60242099423+0j)], [(...\n",
       "8           [[(16.2418485037+0j), (-0.241848503691+0j)], [...\n",
       "9           [[(16.923314739+0j), (1.07668526102+0j)], [(20...\n",
       "10          [[(17.5631309236+0j), (2.43686907635+0j)], [(2...\n",
       "11          [[(18.2288196323+0j), (3.77118036769+0j)], [(2...\n",
       "12          [[(18.9531711172+0j), (5.04682888275+0j)], [(2...\n",
       "13          [[(19.8200923811+0j), (6.17990761895+0j)], [(2...\n",
       "14          [[(20.9045099025+0j), (7.0954900975+0j)], [(25...\n",
       "15          [[(21.9354500451+0j), (8.06454995493+0j)], [(2...\n",
       "16          [[(23.0432730086+0j), (8.95672699141+0j)], [(2...\n",
       "17          [[(24.3600710796+0j), (9.63992892044+0j)], [(2...\n",
       "18          [[(25.8004994221+0j), (10.1995005779+0j)], [(2...\n",
       "19          [[(27.3485189749+0j), (10.6514810251+0j)], [(2...\n",
       "20          [[(29.0717090838+0j), (10.9282909162+0j)], [(3...\n",
       "21          [[(30.5341385326+0j), (11.4658614674+0j)], [(3...\n",
       "22          [[(31.4546367216+0j), (12.5453632784+0j)], [(3...\n",
       "23          [[(32.1335832987+0j), (13.8664167013+0j)], [(3...\n",
       "24          [[(32.7467075557+0j), (15.2532924443+0j)], [(3...\n",
       "25          [[(33.4114352582+0j), (16.5885647418+0j)], [(3...\n",
       "26          [[(34.3230637805+0j), (17.6769362195+0j)], [(3...\n",
       "27          [[(35.4658589809+0j), (18.5341410191+0j)], [(3...\n",
       "28          [[(36.963174394+0j), (19.036825606+0j)], [(34....\n",
       "29          [[(38.7213858622+0j), (19.2786141378+0j)], [(3...\n",
       "30          [[(40.3836269252+0j), (19.6163730748+0j)], [(3...\n",
       "...                                                       ...\n",
       "38109       [[(38161.6676075+0j), (38056.3323925+0j)], [(3...\n",
       "38110       [[(38162.6676075+0j), (38057.3323925+0j)], [(3...\n",
       "38111       [[(38163.6676075+0j), (38058.3323925+0j)], [(3...\n",
       "38112       [[(38164.6676075+0j), (38059.3323925+0j)], [(3...\n",
       "38113       [[(38165.6676075+0j), (38060.3323925+0j)], [(3...\n",
       "38114       [[(38166.6676075+0j), (38061.3323925+0j)], [(3...\n",
       "38115       [[(38167.6676075+0j), (38062.3323925+0j)], [(3...\n",
       "38116       [[(38168.6676075+0j), (38063.3323925+0j)], [(3...\n",
       "38117       [[(38169.6676075+0j), (38064.3323925+0j)], [(3...\n",
       "38118       [[(38170.6676075+0j), (38065.3323925+0j)], [(3...\n",
       "38119       [[(38171.6676075+0j), (38066.3323925+0j)], [(3...\n",
       "38120       [[(38172.6676075+0j), (38067.3323925+0j)], [(3...\n",
       "38121       [[(38173.6676075+0j), (38068.3323925+0j)], [(3...\n",
       "38122       [[(38174.6676075+0j), (38069.3323925+0j)], [(3...\n",
       "38123       [[(38175.6676075+0j), (38070.3323925+0j)], [(3...\n",
       "38124       [[(38176.6676075+0j), (38071.3323925+0j)], [(3...\n",
       "38125       [[(38177.6676075+0j), (38072.3323925+0j)], [(3...\n",
       "38126       [[(38178.6676075+0j), (38073.3323925+0j)], [(3...\n",
       "38127       [[(38179.6676075+0j), (38074.3323925+0j)], [(3...\n",
       "38128       [[(38180.6676075+0j), (38075.3323925+0j)], [(3...\n",
       "38129       [[(38181.6676075+0j), (38076.3323925+0j)], [(3...\n",
       "38130       [[(38182.6676075+0j), (38077.3323925+0j)], [(3...\n",
       "38131       [[(38183.6676075+0j), (38078.3323925+0j)], [(3...\n",
       "38132       [[(38184.6676075+0j), (38079.3323925+0j)], [(3...\n",
       "38133       [[(38185.6676075+0j), (38080.3323925+0j)], [(3...\n",
       "38134       [[(38186.6676075+0j), (38081.3323925+0j)], [(3...\n",
       "38135       [[(38187.6676075+0j), (38082.3323925+0j)], [(3...\n",
       "38136       [[(38188.6676075+0j), (38083.3323925+0j)], [(3...\n",
       "38137       [[(38189.6676075+0j), (38084.3323925+0j)], [(3...\n",
       "38138       [[(38198.3084829+0j), (38077.6915171+0j)], [(3...\n",
       "\n",
       "[38138 rows x 1 columns]"
      ]
     },
     "execution_count": 14,
     "metadata": {},
     "output_type": "execute_result"
    }
   ],
   "source": [
    "fft_values"
   ]
  },
  {
   "cell_type": "code",
   "execution_count": null,
   "metadata": {
    "scrolled": true
   },
   "outputs": [],
   "source": [
    "fft_db"
   ]
  },
  {
   "cell_type": "code",
   "execution_count": null,
   "metadata": {
    "collapsed": true,
    "scrolled": true
   },
   "outputs": [],
   "source": [
    "fft_freq"
   ]
  },
  {
   "cell_type": "code",
   "execution_count": null,
   "metadata": {
    "collapsed": true
   },
   "outputs": [],
   "source": [
    "DB = fft_db.loc[2]\n",
    "FREQ = fft_freq.loc[2]\n",
    "VAL = fft_values.loc[2]"
   ]
  },
  {
   "cell_type": "code",
   "execution_count": null,
   "metadata": {
    "collapsed": true,
    "scrolled": true
   },
   "outputs": [],
   "source": [
    "FREQ"
   ]
  },
  {
   "cell_type": "code",
   "execution_count": null,
   "metadata": {
    "collapsed": true
   },
   "outputs": [],
   "source": [
    "DB"
   ]
  },
  {
   "cell_type": "code",
   "execution_count": null,
   "metadata": {},
   "outputs": [],
   "source": [
    "VAL"
   ]
  },
  {
   "cell_type": "code",
   "execution_count": null,
   "metadata": {
    "collapsed": true
   },
   "outputs": [],
   "source": []
  },
  {
   "cell_type": "code",
   "execution_count": null,
   "metadata": {
    "collapsed": true
   },
   "outputs": [],
   "source": [
    "# code validation"
   ]
  },
  {
   "cell_type": "code",
   "execution_count": null,
   "metadata": {
    "collapsed": true
   },
   "outputs": [],
   "source": [
    "def FFT(x):\n",
    "    \"\"\"A recursive implementation of the 1D Cooley-Tukey FFT\"\"\"\n",
    "    x = np.asarray(x, dtype=float)\n",
    "    N = x.shape[0]\n",
    "    \n",
    "    if N % 2 > 0:\n",
    "        raise ValueError(\"size of x must be a power of 2\")\n",
    "    elif N <= 32:  # this cutoff should be optimized\n",
    "        return DFT_slow(x)\n",
    "    else:\n",
    "        X_even = FFT(x[::2])\n",
    "        X_odd = FFT(x[1::2])\n",
    "        factor = np.exp(-2j * np.pi * np.arange(N) / N)\n",
    "        return np.concatenate([X_even + factor[:N / 2] * X_odd,\n",
    "                               X_even + factor[N / 2:] * X_odd])"
   ]
  },
  {
   "cell_type": "code",
   "execution_count": null,
   "metadata": {},
   "outputs": [],
   "source": [
    "T_test = 10  # Duration in seconds\n",
    "f0_test = 100  # Fundamental frequency\n",
    "Fs_test = 100000  # Sampling frequency\n",
    "\n",
    "# Time domain signal\n",
    "t_test = np.arange(0, T_test*Fs_test)/Fs_test\n",
    "x_test = np.sin(2*np.pi*f0_test*t_test)\n",
    "N_test = x_test.size\n",
    "\n",
    "# DFT\n",
    "X_test = np.fft.fft(x_test)\n",
    "X_db_test = 20*np.log10(2*np.abs(X_test)/N_test)\n",
    "#f = np.fft.fftfreq(N, 1/Fs)\n",
    "f_test = np.arange(0, N_test)*Fs_test/N_test\n",
    "\n",
    "plt.plot(f_test, X_db_test)\n",
    "plt.grid()\n",
    "plt.show()"
   ]
  },
  {
   "cell_type": "code",
   "execution_count": null,
   "metadata": {},
   "outputs": [],
   "source": [
    "t_test"
   ]
  },
  {
   "cell_type": "code",
   "execution_count": null,
   "metadata": {},
   "outputs": [],
   "source": [
    "x_test"
   ]
  },
  {
   "cell_type": "code",
   "execution_count": null,
   "metadata": {},
   "outputs": [],
   "source": [
    "X_test"
   ]
  }
 ],
 "metadata": {
  "kernelspec": {
   "display_name": "Python 3",
   "language": "python",
   "name": "python3"
  },
  "language_info": {
   "codemirror_mode": {
    "name": "ipython",
    "version": 3
   },
   "file_extension": ".py",
   "mimetype": "text/x-python",
   "name": "python",
   "nbconvert_exporter": "python",
   "pygments_lexer": "ipython3",
   "version": "3.6.3"
  }
 },
 "nbformat": 4,
 "nbformat_minor": 2
}
