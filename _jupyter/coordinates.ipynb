{
 "cells": [
  {
   "cell_type": "code",
   "execution_count": 1,
   "metadata": {},
   "outputs": [
    {
     "name": "stdout",
     "output_type": "stream",
     "text": [
      "Loading Libraries...\n"
     ]
    }
   ],
   "source": [
    "print(\"Loading Libraries...\")\n",
    "import os, sys\n",
    "import csv\n",
    "import platform\n",
    "import numpy as np\n",
    "import pandas as pd\n",
    "import dask.dataframe as dd"
   ]
  },
  {
   "cell_type": "code",
   "execution_count": 2,
   "metadata": {},
   "outputs": [
    {
     "name": "stdout",
     "output_type": "stream",
     "text": [
      "Loading directories..\n",
      "Loaded directories...\n"
     ]
    }
   ],
   "source": [
    "#Local\n",
    "print(\"Loading directories..\")\n",
    "path_coords = 'C:/Users/JMosiezny/Documents/01_PUT/01_DOKTORAT/15_results/coords'\n",
    "print(\"Loaded directories...\")"
   ]
  },
  {
   "cell_type": "code",
   "execution_count": 3,
   "metadata": {
    "collapsed": true
   },
   "outputs": [],
   "source": [
    "os.chdir(path_coords)\n",
    "filelist = os.listdir(path_coords)"
   ]
  },
  {
   "cell_type": "code",
   "execution_count": 4,
   "metadata": {},
   "outputs": [
    {
     "data": {
      "text/plain": [
       "['int-01_acu_33321.dat',\n",
       " 'int-02_acu_33321.dat',\n",
       " 'int-03_acu_33321.dat',\n",
       " 'int-04_acu_33321.dat',\n",
       " 'int-05_acu_33321.dat',\n",
       " 'int-06_acu_33321.dat',\n",
       " 'int-07_acu_33321.dat',\n",
       " 'int-08_acu_33321.dat',\n",
       " 'int-09_acu_33321.dat',\n",
       " 'int-10_acu_33321.dat',\n",
       " 'int-11_acu_33321.dat',\n",
       " 'int-12_acu_33321.dat',\n",
       " 'int-tip_acu_33321.dat',\n",
       " 'lead_acu_33321.dat',\n",
       " 'pside_acu_33321.dat',\n",
       " 'sside_acu_33321.dat',\n",
       " 'tip_acu_33321.dat',\n",
       " 'trail_acu_33321.dat']"
      ]
     },
     "execution_count": 4,
     "metadata": {},
     "output_type": "execute_result"
    }
   ],
   "source": [
    "filelist"
   ]
  },
  {
   "cell_type": "code",
   "execution_count": 8,
   "metadata": {},
   "outputs": [
    {
     "name": "stdout",
     "output_type": "stream",
     "text": [
      "Starting noise analysis loop...\n"
     ]
    }
   ],
   "source": [
    "print(\"Starting noise analysis loop...\")\n",
    "for file in filelist:\n",
    "    base_file = pd.read_csv(file, delimiter=\",\", decimal='.').set_index('nodenumber')\n",
    "    name = str(os.path.basename(str(file)))[-10:-4] #[8:-4] #dla tip\n",
    "    coords = base_file.iloc[:, :3]\n",
    "    coords.to_csv(str(name + '_coords.dat'), sep=',')"
   ]
  },
  {
   "cell_type": "code",
   "execution_count": null,
   "metadata": {
    "collapsed": true
   },
   "outputs": [],
   "source": [
    "#name = str(os.path.basename(str(file)))[-10:-4] #[8:-4] #dla tip"
   ]
  }
 ],
 "metadata": {
  "kernelspec": {
   "display_name": "Python 3",
   "language": "python",
   "name": "python3"
  },
  "language_info": {
   "codemirror_mode": {
    "name": "ipython",
    "version": 3
   },
   "file_extension": ".py",
   "mimetype": "text/x-python",
   "name": "python",
   "nbconvert_exporter": "python",
   "pygments_lexer": "ipython3",
   "version": "3.6.3"
  }
 },
 "nbformat": 4,
 "nbformat_minor": 2
}
