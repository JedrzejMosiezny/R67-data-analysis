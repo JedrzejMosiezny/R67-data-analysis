{
 "cells": [
  {
   "cell_type": "code",
   "execution_count": null,
   "metadata": {},
   "outputs": [],
   "source": [
    "# trial for fft analysis"
   ]
  },
  {
   "cell_type": "code",
   "execution_count": 1,
   "metadata": {},
   "outputs": [
    {
     "name": "stdout",
     "output_type": "stream",
     "text": [
      "Loading Libraries...\n",
      "Loaded Libraries...\n"
     ]
    }
   ],
   "source": [
    "print(\"Loading Libraries...\")\n",
    "import os\n",
    "import csv\n",
    "import platform\n",
    "import numpy as np\n",
    "from scipy.fftpack import fft\n",
    "from scipy.fftpack import fftfreq\n",
    "import pandas as pd\n",
    "import dask.dataframe as dd\n",
    "import math\n",
    "import matplotlib.pyplot as plt\n",
    "import timeit\n",
    "print(\"Loaded Libraries...\")"
   ]
  },
  {
   "cell_type": "code",
   "execution_count": 3,
   "metadata": {},
   "outputs": [
    {
     "name": "stdout",
     "output_type": "stream",
     "text": [
      "Loading directories..\n",
      "Loaded directories...\n"
     ]
    }
   ],
   "source": [
    "#Local\n",
    "print(\"Loading directories..\")\n",
    "#path_data = 'D:/01_DOKTORAT/13_PLGRID/noise-data/int-01'\n",
    "#path_post = 'C:/Users/JMosiezny/Documents/01_PUT/01_DOKTORAT/13_PLGRID/noise-data/int-01-post'\n",
    "path_acu = 'C:/Users/JMosiezny/Documents/01_PUT/01_DOKTORAT/13_PLGRID/noise-data/int-tip-post/acu'\n",
    "#path_plots = 'C:/Users/JMosiezny/Documents/01_PUT/01_DOKTORAT/13_PLGRID/noise-data/int-01-post/plots'\n",
    "path_signal = 'C:/Users/JMosiezny/Documents/01_PUT/01_DOKTORAT/13_PLGRID/noise-data/int-tip-post/signal'\n",
    "path_rms = 'C:/Users/JMosiezny/Documents/01_PUT/01_DOKTORAT/13_PLGRID/noise-data/int-tip-post/rms'\n",
    "valid = 'C:/Users/JMosiezny/Documents/01_PUT/01_DOKTORAT/13_PLGRID/noise-data/int-tip-post/valid'\n",
    "print(\"Loaded directories...\")"
   ]
  },
  {
   "cell_type": "code",
   "execution_count": 5,
   "metadata": {},
   "outputs": [
    {
     "name": "stdout",
     "output_type": "stream",
     "text": [
      "Loading directories..\n",
      "Loaded directories...\n"
     ]
    }
   ],
   "source": [
    "#PUT Workstation\n",
    "print(\"Loading directories..\") \n",
    "#path_data = 'D:/01_DOKTORAT/13_PLGRID/noise-data/int-01'\n",
    "#path_post = 'D:/01_DOKTORAT/13_PLGRID/noise-data/int-01-post'\n",
    "path_acu = 'D:/01_DOKTORAT/13_PLGRID/noise-data/int-01-post/acu'\n",
    "#path_plots = 'D:/01_DOKTORAT/13_PLGRID/noise-data/int-01-post/plots'\n",
    "path_signal = 'D:/01_DOKTORAT/13_PLGRID/noise-data/int-01-post/signal'\n",
    "#path_rms = 'D:/01_DOKTORAT/13_PLGRID/noise-data/int-01-post/rms'\n",
    "print(\"Loaded directories...\")"
   ]
  },
  {
   "cell_type": "code",
   "execution_count": null,
   "metadata": {},
   "outputs": [],
   "source": [
    "def FFT_values(x):\n",
    "    #T = 0.050150  # Duration in seconds\n",
    "    T = 0.000060  # Duration in seconds\n",
    "    Fs = 1000000  # Sampling frequency\n",
    "\n",
    "    # Time domain signal\n",
    "    #t = np.arange(0, T*Fs)/Fs\n",
    "    x = np.asarray(x)\n",
    "    N = x.size\n",
    "\n",
    "    # DFT\n",
    "    X = np.fft.fft(x)\n",
    "    #X_db = 20*np.log10(2*np.abs(X)/N)\n",
    "    #f = np.fft.fftfreq(N, 1/Fs)\n",
    "    #f = np.arange(0, N)*Fs/N\n",
    "    #return np.concatenate([X, X_db])\n",
    "    return np.concatenate([X])"
   ]
  },
  {
   "cell_type": "code",
   "execution_count": null,
   "metadata": {},
   "outputs": [],
   "source": [
    "def FFT_db(x):\n",
    "    #T = 0.050150  # Duration in seconds\n",
    "    T = 0.000114  # Duration in seconds\n",
    "    #f0 = 100  # Fundamental frequency\n",
    "    Fs = 25000  # Sampling frequency\n",
    "\n",
    "    # Time domain signal\n",
    "    t = np.arange(0, T*Fs)/Fs\n",
    "    x = np.asarray(x, np.float)\n",
    "    N = x.size\n",
    "\n",
    "    # DFT\n",
    "    X = np.fft.fft(x)\n",
    "    X_db = 20*np.log10(2*np.abs(X)/N)\n",
    "    #f = np.fft.fftfreq(N, 1/Fs)\n",
    "    #f = np.arange(0, N)*Fs/N\n",
    "    #return np.concatenate([X, X_db])\n",
    "    return np.concatenate([X_db])"
   ]
  },
  {
   "cell_type": "code",
   "execution_count": null,
   "metadata": {},
   "outputs": [],
   "source": [
    "def FFT_freq(x):\n",
    "    #T = 0.050150  # Duration in seconds\n",
    "    T = 0.000114  # Duration in seconds\n",
    "    #f0 = 100  # Fundamental frequency\n",
    "    Fs = 25000  # Sampling frequency\n",
    "    \n",
    "    # Time domain signal\n",
    "    t = np.arange(0, T*Fs)/Fs\n",
    "    x = np.asarray(x, np.float)\n",
    "    N = x.size\n",
    "    \n",
    "    f = np.arange(0, N)*Fs/N\n",
    "    return np.concatenate([f])"
   ]
  },
  {
   "cell_type": "code",
   "execution_count": null,
   "metadata": {},
   "outputs": [],
   "source": []
  },
  {
   "cell_type": "code",
   "execution_count": null,
   "metadata": {},
   "outputs": [],
   "source": [
    "def batch_fft(signal):\n",
    "    #T = 0.050150  # Duration in seconds\n",
    "    T = 0.000060  # Duration in seconds\n",
    "    #f0 = 100  # Fundamental frequency\n",
    "    Fs = 1000000  # Sampling frequency\n",
    "    \n",
    "    signal = np.asarray(signal)\n",
    "    N = signal.size    \n",
    "    \n",
    "    X_np = np.fft.fft(signal)\n",
    "    X_np_mag = 2*np.sqrt(X_np.real[:N//2]**2 + X_np.imag[:N//2]**2)/N\n",
    "    X_np_phase = np.arctan(X_np.imag[:N//2]/X_np.real[:N//2])\n",
    "    #f_np = np.arange(0, N//2)*Fs/N\n",
    "    \n",
    "    node_fft = [X_np_mag, X_np_phase]\n",
    "    \n",
    "    return node_fft"
   ]
  },
  {
   "cell_type": "code",
   "execution_count": null,
   "metadata": {},
   "outputs": [],
   "source": [
    "def scipy_fft(y):\n",
    "    y = np.asarray(y)\n",
    "    N = len(y)\n",
    "    T = 1.0 / 100000\n",
    "    x = np.linspace(0.0, N*T, N)\n",
    "    yf = fft(y)\n",
    "    xf = np.linspace(0.0, 1.0/(2.0*T), N)\n",
    "    return [xf, yf]"
   ]
  },
  {
   "cell_type": "code",
   "execution_count": 6,
   "metadata": {
    "scrolled": true
   },
   "outputs": [
    {
     "name": "stdout",
     "output_type": "stream",
     "text": [
      "Loading batch data...\n"
     ]
    },
    {
     "ename": "KeyboardInterrupt",
     "evalue": "",
     "output_type": "error",
     "traceback": [
      "\u001b[1;31m---------------------------------------------------------------------------\u001b[0m",
      "\u001b[1;31mKeyboardInterrupt\u001b[0m                         Traceback (most recent call last)",
      "\u001b[1;32m<ipython-input-6-df11efc782d7>\u001b[0m in \u001b[0;36m<module>\u001b[1;34m()\u001b[0m\n\u001b[0;32m      2\u001b[0m \u001b[0mos\u001b[0m\u001b[1;33m.\u001b[0m\u001b[0mchdir\u001b[0m\u001b[1;33m(\u001b[0m\u001b[0mpath_acu\u001b[0m\u001b[1;33m)\u001b[0m\u001b[1;33m\u001b[0m\u001b[0m\n\u001b[0;32m      3\u001b[0m \u001b[0mbatch_pressure\u001b[0m \u001b[1;33m=\u001b[0m \u001b[0mdd\u001b[0m\u001b[1;33m.\u001b[0m\u001b[0mread_csv\u001b[0m\u001b[1;33m(\u001b[0m\u001b[1;34m'int-*'\u001b[0m\u001b[1;33m,\u001b[0m \u001b[0mdelimiter\u001b[0m\u001b[1;33m=\u001b[0m\u001b[1;34m\",\"\u001b[0m\u001b[1;33m,\u001b[0m \u001b[0mdecimal\u001b[0m\u001b[1;33m=\u001b[0m\u001b[1;34m'.'\u001b[0m\u001b[1;33m,\u001b[0m\u001b[0musecols\u001b[0m\u001b[1;33m=\u001b[0m\u001b[1;33m[\u001b[0m\u001b[1;34m\"nodenumber\"\u001b[0m\u001b[1;33m,\u001b[0m \u001b[1;34m\"sound-pressure\"\u001b[0m\u001b[1;33m]\u001b[0m\u001b[1;33m)\u001b[0m\u001b[1;33m\u001b[0m\u001b[0m\n\u001b[1;32m----> 4\u001b[1;33m \u001b[0mbatch_pressure\u001b[0m \u001b[1;33m=\u001b[0m \u001b[0mbatch_pressure\u001b[0m\u001b[1;33m.\u001b[0m\u001b[0mset_index\u001b[0m\u001b[1;33m(\u001b[0m\u001b[1;34m\"nodenumber\"\u001b[0m\u001b[1;33m)\u001b[0m\u001b[1;33m\u001b[0m\u001b[0m\n\u001b[0m\u001b[0;32m      5\u001b[0m \u001b[0mprint\u001b[0m\u001b[1;33m(\u001b[0m\u001b[1;34m\"Batch data done...\"\u001b[0m\u001b[1;33m)\u001b[0m\u001b[1;33m\u001b[0m\u001b[0m\n",
      "\u001b[1;32mC:\\ProgramData\\Anaconda3\\lib\\site-packages\\dask\\dataframe\\core.py\u001b[0m in \u001b[0;36mset_index\u001b[1;34m(***failed resolving arguments***)\u001b[0m\n\u001b[0;32m   2465\u001b[0m             \u001b[1;32mfrom\u001b[0m \u001b[1;33m.\u001b[0m\u001b[0mshuffle\u001b[0m \u001b[1;32mimport\u001b[0m \u001b[0mset_index\u001b[0m\u001b[1;33m\u001b[0m\u001b[0m\n\u001b[0;32m   2466\u001b[0m             return set_index(self, other, drop=drop, npartitions=npartitions,\n\u001b[1;32m-> 2467\u001b[1;33m                              divisions=divisions, **kwargs)\n\u001b[0m\u001b[0;32m   2468\u001b[0m \u001b[1;33m\u001b[0m\u001b[0m\n\u001b[0;32m   2469\u001b[0m     \u001b[1;33m@\u001b[0m\u001b[0mderived_from\u001b[0m\u001b[1;33m(\u001b[0m\u001b[0mpd\u001b[0m\u001b[1;33m.\u001b[0m\u001b[0mDataFrame\u001b[0m\u001b[1;33m)\u001b[0m\u001b[1;33m\u001b[0m\u001b[0m\n",
      "\u001b[1;32mC:\\ProgramData\\Anaconda3\\lib\\site-packages\\dask\\dataframe\\shuffle.py\u001b[0m in \u001b[0;36mset_index\u001b[1;34m(df, index, npartitions, shuffle, compute, drop, upsample, divisions, partition_size, **kwargs)\u001b[0m\n\u001b[0;32m     62\u001b[0m         \u001b[0mmins\u001b[0m \u001b[1;33m=\u001b[0m \u001b[1;33m[\u001b[0m\u001b[0mipart\u001b[0m\u001b[1;33m.\u001b[0m\u001b[0mmin\u001b[0m\u001b[1;33m(\u001b[0m\u001b[1;33m)\u001b[0m \u001b[1;32mfor\u001b[0m \u001b[0mipart\u001b[0m \u001b[1;32min\u001b[0m \u001b[0miparts\u001b[0m\u001b[1;33m]\u001b[0m\u001b[1;33m\u001b[0m\u001b[0m\n\u001b[0;32m     63\u001b[0m         \u001b[0mmaxes\u001b[0m \u001b[1;33m=\u001b[0m \u001b[1;33m[\u001b[0m\u001b[0mipart\u001b[0m\u001b[1;33m.\u001b[0m\u001b[0mmax\u001b[0m\u001b[1;33m(\u001b[0m\u001b[1;33m)\u001b[0m \u001b[1;32mfor\u001b[0m \u001b[0mipart\u001b[0m \u001b[1;32min\u001b[0m \u001b[0miparts\u001b[0m\u001b[1;33m]\u001b[0m\u001b[1;33m\u001b[0m\u001b[0m\n\u001b[1;32m---> 64\u001b[1;33m         \u001b[0mdivisions\u001b[0m\u001b[1;33m,\u001b[0m \u001b[0msizes\u001b[0m\u001b[1;33m,\u001b[0m \u001b[0mmins\u001b[0m\u001b[1;33m,\u001b[0m \u001b[0mmaxes\u001b[0m \u001b[1;33m=\u001b[0m \u001b[0mbase\u001b[0m\u001b[1;33m.\u001b[0m\u001b[0mcompute\u001b[0m\u001b[1;33m(\u001b[0m\u001b[0mdivisions\u001b[0m\u001b[1;33m,\u001b[0m \u001b[0msizes\u001b[0m\u001b[1;33m,\u001b[0m \u001b[0mmins\u001b[0m\u001b[1;33m,\u001b[0m \u001b[0mmaxes\u001b[0m\u001b[1;33m)\u001b[0m\u001b[1;33m\u001b[0m\u001b[0m\n\u001b[0m\u001b[0;32m     65\u001b[0m         \u001b[0mdivisions\u001b[0m \u001b[1;33m=\u001b[0m \u001b[0mdivisions\u001b[0m\u001b[1;33m.\u001b[0m\u001b[0mtolist\u001b[0m\u001b[1;33m(\u001b[0m\u001b[1;33m)\u001b[0m\u001b[1;33m\u001b[0m\u001b[0m\n\u001b[0;32m     66\u001b[0m \u001b[1;33m\u001b[0m\u001b[0m\n",
      "\u001b[1;32mC:\\ProgramData\\Anaconda3\\lib\\site-packages\\dask\\base.py\u001b[0m in \u001b[0;36mcompute\u001b[1;34m(*args, **kwargs)\u001b[0m\n\u001b[0;32m    398\u001b[0m                              \"the `get` kwarg or globally with `set_options`.\")\n\u001b[0;32m    399\u001b[0m \u001b[1;33m\u001b[0m\u001b[0m\n\u001b[1;32m--> 400\u001b[1;33m     \u001b[0mdsk\u001b[0m \u001b[1;33m=\u001b[0m \u001b[0mcollections_to_dsk\u001b[0m\u001b[1;33m(\u001b[0m\u001b[0mvariables\u001b[0m\u001b[1;33m,\u001b[0m \u001b[0moptimize_graph\u001b[0m\u001b[1;33m,\u001b[0m \u001b[1;33m**\u001b[0m\u001b[0mkwargs\u001b[0m\u001b[1;33m)\u001b[0m\u001b[1;33m\u001b[0m\u001b[0m\n\u001b[0m\u001b[0;32m    401\u001b[0m     \u001b[0mkeys\u001b[0m \u001b[1;33m=\u001b[0m \u001b[1;33m[\u001b[0m\u001b[0mvar\u001b[0m\u001b[1;33m.\u001b[0m\u001b[0m__dask_keys__\u001b[0m\u001b[1;33m(\u001b[0m\u001b[1;33m)\u001b[0m \u001b[1;32mfor\u001b[0m \u001b[0mvar\u001b[0m \u001b[1;32min\u001b[0m \u001b[0mvariables\u001b[0m\u001b[1;33m]\u001b[0m\u001b[1;33m\u001b[0m\u001b[0m\n\u001b[0;32m    402\u001b[0m     postcomputes = [a.__dask_postcompute__() if is_dask_collection(a)\n",
      "\u001b[1;32mC:\\ProgramData\\Anaconda3\\lib\\site-packages\\dask\\base.py\u001b[0m in \u001b[0;36mcollections_to_dsk\u001b[1;34m(collections, optimize_graph, **kwargs)\u001b[0m\n\u001b[0;32m    251\u001b[0m         \u001b[0mgroups\u001b[0m \u001b[1;33m=\u001b[0m \u001b[0mgroupby\u001b[0m\u001b[1;33m(\u001b[0m\u001b[0moptimization_function\u001b[0m\u001b[1;33m,\u001b[0m \u001b[0mcollections\u001b[0m\u001b[1;33m)\u001b[0m\u001b[1;33m\u001b[0m\u001b[0m\n\u001b[0;32m    252\u001b[0m         groups = {opt: _extract_graph_and_keys(val)\n\u001b[1;32m--> 253\u001b[1;33m                   for opt, val in groups.items()}\n\u001b[0m\u001b[0;32m    254\u001b[0m \u001b[1;33m\u001b[0m\u001b[0m\n\u001b[0;32m    255\u001b[0m         \u001b[1;32mfor\u001b[0m \u001b[0mopt\u001b[0m \u001b[1;32min\u001b[0m \u001b[0moptimizations\u001b[0m\u001b[1;33m:\u001b[0m\u001b[1;33m\u001b[0m\u001b[0m\n",
      "\u001b[1;32mC:\\ProgramData\\Anaconda3\\lib\\site-packages\\dask\\base.py\u001b[0m in \u001b[0;36m<dictcomp>\u001b[1;34m(.0)\u001b[0m\n\u001b[0;32m    251\u001b[0m         \u001b[0mgroups\u001b[0m \u001b[1;33m=\u001b[0m \u001b[0mgroupby\u001b[0m\u001b[1;33m(\u001b[0m\u001b[0moptimization_function\u001b[0m\u001b[1;33m,\u001b[0m \u001b[0mcollections\u001b[0m\u001b[1;33m)\u001b[0m\u001b[1;33m\u001b[0m\u001b[0m\n\u001b[0;32m    252\u001b[0m         groups = {opt: _extract_graph_and_keys(val)\n\u001b[1;32m--> 253\u001b[1;33m                   for opt, val in groups.items()}\n\u001b[0m\u001b[0;32m    254\u001b[0m \u001b[1;33m\u001b[0m\u001b[0m\n\u001b[0;32m    255\u001b[0m         \u001b[1;32mfor\u001b[0m \u001b[0mopt\u001b[0m \u001b[1;32min\u001b[0m \u001b[0moptimizations\u001b[0m\u001b[1;33m:\u001b[0m\u001b[1;33m\u001b[0m\u001b[0m\n",
      "\u001b[1;32mC:\\ProgramData\\Anaconda3\\lib\\site-packages\\dask\\base.py\u001b[0m in \u001b[0;36m_extract_graph_and_keys\u001b[1;34m(vals)\u001b[0m\n\u001b[0;32m    274\u001b[0m         \u001b[1;32mif\u001b[0m \u001b[0mhasattr\u001b[0m\u001b[1;33m(\u001b[0m\u001b[0md\u001b[0m\u001b[1;33m,\u001b[0m \u001b[1;34m'dicts'\u001b[0m\u001b[1;33m)\u001b[0m\u001b[1;33m:\u001b[0m\u001b[1;33m\u001b[0m\u001b[0m\n\u001b[0;32m    275\u001b[0m             \u001b[1;32mfor\u001b[0m \u001b[0mdd\u001b[0m \u001b[1;32min\u001b[0m \u001b[0md\u001b[0m\u001b[1;33m.\u001b[0m\u001b[0mdicts\u001b[0m\u001b[1;33m.\u001b[0m\u001b[0mvalues\u001b[0m\u001b[1;33m(\u001b[0m\u001b[1;33m)\u001b[0m\u001b[1;33m:\u001b[0m\u001b[1;33m\u001b[0m\u001b[0m\n\u001b[1;32m--> 276\u001b[1;33m                 \u001b[0mdsk\u001b[0m\u001b[1;33m.\u001b[0m\u001b[0mupdate\u001b[0m\u001b[1;33m(\u001b[0m\u001b[0mdd\u001b[0m\u001b[1;33m)\u001b[0m\u001b[1;33m\u001b[0m\u001b[0m\n\u001b[0m\u001b[0;32m    277\u001b[0m         \u001b[1;32melse\u001b[0m\u001b[1;33m:\u001b[0m\u001b[1;33m\u001b[0m\u001b[0m\n\u001b[0;32m    278\u001b[0m             \u001b[0mdsk\u001b[0m\u001b[1;33m.\u001b[0m\u001b[0mupdate\u001b[0m\u001b[1;33m(\u001b[0m\u001b[0md\u001b[0m\u001b[1;33m)\u001b[0m\u001b[1;33m\u001b[0m\u001b[0m\n",
      "\u001b[1;31mKeyboardInterrupt\u001b[0m: "
     ]
    }
   ],
   "source": [
    "print(\"Loading batch data...\")\n",
    "os.chdir(path_acu)\n",
    "batch_pressure = dd.read_csv('int-*', delimiter=\",\", decimal='.',usecols=[\"nodenumber\", \"sound-pressure\"])\n",
    "batch_pressure = batch_pressure.set_index(\"nodenumber\")\n",
    "print(\"Batch data done...\")"
   ]
  },
  {
   "cell_type": "code",
   "execution_count": null,
   "metadata": {},
   "outputs": [],
   "source": [
    "fft_batch = batch_pressure.groupby('nodenumber').apply(lambda x: fft(x), meta=('node-fft-data', 'f8')).compute()"
   ]
  },
  {
   "cell_type": "code",
   "execution_count": null,
   "metadata": {},
   "outputs": [],
   "source": [
    "fft_batch.to_csv(str('int-tip_fft_test.dat'), sep=\",\")"
   ]
  },
  {
   "cell_type": "code",
   "execution_count": null,
   "metadata": {},
   "outputs": [],
   "source": [
    "fft_batch.iloc[0]#[:30]"
   ]
  },
  {
   "cell_type": "code",
   "execution_count": null,
   "metadata": {},
   "outputs": [],
   "source": [
    "f_np = np.arange(0, 30)*100000/60"
   ]
  },
  {
   "cell_type": "code",
   "execution_count": null,
   "metadata": {},
   "outputs": [],
   "source": [
    "plt.plot(f_np[:60//4], fft_batch.iloc[0][0][0][:60//4])\n",
    "#plt.plot(f_np[:N//4], X_np_phase[:N//4])\n",
    "#plt.plot(f_sp.real, X_sp.real)\n",
    "plt.grid()\n",
    "plt.show()"
   ]
  },
  {
   "cell_type": "code",
   "execution_count": null,
   "metadata": {},
   "outputs": [],
   "source": [
    "f_np.size"
   ]
  },
  {
   "cell_type": "code",
   "execution_count": null,
   "metadata": {
    "scrolled": true
   },
   "outputs": [],
   "source": [
    "#fft_values = pd.DataFrame(batch_pressure.groupby('nodenumber').apply(lambda x: FFT_values(x), meta=('sound-pressure', 'f8')).compute()).sort_index(axis=0, level=None, ascending=True, inplace=False, kind='quicksort', na_position='last', sort_remaining=True)\n",
    "fft_db = pd.DataFrame(batch_pressure.groupby('nodenumber').apply(lambda x: FFT_db(x), meta=('sound-pressure', 'f8')).compute()).sort_index(axis=0, level=None, ascending=True, inplace=False, kind='quicksort', na_position='last', sort_remaining=True)\n",
    "fft_freq = pd.DataFrame(batch_pressure.groupby('nodenumber').apply(lambda x: FFT_freq(x), meta=('sound-pressure', 'f8')).compute()).sort_index(axis=0, level=None, ascending=True, inplace=False, kind='quicksort', na_position='last', sort_remaining=True)"
   ]
  },
  {
   "cell_type": "code",
   "execution_count": null,
   "metadata": {},
   "outputs": [],
   "source": []
  },
  {
   "cell_type": "code",
   "execution_count": null,
   "metadata": {},
   "outputs": [],
   "source": []
  },
  {
   "cell_type": "code",
   "execution_count": null,
   "metadata": {
    "scrolled": true
   },
   "outputs": [],
   "source": [
    "os.chdir(valid)\n",
    "fft_db.to_csv(str('int-01_fft_db.dat'), sep=\",\")\n",
    "fft_db"
   ]
  },
  {
   "cell_type": "code",
   "execution_count": null,
   "metadata": {
    "scrolled": true
   },
   "outputs": [],
   "source": [
    "os.chdir(valid)\n",
    "fft_freq.to_csv(str('int-01_fft_freq.dat'), sep=\",\")\n",
    "fft_freq"
   ]
  },
  {
   "cell_type": "code",
   "execution_count": null,
   "metadata": {},
   "outputs": [],
   "source": [
    "j = 1\n",
    "node_DB = fft_db.loc[j].values[0]\n",
    "node_FREQ = fft_freq.loc[j].values[0]\n",
    "node_DB_max = np.max(node_DB)\n",
    "node_DB_deviation = np.divide((np.abs(np.mean(node_DB))) - np.abs(node_DB_max), np.std(node_DB))\n",
    "node_FREQ_max = node_FREQ[np.flatnonzero(node_DB == np.max(node_DB))][0]\n",
    "node_fft_max = {'nodenumber': [j], 'node_DB_max': [node_DB_max], 'node_DB_deviation': [node_DB_deviation], 'node_FREQ_max': [node_FREQ_max]}\n",
    "node_fft_max = pd.DataFrame(data = node_fft_max)\n",
    "#node_fft_max.columns = ['nodenumber', 'node_DB_max', 'node_DB_deviation', 'node_FREQ_max']\n",
    "#node_fft_max_i.append(node_fft_max)\n",
    "\n",
    "nodelist = list(range(2, 38138+1))\n",
    "for i in nodelist:\n",
    "    node_DB = fft_db.loc[i].values[0]\n",
    "    node_FREQ = fft_freq.loc[i].values[0]\n",
    "    node_DB_max = np.max(node_DB)\n",
    "    node_DB_deviation = np.divide((np.abs(np.mean(node_DB)) - np.abs(node_DB_max)), np.std(node_DB))\n",
    "    node_FREQ_max = node_FREQ[np.flatnonzero(node_DB == np.max(node_DB))][0]\n",
    "    node_fft_max_i = {'nodenumber': [i], 'node_DB_max': [node_DB_max], 'node_DB_deviation': [node_DB_deviation], 'node_FREQ_max': [node_FREQ_max]}\n",
    "    node_fft_max_i = pd.DataFrame(data = node_fft_max_i)\n",
    "    #node_fft_max_i.columns = ['nodenumber', 'node_DB_max', 'node_DB_deviation', 'node_FREQ_max']\n",
    "    node_fft_max = node_fft_max.append(node_fft_max_i, ignore_index=True)\n",
    "    print(str('Node ' + str(i) + ' done...'))"
   ]
  },
  {
   "cell_type": "code",
   "execution_count": null,
   "metadata": {
    "scrolled": true
   },
   "outputs": [],
   "source": [
    "node_fft_max = node_fft_max.set_index('nodenumber')\n",
    "node_fft_max"
   ]
  },
  {
   "cell_type": "code",
   "execution_count": null,
   "metadata": {
    "scrolled": true
   },
   "outputs": [],
   "source": [
    "i = 3\n",
    "node_DB = fft_db.loc[i].values[0]\n",
    "node_DB"
   ]
  },
  {
   "cell_type": "code",
   "execution_count": null,
   "metadata": {},
   "outputs": [],
   "source": [
    "DB = fft_db.loc[2].values[0]\n",
    "#DB.to_csv(str('int-01_DB.dat'), sep=\",\")\n",
    "DB\n",
    "#FREQ = np.asarray(fft_freq.loc[2])[0]\n",
    "#FREQ\n",
    "#VAL = fft_values.loc[2]"
   ]
  },
  {
   "cell_type": "code",
   "execution_count": null,
   "metadata": {},
   "outputs": [],
   "source": [
    "np.std(DB)"
   ]
  },
  {
   "cell_type": "code",
   "execution_count": null,
   "metadata": {},
   "outputs": [],
   "source": [
    "np.abs(np.mean(DB))"
   ]
  },
  {
   "cell_type": "code",
   "execution_count": null,
   "metadata": {},
   "outputs": [],
   "source": [
    "np.max(DB)"
   ]
  },
  {
   "cell_type": "code",
   "execution_count": null,
   "metadata": {},
   "outputs": [],
   "source": [
    "dupa = np.flatnonzero(DB == np.max(DB))[0]"
   ]
  },
  {
   "cell_type": "code",
   "execution_count": null,
   "metadata": {},
   "outputs": [],
   "source": [
    "FREQ = fft_freq.loc[2].values[0]\n",
    "#FREQ.to_csv(str('int-01_FREQ.dat'), sep=\",\")\n",
    "FREQ[dupa]"
   ]
  },
  {
   "cell_type": "code",
   "execution_count": null,
   "metadata": {},
   "outputs": [],
   "source": [
    "FREQ = np.asarray(FREQ)\n",
    "FREQ = FREQ[0]\n",
    "FREQ"
   ]
  },
  {
   "cell_type": "code",
   "execution_count": null,
   "metadata": {},
   "outputs": [],
   "source": [
    "DB.to_csv(str('int-01_DB.dat'), sep=\",\")\n",
    "DB"
   ]
  },
  {
   "cell_type": "code",
   "execution_count": null,
   "metadata": {},
   "outputs": [],
   "source": [
    "VAL"
   ]
  },
  {
   "cell_type": "code",
   "execution_count": null,
   "metadata": {},
   "outputs": [],
   "source": [
    "DBRA = DB.values[0]\n",
    "DBRA.size"
   ]
  },
  {
   "cell_type": "code",
   "execution_count": null,
   "metadata": {
    "scrolled": true
   },
   "outputs": [],
   "source": [
    "plt.plot(FREQ, DB)\n",
    "plt.grid()\n",
    "plt.show()"
   ]
  },
  {
   "cell_type": "code",
   "execution_count": null,
   "metadata": {},
   "outputs": [],
   "source": [
    "# code validation"
   ]
  },
  {
   "cell_type": "code",
   "execution_count": null,
   "metadata": {},
   "outputs": [],
   "source": [
    "def FFT(x):\n",
    "    \"\"\"A recursive implementation of the 1D Cooley-Tukey FFT\"\"\"\n",
    "    x = np.asarray(x, dtype=float)\n",
    "    N = x.shape[0]\n",
    "    \n",
    "    if N % 2 > 0:\n",
    "        raise ValueError(\"size of x must be a power of 2\")\n",
    "    elif N <= 32:  # this cutoff should be optimized\n",
    "        return DFT_slow(x)\n",
    "    else:\n",
    "        X_even = FFT(x[::2])\n",
    "        X_odd = FFT(x[1::2])\n",
    "        factor = np.exp(-2j * np.pi * np.arange(N) / N)\n",
    "        return np.concatenate([X_even + factor[:N / 2] * X_odd,\n",
    "                               X_even + factor[N / 2:] * X_odd])"
   ]
  },
  {
   "cell_type": "code",
   "execution_count": null,
   "metadata": {},
   "outputs": [],
   "source": [
    "#NUMPY\n",
    "#signal props\n",
    "T_test = 0.05015  # Duration in seconds\n",
    "N = 50150 # Number of sample points\n",
    "Fs = N / T_test  # Sampling frequency [Hz]\n",
    "T = 1.0 / Fs # sample spacing\n",
    "\n",
    "# Time domain signal for test sinusoid\n",
    "f0_test = 1000  # Fundamental frequency\n",
    "t_test = np.arange(0, N)/Fs\n",
    "#N_test = t_test.size\n",
    "#signal = np.sin(2*np.pi*f0_test*t_test) + 0.5*np.sin(2*np.pi*2*f0_test*t_test) + 0.25*np.sin(2*np.pi*4*f0_test*t_test)\n",
    "\n",
    "signal = np.sin(2*np.pi*f0_test*t_test)\n",
    "i=3\n",
    "while i<=10:\n",
    "    f = np.sin(2*np.pi*i*f0_test*t_test)/i\n",
    "    signal = signal + f\n",
    "    i = i+2"
   ]
  },
  {
   "cell_type": "code",
   "execution_count": null,
   "metadata": {},
   "outputs": [],
   "source": [
    "# DFT Numpy\n",
    "X_np = np.fft.fft(signal)\n",
    "#X_db_np = 20*np.log10(2*np.abs(X_np)/N_test)\n",
    "X_np_mag = 2*np.sqrt(X_np.real[:N//2]**2 + X_np.imag[:N//2]**2)/N\n",
    "X_np_phase = np.arctan(X_np.imag[:N//2]/X_np.real[:N//2])\n",
    "f_np = np.arange(0, N//2)*Fs/N\n",
    "#f_np = np.fft.fftfreq(N, 1/Fs)\n",
    "#f_np = np.arange(0, N_test)*Fs/N"
   ]
  },
  {
   "cell_type": "code",
   "execution_count": null,
   "metadata": {},
   "outputs": [],
   "source": [
    "# DFT Scipy\n",
    "X_sp = fft(signal)\n",
    "#X_db_np = 20*np.log10(2*np.abs(X_np)/N_test)\n",
    "X_sp_mag = 2*np.sqrt(X_sp.real[:N//2]**2 + X_sp.imag[:N//2]**2)/N\n",
    "X_sp_phase = np.arctan(X_sp.imag[:N//2]/X_sp.real[:N//2])\n",
    "f_sp = np.arange(0, N//2)*Fs/N\n",
    "#f_np = np.fft.fftfreq(N, 1/Fs)\n",
    "#f_np = np.arange(0, N_test)*Fs/N"
   ]
  },
  {
   "cell_type": "code",
   "execution_count": null,
   "metadata": {},
   "outputs": [],
   "source": [
    "'''\n",
    "#Scipy\n",
    "#x = np.linspace(0.0, N*T, N)\n",
    "#y = np.sin(f0_test * 2.0*np.pi*x)\n",
    "\n",
    "# DFT\n",
    "X_sp = fft(signal)\n",
    "X_db_sp = 20*np.log10(2*np.abs(X_sp)/N)\n",
    "#xf = np.linspace(0.0, 1.0/(2.0*T), N)\n",
    "f_sp = fftfreq(N, T)\n",
    "\n",
    "\n",
    "plt.plot(absf_np.real, X_np.real)\n",
    "plt.plot(f_sp.real, X_sp.real)\n",
    "plt.grid()\n",
    "plt.show()'''"
   ]
  },
  {
   "cell_type": "code",
   "execution_count": null,
   "metadata": {},
   "outputs": [],
   "source": [
    "plt.figure(figsize=(20, 5), dpi=300)\n",
    "plt.plot(f_np[:N//40], X_np_mag[:N//40])\n",
    "plt.plot(f_sp[:N//40], X_sp_mag[:N//40])\n",
    "#plt.plot(f_sp.real, X_sp.real)\n",
    "plt.grid()\n",
    "plt.show()"
   ]
  },
  {
   "cell_type": "code",
   "execution_count": null,
   "metadata": {},
   "outputs": [],
   "source": [
    "plt.plot(signal[:1001])\n",
    "#plt.plot(abs(f_sp), X_db_sp)\n",
    "plt.grid()\n",
    "plt.show()"
   ]
  },
  {
   "cell_type": "code",
   "execution_count": null,
   "metadata": {},
   "outputs": [],
   "source": [
    "len(X_np)"
   ]
  },
  {
   "cell_type": "code",
   "execution_count": null,
   "metadata": {},
   "outputs": [],
   "source": [
    "plt.plot(t_test, x_test)\n",
    "#plt.plot(abs(xf), 20*np.log10(2*np.abs(yf)/N))\n",
    "plt.grid()\n",
    "plt.show()"
   ]
  },
  {
   "cell_type": "code",
   "execution_count": null,
   "metadata": {},
   "outputs": [],
   "source": [
    "# Number of sample points\n",
    "N = 50150\n",
    "# sample spacing\n",
    "T = 1.0 / 100000.0\n",
    "x = np.linspace(0.0, N*T, N)\n",
    "y = np.sin(1000.0 * 2.0*np.pi*x)\n",
    "yf = fft(y)\n",
    "#xf = np.linspace(0.0, 1.0/(2.0*T), N)\n",
    "xf = fftfreq(N, T)\n",
    "#plt.plot(xf, 2.0/N * np.abs(yf[0:N//2]))\n",
    "plt.plot(xf, 20*np.log10(2*np.abs(yf)/N))\n",
    "plt.grid()\n",
    "plt.show()"
   ]
  },
  {
   "cell_type": "code",
   "execution_count": null,
   "metadata": {},
   "outputs": [],
   "source": [
    "x"
   ]
  },
  {
   "cell_type": "code",
   "execution_count": null,
   "metadata": {},
   "outputs": [],
   "source": [
    "t_test"
   ]
  },
  {
   "cell_type": "code",
   "execution_count": null,
   "metadata": {},
   "outputs": [],
   "source": [
    "x_test"
   ]
  },
  {
   "cell_type": "code",
   "execution_count": null,
   "metadata": {},
   "outputs": [],
   "source": [
    "X_test"
   ]
  },
  {
   "cell_type": "code",
   "execution_count": null,
   "metadata": {},
   "outputs": [],
   "source": []
  },
  {
   "cell_type": "code",
   "execution_count": null,
   "metadata": {},
   "outputs": [],
   "source": []
  },
  {
   "cell_type": "code",
   "execution_count": 7,
   "metadata": {},
   "outputs": [
    {
     "name": "stdout",
     "output_type": "stream",
     "text": [
      "Loading Libraries...\n",
      "Loaded Libraries...\n",
      "Starting code...\n",
      "Loading directories..\n",
      "Loaded directories...\n",
      "Loading batch data...\n",
      "Batch data done...\n",
      "Calculating FFT...\n",
      "FFT Done..\n",
      "Saving FFT to dataframe...\n",
      "Dataframe saved...\n",
      "Script completed...\n"
     ]
    }
   ],
   "source": [
    "#fft.py\n",
    "print(\"Loading Libraries...\")\n",
    "import os\n",
    "import csv\n",
    "import platform\n",
    "import numpy as np\n",
    "from scipy.fftpack import fft\n",
    "import pandas as pd\n",
    "import dask.dataframe as dd\n",
    "import math\n",
    "#import matplotlib.pyplot as plt\n",
    "print(\"Loaded Libraries...\")\n",
    "\n",
    "print(\"Starting code...\")\n",
    "\n",
    "'''\n",
    "#PUT Workstation\n",
    "print(\"Loading directories..\") \n",
    "#path_data = 'D:/01_DOKTORAT/13_PLGRID/noise-data/int-01'\n",
    "#path_post = 'D:/01_DOKTORAT/13_PLGRID/noise-data/int-01-post'\n",
    "path_acu = 'D:/01_DOKTORAT/13_PLGRID/noise-data/int-01-post/acu'\n",
    "#path_plots = 'D:/01_DOKTORAT/13_PLGRID/noise-data/int-01-post/plots'\n",
    "#path_signal = 'D:/01_DOKTORAT/13_PLGRID/noise-data/int-01-post/signal'\n",
    "path_fft = 'D:/01_DOKTORAT/13_PLGRID/noise-data/int-01-post/fft'\n",
    "print(\"Loaded directories...\")\n",
    "'''\n",
    "#Local\n",
    "print(\"Loading directories..\")\n",
    "#path_data = 'D:/01_DOKTORAT/13_PLGRID/noise-data/int-01'\n",
    "#path_post = 'C:/Users/JMosiezny/Documents/01_PUT/01_DOKTORAT/13_PLGRID/noise-data/int-01-post'\n",
    "path_acu = 'C:/Users/JMosiezny/Documents/01_PUT/01_DOKTORAT/13_PLGRID/noise-data/int-tip-post/acu'\n",
    "#path_plots = 'C:/Users/JMosiezny/Documents/01_PUT/01_DOKTORAT/13_PLGRID/noise-data/int-01-post/plots'\n",
    "path_fft = 'C:/Users/JMosiezny/Documents/01_PUT/01_DOKTORAT/13_PLGRID/noise-data/fft'\n",
    "print(\"Loaded directories...\")\n",
    "\n",
    "'''\n",
    "#PLGRID\n",
    "print(\"Loading directories..\")\n",
    "#path_data = '/net/scratch/people/plgmosieznyj/SRS_v02/noise-data/int-01'\n",
    "#path_post = '/net/scratch/people/plgmosieznyj/SRS_v02/noise-data/int-01-post'\n",
    "path_acu = '/net/scratch/people/plgmosieznyj/SRS_v02/noise-data/int-01-post/acu'\n",
    "#path_plots = '/net/scratch/people/plgmosieznyj/SRS_v02/noise-data/int-01-post/plots'\n",
    "path_fft = '/net/scratch/people/plgmosieznyj/SRS_v02/noise-data/fft'\n",
    "print(\"Loaded directories...\")\n",
    "'''\n",
    "print(\"Loading batch data...\")\n",
    "os.chdir(path_acu)\n",
    "batch_pressure = dd.read_csv('*.dat', delimiter=\",\", decimal='.',usecols=[\"nodenumber\", \"sound-pressure\"]).set_index(\"nodenumber\")\n",
    "print(\"Batch data done...\")\n",
    "\n",
    "print(\"Calculating FFT...\") \n",
    "batch_fft = batch_pressure.groupby('nodenumber').apply(lambda x: fft(x), meta=('node-fourier-series', 'f8')).compute()\n",
    "print(\"FFT Done..\") \n",
    "\n",
    "print(\"Saving FFT to dataframe...\")\n",
    "#node_fft_max.set_index('nodenumber')\n",
    "os.chdir(path_fft)\n",
    "batch_fft.to_csv(str('int-01_fft.dat'), sep=\",\")\n",
    "print(\"Dataframe saved...\")\n",
    "print(\"Script completed...\")"
   ]
  }
 ],
 "metadata": {
  "kernelspec": {
   "display_name": "Python 3",
   "language": "python",
   "name": "python3"
  },
  "language_info": {
   "codemirror_mode": {
    "name": "ipython",
    "version": 3
   },
   "file_extension": ".py",
   "mimetype": "text/x-python",
   "name": "python",
   "nbconvert_exporter": "python",
   "pygments_lexer": "ipython3",
   "version": "3.6.5"
  }
 },
 "nbformat": 4,
 "nbformat_minor": 2
}
